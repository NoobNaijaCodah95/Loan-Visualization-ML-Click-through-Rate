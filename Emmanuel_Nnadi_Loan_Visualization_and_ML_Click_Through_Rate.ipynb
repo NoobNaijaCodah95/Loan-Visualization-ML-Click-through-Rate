{
  "cells": [
    {
      "cell_type": "markdown",
      "source": [
        "# This Section is strictly Loans which is seperate from the Click Through Rate project."
      ],
      "metadata": {
        "id": "EW_yQO6me6Er"
      }
    },
    {
      "cell_type": "markdown",
      "source": [
        "# *Section 1*: Loan Data Exploration Across Provinces.\n",
        "\n",
        "**Objective**: Creating visually appealing graphs giving insights on the data set."
      ],
      "metadata": {
        "id": "rP-jx-yGfGOJ"
      }
    },
    {
      "cell_type": "markdown",
      "metadata": {
        "id": "pxsjp_AoIoOc"
      },
      "source": [
        "## Data Exploration For Loans\n"
      ]
    },
    {
      "cell_type": "markdown",
      "metadata": {
        "id": "48AOZOnwyTNy"
      },
      "source": [
        "### Import Packages"
      ]
    },
    {
      "cell_type": "code",
      "execution_count": null,
      "metadata": {
        "id": "4q3QtXTWyRym"
      },
      "outputs": [],
      "source": [
        "import pandas as pd\n",
        "import numpy as np\n",
        "import matplotlib.pyplot as plt\n",
        "import imblearn\n",
        "import seaborn as sns\n",
        "import sklearn\n",
        "\n",
        "import numpy as np\n",
        "\n",
        "import imblearn\n",
        "\n",
        "from sklearn.model_selection import train_test_split\n",
        "from pandas.plotting import scatter_matrix\n",
        "from sklearn.ensemble import RandomForestClassifier\n",
        "\n",
        "from sklearn.datasets import make_blobs\n",
        "from sklearn.datasets import make_moons\n",
        "from sklearn.tree import DecisionTreeClassifier\n",
        "from sklearn.linear_model import LogisticRegression\n",
        "from sklearn.neighbors import KNeighborsClassifier\n",
        "from sklearn.ensemble import RandomForestClassifier\n",
        "from sklearn.svm import SVC\n",
        "from sklearn.metrics import classification_report, precision_score, recall_score, accuracy_score, confusion_matrix, f1_score\n",
        "from sklearn.preprocessing import StandardScaler\n",
        "\n",
        "from imblearn.over_sampling import SMOTE, RandomOverSampler\n",
        "from imblearn.under_sampling import RandomUnderSampler\n",
        "\n",
        "from sklearn.impute import KNNImputer\n",
        "from sklearn.impute import SimpleImputer\n",
        "\n"
      ]
    },
    {
      "cell_type": "markdown",
      "metadata": {
        "id": "OEupjSYdxP3R"
      },
      "source": [
        "### Data Upload"
      ]
    },
    {
      "cell_type": "code",
      "execution_count": null,
      "metadata": {
        "id": "j7trFCIzwQSv"
      },
      "outputs": [],
      "source": [
        "# Loan Data 2014/06/30\n",
        "df1 = pd.read_csv('/Users/emmanuelnnadi/Desktop/test2&3_data/test2_data/Test_Data_C_2014_06_30.csv')\n",
        "\n",
        "# Loan Data 2014/07/30\n",
        "df2 = pd.read_csv('/Users/emmanuelnnadi/Desktop/test2&3_data/test2_data/Test_Data_C_2014_07_30.csv')\n",
        "\n",
        "# Loan Data 2014/08/30\n",
        "df3 = pd.read_csv('/Users/emmanuelnnadi/Desktop/test2&3_data/test2_data/Test_Data_C_2014_08_30.csv')\n"
      ]
    },
    {
      "cell_type": "code",
      "execution_count": null,
      "metadata": {
        "colab": {
          "base_uri": "https://localhost:8080/"
        },
        "id": "lUnWc2vEyfis",
        "outputId": "9c54d2f2-254f-4886-b926-5eb9748b3cfb",
        "scrolled": true
      },
      "outputs": [
        {
          "data": {
            "text/plain": [
              "(13386, 8)"
            ]
          },
          "execution_count": 3,
          "metadata": {},
          "output_type": "execute_result"
        }
      ],
      "source": [
        "df1.shape"
      ]
    },
    {
      "cell_type": "code",
      "execution_count": null,
      "metadata": {
        "colab": {
          "base_uri": "https://localhost:8080/"
        },
        "id": "6wTUnxRvF9AH",
        "outputId": "cf54bf0a-c2f7-43fe-8a21-c487a50daf1d"
      },
      "outputs": [
        {
          "data": {
            "text/html": [
              "<div>\n",
              "<style scoped>\n",
              "    .dataframe tbody tr th:only-of-type {\n",
              "        vertical-align: middle;\n",
              "    }\n",
              "\n",
              "    .dataframe tbody tr th {\n",
              "        vertical-align: top;\n",
              "    }\n",
              "\n",
              "    .dataframe thead th {\n",
              "        text-align: right;\n",
              "    }\n",
              "</style>\n",
              "<table border=\"1\" class=\"dataframe\">\n",
              "  <thead>\n",
              "    <tr style=\"text-align: right;\">\n",
              "      <th></th>\n",
              "      <th>Unnamed: 0</th>\n",
              "      <th>ID</th>\n",
              "      <th>Dlq_stat</th>\n",
              "      <th>amounts</th>\n",
              "      <th>obs_date</th>\n",
              "      <th>Dlq_days</th>\n",
              "      <th>Vertical1</th>\n",
              "      <th>Province1</th>\n",
              "    </tr>\n",
              "  </thead>\n",
              "  <tbody>\n",
              "    <tr>\n",
              "      <th>0</th>\n",
              "      <td>1</td>\n",
              "      <td>F1</td>\n",
              "      <td>Current</td>\n",
              "      <td>389.628333</td>\n",
              "      <td>2014-06-30 12:00:00</td>\n",
              "      <td>NaN</td>\n",
              "      <td>Home Improvement</td>\n",
              "      <td>ON</td>\n",
              "    </tr>\n",
              "    <tr>\n",
              "      <th>1</th>\n",
              "      <td>2</td>\n",
              "      <td>F2</td>\n",
              "      <td>Current</td>\n",
              "      <td>2446.128333</td>\n",
              "      <td>2014-06-30 12:00:00</td>\n",
              "      <td>NaN</td>\n",
              "      <td>Vehicle</td>\n",
              "      <td>AB</td>\n",
              "    </tr>\n",
              "    <tr>\n",
              "      <th>2</th>\n",
              "      <td>3</td>\n",
              "      <td>F3</td>\n",
              "      <td>Current</td>\n",
              "      <td>2874.366667</td>\n",
              "      <td>2014-06-30 12:00:00</td>\n",
              "      <td>NaN</td>\n",
              "      <td>Home Improvement</td>\n",
              "      <td>ON</td>\n",
              "    </tr>\n",
              "    <tr>\n",
              "      <th>3</th>\n",
              "      <td>4</td>\n",
              "      <td>F4</td>\n",
              "      <td>Current</td>\n",
              "      <td>299.626667</td>\n",
              "      <td>2014-06-30 12:00:00</td>\n",
              "      <td>NaN</td>\n",
              "      <td>Home Improvement</td>\n",
              "      <td>ON</td>\n",
              "    </tr>\n",
              "    <tr>\n",
              "      <th>4</th>\n",
              "      <td>5</td>\n",
              "      <td>F5</td>\n",
              "      <td>Current</td>\n",
              "      <td>745.455000</td>\n",
              "      <td>2014-06-30 12:00:00</td>\n",
              "      <td>NaN</td>\n",
              "      <td>Home Improvement</td>\n",
              "      <td>Other Provinces</td>\n",
              "    </tr>\n",
              "  </tbody>\n",
              "</table>\n",
              "</div>"
            ],
            "text/plain": [
              "   Unnamed: 0  ID Dlq_stat      amounts             obs_date  Dlq_days  \\\n",
              "0           1  F1  Current   389.628333  2014-06-30 12:00:00       NaN   \n",
              "1           2  F2  Current  2446.128333  2014-06-30 12:00:00       NaN   \n",
              "2           3  F3  Current  2874.366667  2014-06-30 12:00:00       NaN   \n",
              "3           4  F4  Current   299.626667  2014-06-30 12:00:00       NaN   \n",
              "4           5  F5  Current   745.455000  2014-06-30 12:00:00       NaN   \n",
              "\n",
              "          Vertical1        Province1  \n",
              "0  Home Improvement               ON  \n",
              "1           Vehicle               AB  \n",
              "2  Home Improvement               ON  \n",
              "3  Home Improvement               ON  \n",
              "4  Home Improvement  Other Provinces  "
            ]
          },
          "execution_count": 4,
          "metadata": {},
          "output_type": "execute_result"
        }
      ],
      "source": [
        "df1.head()"
      ]
    },
    {
      "cell_type": "code",
      "execution_count": null,
      "metadata": {
        "colab": {
          "base_uri": "https://localhost:8080/"
        },
        "id": "nRsh-qAM5Lwm",
        "outputId": "5fc43d84-cda0-40c5-e975-0405c44cfbe6",
        "scrolled": false
      },
      "outputs": [
        {
          "data": {
            "text/plain": [
              "Index(['Unnamed: 0', 'ID', 'Dlq_stat', 'amounts', 'obs_date', 'Dlq_days',\n",
              "       'Vertical1', 'Province1'],\n",
              "      dtype='object')"
            ]
          },
          "execution_count": 5,
          "metadata": {},
          "output_type": "execute_result"
        }
      ],
      "source": [
        "df1.columns"
      ]
    },
    {
      "cell_type": "code",
      "execution_count": null,
      "metadata": {
        "id": "DcfFUpwe7UEx"
      },
      "outputs": [],
      "source": [
        "# I RENAMED THE COLUMNS FOR EASIER IDENTIFICATION\n",
        "\n",
        "new_col_names = {'Unnamed: 0': 'Index_num', 'Vertical1': 'Reason_for_loan', 'Province1': 'Province'}\n",
        "\n",
        "df1.rename(columns=new_col_names, inplace=True)"
      ]
    },
    {
      "cell_type": "code",
      "execution_count": null,
      "metadata": {
        "id": "4vKTeiDHebFp"
      },
      "outputs": [],
      "source": [
        "df1.drop(['Index_num', 'ID'], axis=1, inplace=True)"
      ]
    },
    {
      "cell_type": "markdown",
      "metadata": {
        "id": "gQYNAF95ebFp"
      },
      "source": [
        "I decided to drop the columns i felt were unnecessary"
      ]
    },
    {
      "cell_type": "code",
      "execution_count": null,
      "metadata": {
        "colab": {
          "base_uri": "https://localhost:8080/"
        },
        "id": "_p9G8omIylqJ",
        "outputId": "6e428f00-4696-44bd-8e56-d39db2085a15",
        "scrolled": true
      },
      "outputs": [
        {
          "data": {
            "text/html": [
              "<div>\n",
              "<style scoped>\n",
              "    .dataframe tbody tr th:only-of-type {\n",
              "        vertical-align: middle;\n",
              "    }\n",
              "\n",
              "    .dataframe tbody tr th {\n",
              "        vertical-align: top;\n",
              "    }\n",
              "\n",
              "    .dataframe thead th {\n",
              "        text-align: right;\n",
              "    }\n",
              "</style>\n",
              "<table border=\"1\" class=\"dataframe\">\n",
              "  <thead>\n",
              "    <tr style=\"text-align: right;\">\n",
              "      <th></th>\n",
              "      <th>Dlq_stat</th>\n",
              "      <th>amounts</th>\n",
              "      <th>obs_date</th>\n",
              "      <th>Dlq_days</th>\n",
              "      <th>Reason_for_loan</th>\n",
              "      <th>Province</th>\n",
              "    </tr>\n",
              "  </thead>\n",
              "  <tbody>\n",
              "    <tr>\n",
              "      <th>0</th>\n",
              "      <td>Current</td>\n",
              "      <td>389.628333</td>\n",
              "      <td>2014-06-30 12:00:00</td>\n",
              "      <td>NaN</td>\n",
              "      <td>Home Improvement</td>\n",
              "      <td>ON</td>\n",
              "    </tr>\n",
              "    <tr>\n",
              "      <th>1</th>\n",
              "      <td>Current</td>\n",
              "      <td>2446.128333</td>\n",
              "      <td>2014-06-30 12:00:00</td>\n",
              "      <td>NaN</td>\n",
              "      <td>Vehicle</td>\n",
              "      <td>AB</td>\n",
              "    </tr>\n",
              "    <tr>\n",
              "      <th>2</th>\n",
              "      <td>Current</td>\n",
              "      <td>2874.366667</td>\n",
              "      <td>2014-06-30 12:00:00</td>\n",
              "      <td>NaN</td>\n",
              "      <td>Home Improvement</td>\n",
              "      <td>ON</td>\n",
              "    </tr>\n",
              "    <tr>\n",
              "      <th>3</th>\n",
              "      <td>Current</td>\n",
              "      <td>299.626667</td>\n",
              "      <td>2014-06-30 12:00:00</td>\n",
              "      <td>NaN</td>\n",
              "      <td>Home Improvement</td>\n",
              "      <td>ON</td>\n",
              "    </tr>\n",
              "    <tr>\n",
              "      <th>4</th>\n",
              "      <td>Current</td>\n",
              "      <td>745.455000</td>\n",
              "      <td>2014-06-30 12:00:00</td>\n",
              "      <td>NaN</td>\n",
              "      <td>Home Improvement</td>\n",
              "      <td>Other Provinces</td>\n",
              "    </tr>\n",
              "  </tbody>\n",
              "</table>\n",
              "</div>"
            ],
            "text/plain": [
              "  Dlq_stat      amounts             obs_date  Dlq_days   Reason_for_loan  \\\n",
              "0  Current   389.628333  2014-06-30 12:00:00       NaN  Home Improvement   \n",
              "1  Current  2446.128333  2014-06-30 12:00:00       NaN           Vehicle   \n",
              "2  Current  2874.366667  2014-06-30 12:00:00       NaN  Home Improvement   \n",
              "3  Current   299.626667  2014-06-30 12:00:00       NaN  Home Improvement   \n",
              "4  Current   745.455000  2014-06-30 12:00:00       NaN  Home Improvement   \n",
              "\n",
              "          Province  \n",
              "0               ON  \n",
              "1               AB  \n",
              "2               ON  \n",
              "3               ON  \n",
              "4  Other Provinces  "
            ]
          },
          "execution_count": 8,
          "metadata": {},
          "output_type": "execute_result"
        }
      ],
      "source": [
        "df1.head()"
      ]
    },
    {
      "cell_type": "code",
      "execution_count": null,
      "metadata": {
        "colab": {
          "base_uri": "https://localhost:8080/"
        },
        "id": "zTA5Nm-pM3rH",
        "outputId": "05928c28-21b3-49ba-f1be-67874b76c7c2"
      },
      "outputs": [
        {
          "data": {
            "text/plain": [
              "ON                 4604\n",
              "Other Provinces    3482\n",
              "AB                 3112\n",
              "BC                 2188\n",
              "Name: Province, dtype: int64"
            ]
          },
          "execution_count": 9,
          "metadata": {},
          "output_type": "execute_result"
        }
      ],
      "source": [
        "df1['Province'].value_counts()"
      ]
    },
    {
      "cell_type": "code",
      "execution_count": null,
      "metadata": {
        "colab": {
          "base_uri": "https://localhost:8080/"
        },
        "id": "FuTvQm1myp_G",
        "outputId": "c179174c-be8f-4e2c-d806-72e1d8996b46"
      },
      "outputs": [
        {
          "data": {
            "text/plain": [
              "Dlq_stat               0\n",
              "amounts                0\n",
              "obs_date               0\n",
              "Dlq_days           13281\n",
              "Reason_for_loan        0\n",
              "Province               0\n",
              "dtype: int64"
            ]
          },
          "execution_count": 10,
          "metadata": {},
          "output_type": "execute_result"
        }
      ],
      "source": [
        "# Check for Null Values\n",
        "\n",
        "df1.isna().sum()"
      ]
    },
    {
      "cell_type": "code",
      "execution_count": null,
      "metadata": {
        "scrolled": false,
        "id": "3DqzBwITebFq",
        "outputId": "621f15d5-8d08-43cb-fccc-617abd264d23"
      },
      "outputs": [
        {
          "data": {
            "text/html": [
              "<div>\n",
              "<style scoped>\n",
              "    .dataframe tbody tr th:only-of-type {\n",
              "        vertical-align: middle;\n",
              "    }\n",
              "\n",
              "    .dataframe tbody tr th {\n",
              "        vertical-align: top;\n",
              "    }\n",
              "\n",
              "    .dataframe thead th {\n",
              "        text-align: right;\n",
              "    }\n",
              "</style>\n",
              "<table border=\"1\" class=\"dataframe\">\n",
              "  <thead>\n",
              "    <tr style=\"text-align: right;\">\n",
              "      <th></th>\n",
              "      <th>Dlq_stat</th>\n",
              "      <th>amounts</th>\n",
              "      <th>obs_date</th>\n",
              "      <th>Dlq_days</th>\n",
              "      <th>Reason_for_loan</th>\n",
              "      <th>Province</th>\n",
              "    </tr>\n",
              "  </thead>\n",
              "  <tbody>\n",
              "    <tr>\n",
              "      <th>0</th>\n",
              "      <td>Current</td>\n",
              "      <td>389.628333</td>\n",
              "      <td>2014-06-30 12:00:00</td>\n",
              "      <td>NaN</td>\n",
              "      <td>Home Improvement</td>\n",
              "      <td>ON</td>\n",
              "    </tr>\n",
              "    <tr>\n",
              "      <th>1</th>\n",
              "      <td>Current</td>\n",
              "      <td>2446.128333</td>\n",
              "      <td>2014-06-30 12:00:00</td>\n",
              "      <td>NaN</td>\n",
              "      <td>Vehicle</td>\n",
              "      <td>AB</td>\n",
              "    </tr>\n",
              "    <tr>\n",
              "      <th>2</th>\n",
              "      <td>Current</td>\n",
              "      <td>2874.366667</td>\n",
              "      <td>2014-06-30 12:00:00</td>\n",
              "      <td>NaN</td>\n",
              "      <td>Home Improvement</td>\n",
              "      <td>ON</td>\n",
              "    </tr>\n",
              "    <tr>\n",
              "      <th>3</th>\n",
              "      <td>Current</td>\n",
              "      <td>299.626667</td>\n",
              "      <td>2014-06-30 12:00:00</td>\n",
              "      <td>NaN</td>\n",
              "      <td>Home Improvement</td>\n",
              "      <td>ON</td>\n",
              "    </tr>\n",
              "    <tr>\n",
              "      <th>4</th>\n",
              "      <td>Current</td>\n",
              "      <td>745.455000</td>\n",
              "      <td>2014-06-30 12:00:00</td>\n",
              "      <td>NaN</td>\n",
              "      <td>Home Improvement</td>\n",
              "      <td>Other Provinces</td>\n",
              "    </tr>\n",
              "    <tr>\n",
              "      <th>...</th>\n",
              "      <td>...</td>\n",
              "      <td>...</td>\n",
              "      <td>...</td>\n",
              "      <td>...</td>\n",
              "      <td>...</td>\n",
              "      <td>...</td>\n",
              "    </tr>\n",
              "    <tr>\n",
              "      <th>13276</th>\n",
              "      <td>WriteOff</td>\n",
              "      <td>1119.666667</td>\n",
              "      <td>2014-06-30 12:00:00</td>\n",
              "      <td>NaN</td>\n",
              "      <td>Vehicle</td>\n",
              "      <td>AB</td>\n",
              "    </tr>\n",
              "    <tr>\n",
              "      <th>13369</th>\n",
              "      <td>WriteOff</td>\n",
              "      <td>2314.510000</td>\n",
              "      <td>2014-06-30 12:00:00</td>\n",
              "      <td>NaN</td>\n",
              "      <td>Vehicle</td>\n",
              "      <td>AB</td>\n",
              "    </tr>\n",
              "    <tr>\n",
              "      <th>13370</th>\n",
              "      <td>WriteOff</td>\n",
              "      <td>1119.666667</td>\n",
              "      <td>2014-06-30 12:00:00</td>\n",
              "      <td>NaN</td>\n",
              "      <td>Vehicle</td>\n",
              "      <td>AB</td>\n",
              "    </tr>\n",
              "    <tr>\n",
              "      <th>13371</th>\n",
              "      <td>WriteOff</td>\n",
              "      <td>174.728333</td>\n",
              "      <td>2014-06-30 12:00:00</td>\n",
              "      <td>NaN</td>\n",
              "      <td>Vehicle</td>\n",
              "      <td>AB</td>\n",
              "    </tr>\n",
              "    <tr>\n",
              "      <th>13383</th>\n",
              "      <td>WriteOff</td>\n",
              "      <td>350.861667</td>\n",
              "      <td>2014-06-30 12:00:00</td>\n",
              "      <td>NaN</td>\n",
              "      <td>Vehicle</td>\n",
              "      <td>AB</td>\n",
              "    </tr>\n",
              "  </tbody>\n",
              "</table>\n",
              "<p>13281 rows × 6 columns</p>\n",
              "</div>"
            ],
            "text/plain": [
              "       Dlq_stat      amounts             obs_date  Dlq_days   Reason_for_loan  \\\n",
              "0       Current   389.628333  2014-06-30 12:00:00       NaN  Home Improvement   \n",
              "1       Current  2446.128333  2014-06-30 12:00:00       NaN           Vehicle   \n",
              "2       Current  2874.366667  2014-06-30 12:00:00       NaN  Home Improvement   \n",
              "3       Current   299.626667  2014-06-30 12:00:00       NaN  Home Improvement   \n",
              "4       Current   745.455000  2014-06-30 12:00:00       NaN  Home Improvement   \n",
              "...         ...          ...                  ...       ...               ...   \n",
              "13276  WriteOff  1119.666667  2014-06-30 12:00:00       NaN           Vehicle   \n",
              "13369  WriteOff  2314.510000  2014-06-30 12:00:00       NaN           Vehicle   \n",
              "13370  WriteOff  1119.666667  2014-06-30 12:00:00       NaN           Vehicle   \n",
              "13371  WriteOff   174.728333  2014-06-30 12:00:00       NaN           Vehicle   \n",
              "13383  WriteOff   350.861667  2014-06-30 12:00:00       NaN           Vehicle   \n",
              "\n",
              "              Province  \n",
              "0                   ON  \n",
              "1                   AB  \n",
              "2                   ON  \n",
              "3                   ON  \n",
              "4      Other Provinces  \n",
              "...                ...  \n",
              "13276               AB  \n",
              "13369               AB  \n",
              "13370               AB  \n",
              "13371               AB  \n",
              "13383               AB  \n",
              "\n",
              "[13281 rows x 6 columns]"
            ]
          },
          "execution_count": 11,
          "metadata": {},
          "output_type": "execute_result"
        }
      ],
      "source": [
        "# Since Delinquency has to do with delayed payments, i wanted to check how many NaN were in fact current.\n",
        "df1[df1['Dlq_days'].isna()]"
      ]
    },
    {
      "cell_type": "code",
      "execution_count": null,
      "metadata": {
        "id": "YTO9uKqQebFr",
        "outputId": "09b371a2-fc31-425e-f89b-bc8b7abeee37"
      },
      "outputs": [
        {
          "data": {
            "text/plain": [
              "Current     13272\n",
              "WriteOff        9\n",
              "Name: Dlq_stat, dtype: int64"
            ]
          },
          "execution_count": 12,
          "metadata": {},
          "output_type": "execute_result"
        }
      ],
      "source": [
        "# 13272 of these are in fact current, so it is safe to assume zero. The Write Off is a judgement call as\n",
        "# it might just be missing data and it is only just 9.\n",
        "df1[df1['Dlq_days'].isna()]['Dlq_stat'].value_counts()"
      ]
    },
    {
      "cell_type": "code",
      "execution_count": null,
      "metadata": {
        "id": "aZLsvuKcebFr"
      },
      "outputs": [],
      "source": [
        "# Therefore apply the imputation of zero in the missing values.\n",
        "df1['Dlq_days'].fillna(0, inplace=True)"
      ]
    },
    {
      "cell_type": "code",
      "execution_count": null,
      "metadata": {
        "id": "Jt1ZCHhxebFr",
        "outputId": "a64a8d6b-8766-40c2-9c2b-dc19f5dbf7e8"
      },
      "outputs": [
        {
          "data": {
            "text/html": [
              "<div>\n",
              "<style scoped>\n",
              "    .dataframe tbody tr th:only-of-type {\n",
              "        vertical-align: middle;\n",
              "    }\n",
              "\n",
              "    .dataframe tbody tr th {\n",
              "        vertical-align: top;\n",
              "    }\n",
              "\n",
              "    .dataframe thead th {\n",
              "        text-align: right;\n",
              "    }\n",
              "</style>\n",
              "<table border=\"1\" class=\"dataframe\">\n",
              "  <thead>\n",
              "    <tr style=\"text-align: right;\">\n",
              "      <th></th>\n",
              "      <th>Dlq_stat</th>\n",
              "      <th>amounts</th>\n",
              "      <th>obs_date</th>\n",
              "      <th>Dlq_days</th>\n",
              "      <th>Reason_for_loan</th>\n",
              "      <th>Province</th>\n",
              "    </tr>\n",
              "  </thead>\n",
              "  <tbody>\n",
              "    <tr>\n",
              "      <th>0</th>\n",
              "      <td>Current</td>\n",
              "      <td>389.628333</td>\n",
              "      <td>2014-06-30 12:00:00</td>\n",
              "      <td>0.0</td>\n",
              "      <td>Home Improvement</td>\n",
              "      <td>ON</td>\n",
              "    </tr>\n",
              "    <tr>\n",
              "      <th>1</th>\n",
              "      <td>Current</td>\n",
              "      <td>2446.128333</td>\n",
              "      <td>2014-06-30 12:00:00</td>\n",
              "      <td>0.0</td>\n",
              "      <td>Vehicle</td>\n",
              "      <td>AB</td>\n",
              "    </tr>\n",
              "    <tr>\n",
              "      <th>2</th>\n",
              "      <td>Current</td>\n",
              "      <td>2874.366667</td>\n",
              "      <td>2014-06-30 12:00:00</td>\n",
              "      <td>0.0</td>\n",
              "      <td>Home Improvement</td>\n",
              "      <td>ON</td>\n",
              "    </tr>\n",
              "    <tr>\n",
              "      <th>3</th>\n",
              "      <td>Current</td>\n",
              "      <td>299.626667</td>\n",
              "      <td>2014-06-30 12:00:00</td>\n",
              "      <td>0.0</td>\n",
              "      <td>Home Improvement</td>\n",
              "      <td>ON</td>\n",
              "    </tr>\n",
              "    <tr>\n",
              "      <th>4</th>\n",
              "      <td>Current</td>\n",
              "      <td>745.455000</td>\n",
              "      <td>2014-06-30 12:00:00</td>\n",
              "      <td>0.0</td>\n",
              "      <td>Home Improvement</td>\n",
              "      <td>Other Provinces</td>\n",
              "    </tr>\n",
              "  </tbody>\n",
              "</table>\n",
              "</div>"
            ],
            "text/plain": [
              "  Dlq_stat      amounts             obs_date  Dlq_days   Reason_for_loan  \\\n",
              "0  Current   389.628333  2014-06-30 12:00:00       0.0  Home Improvement   \n",
              "1  Current  2446.128333  2014-06-30 12:00:00       0.0           Vehicle   \n",
              "2  Current  2874.366667  2014-06-30 12:00:00       0.0  Home Improvement   \n",
              "3  Current   299.626667  2014-06-30 12:00:00       0.0  Home Improvement   \n",
              "4  Current   745.455000  2014-06-30 12:00:00       0.0  Home Improvement   \n",
              "\n",
              "          Province  \n",
              "0               ON  \n",
              "1               AB  \n",
              "2               ON  \n",
              "3               ON  \n",
              "4  Other Provinces  "
            ]
          },
          "execution_count": 14,
          "metadata": {},
          "output_type": "execute_result"
        }
      ],
      "source": [
        "df1.head()"
      ]
    },
    {
      "cell_type": "code",
      "execution_count": null,
      "metadata": {
        "id": "I6_OEOF_ebFs",
        "outputId": "88e2e6ba-38bb-459c-dcee-0c53d7d363f0"
      },
      "outputs": [
        {
          "data": {
            "text/plain": [
              "0.0     13287\n",
              "3.0         9\n",
              "1.0         7\n",
              "15.0        6\n",
              "5.0         6\n",
              "4.0         5\n",
              "16.0        3\n",
              "8.0         3\n",
              "7.0         3\n",
              "41.0        3\n",
              "23.0        2\n",
              "10.0        2\n",
              "64.0        2\n",
              "68.0        2\n",
              "58.0        2\n",
              "11.0        2\n",
              "77.0        2\n",
              "55.0        2\n",
              "43.0        2\n",
              "70.0        2\n",
              "46.0        2\n",
              "18.0        2\n",
              "6.0         2\n",
              "39.0        2\n",
              "50.0        2\n",
              "62.0        2\n",
              "78.0        2\n",
              "25.0        2\n",
              "75.0        2\n",
              "14.0        2\n",
              "31.0        1\n",
              "79.0        1\n",
              "2.0         1\n",
              "9.0         1\n",
              "59.0        1\n",
              "34.0        1\n",
              "52.0        1\n",
              "13.0        1\n",
              "30.0        1\n",
              "29.0        1\n",
              "74.0        1\n",
              "36.0        1\n",
              "71.0        1\n",
              "48.0        1\n",
              "Name: Dlq_days, dtype: int64"
            ]
          },
          "execution_count": 15,
          "metadata": {},
          "output_type": "execute_result"
        }
      ],
      "source": [
        "df1['Dlq_days'].value_counts()"
      ]
    },
    {
      "cell_type": "code",
      "execution_count": null,
      "metadata": {
        "id": "uvOj97o2zOxl"
      },
      "outputs": [],
      "source": [
        "# Convert obs_date to timestamp\n",
        "\n",
        "df1['obs_date'] = pd.to_datetime(df1['obs_date'])"
      ]
    },
    {
      "cell_type": "code",
      "execution_count": null,
      "metadata": {
        "colab": {
          "base_uri": "https://localhost:8080/"
        },
        "id": "Xoit5lQTy_rk",
        "outputId": "a4f7876c-02da-42c7-d927-36c22bcf88d2"
      },
      "outputs": [
        {
          "data": {
            "text/plain": [
              "Dlq_stat                   object\n",
              "amounts                   float64\n",
              "obs_date           datetime64[ns]\n",
              "Dlq_days                  float64\n",
              "Reason_for_loan            object\n",
              "Province                   object\n",
              "dtype: object"
            ]
          },
          "execution_count": 17,
          "metadata": {},
          "output_type": "execute_result"
        }
      ],
      "source": [
        "# Check for Data Types\n",
        "\n",
        "df1.dtypes"
      ]
    },
    {
      "cell_type": "code",
      "execution_count": null,
      "metadata": {
        "colab": {
          "base_uri": "https://localhost:8080/"
        },
        "id": "Il7rGwqy9x1k",
        "outputId": "1e0ce725-f20c-40f0-a4d0-a104e8b48ccc"
      },
      "outputs": [
        {
          "data": {
            "text/plain": [
              "Current       99.148364\n",
              "Delinquent     0.784402\n",
              "WriteOff       0.067234\n",
              "Name: Dlq_stat, dtype: float64"
            ]
          },
          "execution_count": 18,
          "metadata": {},
          "output_type": "execute_result"
        }
      ],
      "source": [
        "dlq = (df1['Dlq_stat'].value_counts()/len(df1))*100\n",
        "dlq"
      ]
    },
    {
      "cell_type": "code",
      "execution_count": null,
      "metadata": {
        "colab": {
          "base_uri": "https://localhost:8080/"
        },
        "id": "IA36m3vRCtRO",
        "outputId": "bc00aec6-293e-439a-807c-8b8a4a15623e"
      },
      "outputs": [
        {
          "data": {
            "text/plain": [
              "['Current', 'Delinquent', 'WriteOff']"
            ]
          },
          "execution_count": 19,
          "metadata": {},
          "output_type": "execute_result"
        }
      ],
      "source": [
        "cat_types = dlq.index.tolist()\n",
        "cat_types"
      ]
    },
    {
      "cell_type": "code",
      "execution_count": null,
      "metadata": {
        "colab": {
          "base_uri": "https://localhost:8080/"
        },
        "id": "K9WLuHrWCOML",
        "outputId": "d89af102-346f-4492-b290-8381bb01287f"
      },
      "outputs": [
        {
          "data": {
            "text/plain": [
              "[99.14836396234872, 0.7844016136261767, 0.06723442402510085]"
            ]
          },
          "execution_count": 20,
          "metadata": {},
          "output_type": "execute_result"
        }
      ],
      "source": [
        "perc_list = dlq.tolist()\n",
        "\n",
        "perc_list"
      ]
    },
    {
      "cell_type": "code",
      "execution_count": null,
      "metadata": {
        "colab": {
          "base_uri": "https://localhost:8080/"
        },
        "id": "RZfJFzRwCcou",
        "outputId": "1d8a39d2-92db-4c1e-e274-359e7ca65e6a"
      },
      "outputs": [
        {
          "data": {
            "image/png": "[encoded data removed]",
            "text/plain": [
              "<Figure size 800x800 with 1 Axes>"
            ]
          },
          "metadata": {},
          "output_type": "display_data"
        }
      ],
      "source": [
        "import matplotlib.pyplot as plt\n",
        "\n",
        "# Example data (proportions from dlq)\n",
        "proportions = perc_list\n",
        "categories = cat_types\n",
        "\n",
        "plt.figure(figsize=(8, 8))\n",
        "# Create the pie chart using direct values from the dlq Series\n",
        "plt.pie(dlq, labels=None, autopct='%1.1f%%', startangle=90)\n",
        "\n",
        "# Add title\n",
        "plt.title('Pie Chart of Dlq_stat Distribution')\n",
        "\n",
        "# Show the pie chart\n",
        "plt.show()\n"
      ]
    },
    {
      "cell_type": "markdown",
      "metadata": {
        "id": "o04nDfPaebFu"
      },
      "source": [
        "This graph shows that a good majority of the data here is in the current status. Here is the breakdown by percentage.\n",
        "- Current       99.148364%\n",
        "- Delinquent     0.784402%\n",
        "- WriteOff       0.067234%"
      ]
    },
    {
      "cell_type": "code",
      "execution_count": null,
      "metadata": {
        "id": "DOCOAWKdebFu",
        "outputId": "b3e6b0f6-f18b-42e2-80b4-a63bf2437c06"
      },
      "outputs": [
        {
          "data": {
            "text/html": [
              "<div>\n",
              "<style scoped>\n",
              "    .dataframe tbody tr th:only-of-type {\n",
              "        vertical-align: middle;\n",
              "    }\n",
              "\n",
              "    .dataframe tbody tr th {\n",
              "        vertical-align: top;\n",
              "    }\n",
              "\n",
              "    .dataframe thead th {\n",
              "        text-align: right;\n",
              "    }\n",
              "</style>\n",
              "<table border=\"1\" class=\"dataframe\">\n",
              "  <thead>\n",
              "    <tr style=\"text-align: right;\">\n",
              "      <th></th>\n",
              "      <th>Dlq_stat</th>\n",
              "      <th>amounts</th>\n",
              "      <th>obs_date</th>\n",
              "      <th>Dlq_days</th>\n",
              "      <th>Reason_for_loan</th>\n",
              "      <th>Province</th>\n",
              "    </tr>\n",
              "  </thead>\n",
              "  <tbody>\n",
              "    <tr>\n",
              "      <th>13277</th>\n",
              "      <td>Delinquent</td>\n",
              "      <td>4572.253333</td>\n",
              "      <td>2014-06-30 12:00:00</td>\n",
              "      <td>75.0</td>\n",
              "      <td>Vehicle</td>\n",
              "      <td>AB</td>\n",
              "    </tr>\n",
              "    <tr>\n",
              "      <th>13278</th>\n",
              "      <td>Delinquent</td>\n",
              "      <td>2902.875000</td>\n",
              "      <td>2014-06-30 12:00:00</td>\n",
              "      <td>2.0</td>\n",
              "      <td>Vehicle</td>\n",
              "      <td>Other Provinces</td>\n",
              "    </tr>\n",
              "    <tr>\n",
              "      <th>13279</th>\n",
              "      <td>Delinquent</td>\n",
              "      <td>418.950000</td>\n",
              "      <td>2014-06-30 12:00:00</td>\n",
              "      <td>34.0</td>\n",
              "      <td>Vehicle</td>\n",
              "      <td>ON</td>\n",
              "    </tr>\n",
              "    <tr>\n",
              "      <th>13280</th>\n",
              "      <td>Delinquent</td>\n",
              "      <td>7739.803333</td>\n",
              "      <td>2014-06-30 12:00:00</td>\n",
              "      <td>14.0</td>\n",
              "      <td>Vehicle</td>\n",
              "      <td>BC</td>\n",
              "    </tr>\n",
              "    <tr>\n",
              "      <th>13281</th>\n",
              "      <td>Delinquent</td>\n",
              "      <td>922.595000</td>\n",
              "      <td>2014-06-30 12:00:00</td>\n",
              "      <td>31.0</td>\n",
              "      <td>Vehicle</td>\n",
              "      <td>ON</td>\n",
              "    </tr>\n",
              "    <tr>\n",
              "      <th>...</th>\n",
              "      <td>...</td>\n",
              "      <td>...</td>\n",
              "      <td>...</td>\n",
              "      <td>...</td>\n",
              "      <td>...</td>\n",
              "      <td>...</td>\n",
              "    </tr>\n",
              "    <tr>\n",
              "      <th>13380</th>\n",
              "      <td>Delinquent</td>\n",
              "      <td>3665.591667</td>\n",
              "      <td>2014-06-30 12:00:00</td>\n",
              "      <td>68.0</td>\n",
              "      <td>Vehicle</td>\n",
              "      <td>AB</td>\n",
              "    </tr>\n",
              "    <tr>\n",
              "      <th>13381</th>\n",
              "      <td>Delinquent</td>\n",
              "      <td>3502.045000</td>\n",
              "      <td>2014-06-30 12:00:00</td>\n",
              "      <td>15.0</td>\n",
              "      <td>Vehicle</td>\n",
              "      <td>AB</td>\n",
              "    </tr>\n",
              "    <tr>\n",
              "      <th>13382</th>\n",
              "      <td>Delinquent</td>\n",
              "      <td>2780.255000</td>\n",
              "      <td>2014-06-30 12:00:00</td>\n",
              "      <td>41.0</td>\n",
              "      <td>Vehicle</td>\n",
              "      <td>AB</td>\n",
              "    </tr>\n",
              "    <tr>\n",
              "      <th>13384</th>\n",
              "      <td>Delinquent</td>\n",
              "      <td>1550.588333</td>\n",
              "      <td>2014-06-30 12:00:00</td>\n",
              "      <td>55.0</td>\n",
              "      <td>Home Improvement</td>\n",
              "      <td>AB</td>\n",
              "    </tr>\n",
              "    <tr>\n",
              "      <th>13385</th>\n",
              "      <td>Delinquent</td>\n",
              "      <td>2935.566667</td>\n",
              "      <td>2014-06-30 12:00:00</td>\n",
              "      <td>15.0</td>\n",
              "      <td>Vehicle</td>\n",
              "      <td>AB</td>\n",
              "    </tr>\n",
              "  </tbody>\n",
              "</table>\n",
              "<p>99 rows × 6 columns</p>\n",
              "</div>"
            ],
            "text/plain": [
              "         Dlq_stat      amounts            obs_date  Dlq_days  \\\n",
              "13277  Delinquent  4572.253333 2014-06-30 12:00:00      75.0   \n",
              "13278  Delinquent  2902.875000 2014-06-30 12:00:00       2.0   \n",
              "13279  Delinquent   418.950000 2014-06-30 12:00:00      34.0   \n",
              "13280  Delinquent  7739.803333 2014-06-30 12:00:00      14.0   \n",
              "13281  Delinquent   922.595000 2014-06-30 12:00:00      31.0   \n",
              "...           ...          ...                 ...       ...   \n",
              "13380  Delinquent  3665.591667 2014-06-30 12:00:00      68.0   \n",
              "13381  Delinquent  3502.045000 2014-06-30 12:00:00      15.0   \n",
              "13382  Delinquent  2780.255000 2014-06-30 12:00:00      41.0   \n",
              "13384  Delinquent  1550.588333 2014-06-30 12:00:00      55.0   \n",
              "13385  Delinquent  2935.566667 2014-06-30 12:00:00      15.0   \n",
              "\n",
              "        Reason_for_loan         Province  \n",
              "13277           Vehicle               AB  \n",
              "13278           Vehicle  Other Provinces  \n",
              "13279           Vehicle               ON  \n",
              "13280           Vehicle               BC  \n",
              "13281           Vehicle               ON  \n",
              "...                 ...              ...  \n",
              "13380           Vehicle               AB  \n",
              "13381           Vehicle               AB  \n",
              "13382           Vehicle               AB  \n",
              "13384  Home Improvement               AB  \n",
              "13385           Vehicle               AB  \n",
              "\n",
              "[99 rows x 6 columns]"
            ]
          },
          "execution_count": 22,
          "metadata": {},
          "output_type": "execute_result"
        }
      ],
      "source": [
        "df_dlq = df1[df1['Dlq_days']!=0]\n",
        "\n",
        "df_dlq"
      ]
    },
    {
      "cell_type": "markdown",
      "metadata": {
        "id": "ZCZHV06ZebFu"
      },
      "source": [
        "I did this to ensure to seperate the loan with delinquency so i can plot it later."
      ]
    },
    {
      "cell_type": "code",
      "execution_count": null,
      "metadata": {
        "colab": {
          "base_uri": "https://localhost:8080/"
        },
        "id": "CM2mx-WgLK8P",
        "outputId": "ba0ef052-bc45-40ed-a2d3-b57e0394d2a3"
      },
      "outputs": [
        {
          "data": {
            "text/html": [
              "<div>\n",
              "<style scoped>\n",
              "    .dataframe tbody tr th:only-of-type {\n",
              "        vertical-align: middle;\n",
              "    }\n",
              "\n",
              "    .dataframe tbody tr th {\n",
              "        vertical-align: top;\n",
              "    }\n",
              "\n",
              "    .dataframe thead th {\n",
              "        text-align: right;\n",
              "    }\n",
              "</style>\n",
              "<table border=\"1\" class=\"dataframe\">\n",
              "  <thead>\n",
              "    <tr style=\"text-align: right;\">\n",
              "      <th>Reason_for_loan</th>\n",
              "      <th>Home Improvement</th>\n",
              "      <th>Vehicle</th>\n",
              "    </tr>\n",
              "    <tr>\n",
              "      <th>Province</th>\n",
              "      <th></th>\n",
              "      <th></th>\n",
              "    </tr>\n",
              "  </thead>\n",
              "  <tbody>\n",
              "    <tr>\n",
              "      <th>AB</th>\n",
              "      <td>1083</td>\n",
              "      <td>2029</td>\n",
              "    </tr>\n",
              "    <tr>\n",
              "      <th>BC</th>\n",
              "      <td>614</td>\n",
              "      <td>1574</td>\n",
              "    </tr>\n",
              "    <tr>\n",
              "      <th>ON</th>\n",
              "      <td>3074</td>\n",
              "      <td>1530</td>\n",
              "    </tr>\n",
              "    <tr>\n",
              "      <th>Other Provinces</th>\n",
              "      <td>1516</td>\n",
              "      <td>1966</td>\n",
              "    </tr>\n",
              "  </tbody>\n",
              "</table>\n",
              "</div>"
            ],
            "text/plain": [
              "Reason_for_loan  Home Improvement  Vehicle\n",
              "Province                                  \n",
              "AB                           1083     2029\n",
              "BC                            614     1574\n",
              "ON                           3074     1530\n",
              "Other Provinces              1516     1966"
            ]
          },
          "execution_count": 24,
          "metadata": {},
          "output_type": "execute_result"
        }
      ],
      "source": [
        "province_loan_type = df1.groupby('Province')['Reason_for_loan'].value_counts().unstack()\n",
        "\n",
        "province_loan_type"
      ]
    },
    {
      "cell_type": "code",
      "execution_count": null,
      "metadata": {
        "colab": {
          "base_uri": "https://localhost:8080/"
        },
        "id": "ObvAHZ3sI4RA",
        "outputId": "b1369f5a-c90c-4171-8c91-76a70d9de812",
        "scrolled": false
      },
      "outputs": [
        {
          "data": {
            "image/png": "[encoded data removed]",
            "text/plain": [
              "<Figure size 1000x600 with 1 Axes>"
            ]
          },
          "metadata": {},
          "output_type": "display_data"
        }
      ],
      "source": [
        "# Plot for loan types by province\n",
        "\n",
        "province_loan_type.plot(kind='bar', stacked=True, figsize=(10, 6))\n",
        "plt.title('Loan Types by Province')\n",
        "plt.xlabel('Province')\n",
        "plt.ylabel('Count')\n",
        "plt.xticks(rotation = 0)\n",
        "plt.show()\n",
        "\n"
      ]
    },
    {
      "cell_type": "markdown",
      "metadata": {
        "id": "50osoVIRebFv"
      },
      "source": [
        "Here we see that ONTARIO has the most loans, the most Home Improvement loans as well.\n",
        "\n",
        "BC takes the least loans and are more towards taking Vehicle loans\n",
        "\n",
        "Other Provinces are seem to be a bit more balanced with Vehicle Loans being the priority.\n",
        "\n",
        "For Alberta nearly a third of it is with Vehicle loans."
      ]
    },
    {
      "cell_type": "code",
      "execution_count": null,
      "metadata": {
        "id": "qoBJms0PebFv",
        "outputId": "78c9cab5-fef1-477e-a47e-f7be95183422"
      },
      "outputs": [
        {
          "data": {
            "image/png": "[encoded data removed]",
            "text/plain": [
              "<Figure size 640x480 with 1 Axes>"
            ]
          },
          "metadata": {},
          "output_type": "display_data"
        }
      ],
      "source": [
        "# Creating a bar plot for total delinquent days by province\n",
        "delinquent_days_by_province = df1.groupby('Province')['Dlq_days'].sum().sort_values(ascending=False)\n",
        "delinquent_days_by_province.plot(kind='bar', color='skyblue')\n",
        "\n",
        "plt.title('Total Delinquent Days by Province')\n",
        "plt.xlabel('Province')\n",
        "plt.ylabel('Total Delinquent Days')\n",
        "plt.show()"
      ]
    },
    {
      "cell_type": "markdown",
      "metadata": {
        "id": "aMI8ZrUdebFv"
      },
      "source": [
        "This graph here shows that AB has the most days in total delinquent."
      ]
    },
    {
      "cell_type": "code",
      "execution_count": null,
      "metadata": {
        "colab": {
          "base_uri": "https://localhost:8080/"
        },
        "id": "xLPZd2euHJLK",
        "outputId": "bc22dc47-562c-4e7d-e9bb-01bb1f65e105",
        "scrolled": false
      },
      "outputs": [
        {
          "data": {
            "image/png": "[encoded data removed]",
            "text/plain": [
              "<Figure size 1200x1200 with 4 Axes>"
            ]
          },
          "metadata": {},
          "output_type": "display_data"
        }
      ],
      "source": [
        "# Set the style of seaborn plot\n",
        "sns.set_style(\"whitegrid\")\n",
        "\n",
        "# Create a figure with subplots\n",
        "fig, axs = plt.subplots(2, 2, figsize=(12, 12))\n",
        "\n",
        "# Plot for amounts\n",
        "sns.histplot(data=df1, x=\"amounts\", kde=True, color=\"skyblue\", ax=axs[0, 0])\n",
        "axs[0, 0].set_title('Distribution of Amounts')\n",
        "\n",
        "# Plot for Dlq_stat\n",
        "sns.countplot(data=df1, x='Dlq_stat', ax=axs[0, 1])\n",
        "axs[0, 1].set_title('Delinquency Status Distribution')\n",
        "\n",
        "# Plot for Province1\n",
        "sns.countplot(data=df1, x='Province', ax=axs[1, 0])\n",
        "axs[1, 0].set_title('Loan Count Distribution by Province')\n",
        "\n",
        "# Plot for Dlq_days\n",
        "sns.histplot(data=df_dlq, x=\"Dlq_days\", kde=True, color=\"skyblue\", ax=axs[1, 1])\n",
        "axs[1, 1].set_title('Distribution of Delinquency Days')\n",
        "\n",
        "plt.tight_layout()\n",
        "plt.show()\n"
      ]
    },
    {
      "cell_type": "markdown",
      "metadata": {
        "id": "VlKT0SqyebFv"
      },
      "source": [
        "The distribution of amounts here shows that majority of the loans are between 0-$5000 dollars\n",
        "\n",
        "The delinquency days is in a respectable position, with majority of them being between 0-10 days."
      ]
    },
    {
      "cell_type": "code",
      "execution_count": null,
      "metadata": {
        "colab": {
          "base_uri": "https://localhost:8080/"
        },
        "id": "V_or7ZZ4Huyb",
        "outputId": "5f4345dd-3f93-4eb2-b058-4f29bd7a6c77"
      },
      "outputs": [
        {
          "data": {
            "image/png": "[encoded data removed]",
            "text/plain": [
              "<Figure size 1000x600 with 1 Axes>"
            ]
          },
          "metadata": {},
          "output_type": "display_data"
        }
      ],
      "source": [
        "# Plot for Vertical1\n",
        "plt.figure(figsize=(10, 6))\n",
        "sns.boxplot(data=df1, x='Reason_for_loan', y='amounts')\n",
        "plt.title('Distribution of Debt by Loan Type')\n",
        "plt.show()\n"
      ]
    },
    {
      "cell_type": "code",
      "execution_count": null,
      "metadata": {
        "id": "xBOaYLPVebFw",
        "outputId": "37b61144-ce78-4b96-8b35-59d0b02cc62e"
      },
      "outputs": [
        {
          "data": {
            "text/plain": [
              "Province\n",
              "AB                 1322.0\n",
              "Other Provinces     677.0\n",
              "ON                  447.0\n",
              "BC                  295.0\n",
              "Name: Dlq_days, dtype: float64"
            ]
          },
          "execution_count": 30,
          "metadata": {},
          "output_type": "execute_result"
        }
      ],
      "source": [
        "df1.groupby('Province')['Dlq_days'].sum().sort_values(ascending=False)"
      ]
    },
    {
      "cell_type": "markdown",
      "metadata": {
        "id": "hugXrDIbghla"
      },
      "source": [
        "### Package Install"
      ]
    },
    {
      "cell_type": "code",
      "execution_count": null,
      "metadata": {
        "colab": {
          "base_uri": "https://localhost:8080/"
        },
        "id": "kxuAW0WrUvSv",
        "outputId": "cec42092-29ee-4f08-f03f-2d9be29fca61"
      },
      "outputs": [
        {
          "name": "stdout",
          "output_type": "stream",
          "text": [
            "Requirement already satisfied: hvplot in /Users/emmanuelnnadi/opt/anaconda3/lib/python3.9/site-packages (0.8.0)\n",
            "Requirement already satisfied: colorcet>=2 in /Users/emmanuelnnadi/opt/anaconda3/lib/python3.9/site-packages (from hvplot) (3.0.0)\n",
            "Requirement already satisfied: holoviews>=1.11.0 in /Users/emmanuelnnadi/opt/anaconda3/lib/python3.9/site-packages (from hvplot) (1.15.0)\n",
            "Requirement already satisfied: bokeh>=1.0.0 in /Users/emmanuelnnadi/opt/anaconda3/lib/python3.9/site-packages (from hvplot) (2.4.3)\n",
            "Requirement already satisfied: pandas in /Users/emmanuelnnadi/opt/anaconda3/lib/python3.9/site-packages (from hvplot) (1.4.4)\n",
            "Requirement already satisfied: numpy>=1.15 in /Users/emmanuelnnadi/opt/anaconda3/lib/python3.9/site-packages (from hvplot) (1.21.5)\n",
            "Requirement already satisfied: packaging in /Users/emmanuelnnadi/opt/anaconda3/lib/python3.9/site-packages (from hvplot) (21.3)\n",
            "Requirement already satisfied: Jinja2>=2.9 in /Users/emmanuelnnadi/opt/anaconda3/lib/python3.9/site-packages (from bokeh>=1.0.0->hvplot) (2.11.3)\n",
            "Requirement already satisfied: tornado>=5.1 in /Users/emmanuelnnadi/opt/anaconda3/lib/python3.9/site-packages (from bokeh>=1.0.0->hvplot) (6.1)\n",
            "Requirement already satisfied: PyYAML>=3.10 in /Users/emmanuelnnadi/opt/anaconda3/lib/python3.9/site-packages (from bokeh>=1.0.0->hvplot) (6.0)\n",
            "Requirement already satisfied: typing-extensions>=3.10.0 in /Users/emmanuelnnadi/opt/anaconda3/lib/python3.9/site-packages (from bokeh>=1.0.0->hvplot) (4.3.0)\n",
            "Requirement already satisfied: pillow>=7.1.0 in /Users/emmanuelnnadi/opt/anaconda3/lib/python3.9/site-packages (from bokeh>=1.0.0->hvplot) (9.2.0)\n",
            "Requirement already satisfied: param>=1.7.0 in /Users/emmanuelnnadi/opt/anaconda3/lib/python3.9/site-packages (from colorcet>=2->hvplot) (1.12.0)\n",
            "Requirement already satisfied: pyct>=0.4.4 in /Users/emmanuelnnadi/opt/anaconda3/lib/python3.9/site-packages (from colorcet>=2->hvplot) (0.4.8)\n",
            "Requirement already satisfied: panel>=0.13.1 in /Users/emmanuelnnadi/opt/anaconda3/lib/python3.9/site-packages (from holoviews>=1.11.0->hvplot) (0.13.1)\n",
            "Requirement already satisfied: pyviz-comms>=0.7.4 in /Users/emmanuelnnadi/opt/anaconda3/lib/python3.9/site-packages (from holoviews>=1.11.0->hvplot) (2.0.2)\n",
            "Requirement already satisfied: pyparsing!=3.0.5,>=2.0.2 in /Users/emmanuelnnadi/opt/anaconda3/lib/python3.9/site-packages (from packaging->hvplot) (3.0.9)\n",
            "Requirement already satisfied: python-dateutil>=2.8.1 in /Users/emmanuelnnadi/opt/anaconda3/lib/python3.9/site-packages (from pandas->hvplot) (2.8.2)\n",
            "Requirement already satisfied: pytz>=2020.1 in /Users/emmanuelnnadi/opt/anaconda3/lib/python3.9/site-packages (from pandas->hvplot) (2022.1)\n",
            "Requirement already satisfied: MarkupSafe>=0.23 in /Users/emmanuelnnadi/opt/anaconda3/lib/python3.9/site-packages (from Jinja2>=2.9->bokeh>=1.0.0->hvplot) (2.0.1)\n",
            "Requirement already satisfied: tqdm>=4.48.0 in /Users/emmanuelnnadi/opt/anaconda3/lib/python3.9/site-packages (from panel>=0.13.1->holoviews>=1.11.0->hvplot) (4.64.1)\n",
            "Requirement already satisfied: bleach in /Users/emmanuelnnadi/opt/anaconda3/lib/python3.9/site-packages (from panel>=0.13.1->holoviews>=1.11.0->hvplot) (4.1.0)\n",
            "Requirement already satisfied: setuptools in /Users/emmanuelnnadi/opt/anaconda3/lib/python3.9/site-packages (from panel>=0.13.1->holoviews>=1.11.0->hvplot) (63.4.1)\n",
            "Requirement already satisfied: requests in /Users/emmanuelnnadi/opt/anaconda3/lib/python3.9/site-packages (from panel>=0.13.1->holoviews>=1.11.0->hvplot) (2.28.1)\n",
            "Requirement already satisfied: markdown in /Users/emmanuelnnadi/opt/anaconda3/lib/python3.9/site-packages (from panel>=0.13.1->holoviews>=1.11.0->hvplot) (3.3.4)\n",
            "Requirement already satisfied: six>=1.5 in /Users/emmanuelnnadi/opt/anaconda3/lib/python3.9/site-packages (from python-dateutil>=2.8.1->pandas->hvplot) (1.16.0)\n",
            "Requirement already satisfied: webencodings in /Users/emmanuelnnadi/opt/anaconda3/lib/python3.9/site-packages (from bleach->panel>=0.13.1->holoviews>=1.11.0->hvplot) (0.5.1)\n",
            "Requirement already satisfied: certifi>=2017.4.17 in /Users/emmanuelnnadi/opt/anaconda3/lib/python3.9/site-packages (from requests->panel>=0.13.1->holoviews>=1.11.0->hvplot) (2022.9.24)\n",
            "Requirement already satisfied: charset-normalizer<3,>=2 in /Users/emmanuelnnadi/opt/anaconda3/lib/python3.9/site-packages (from requests->panel>=0.13.1->holoviews>=1.11.0->hvplot) (2.0.4)\n",
            "Requirement already satisfied: urllib3<1.27,>=1.21.1 in /Users/emmanuelnnadi/opt/anaconda3/lib/python3.9/site-packages (from requests->panel>=0.13.1->holoviews>=1.11.0->hvplot) (1.26.11)\n",
            "Requirement already satisfied: idna<4,>=2.5 in /Users/emmanuelnnadi/opt/anaconda3/lib/python3.9/site-packages (from requests->panel>=0.13.1->holoviews>=1.11.0->hvplot) (3.3)\n",
            "Note: you may need to restart the kernel to use updated packages.\n"
          ]
        }
      ],
      "source": [
        "pip install hvplot"
      ]
    },
    {
      "cell_type": "code",
      "execution_count": null,
      "metadata": {
        "colab": {
          "base_uri": "https://localhost:8080/"
        },
        "id": "fhl9VO_lVxkp",
        "outputId": "b9d61b3f-dc4c-4a71-dd67-6be56b76bdb5"
      },
      "outputs": [
        {
          "name": "stdout",
          "output_type": "stream",
          "text": [
            "Requirement already satisfied: panel in /Users/emmanuelnnadi/opt/anaconda3/lib/python3.9/site-packages (0.13.1)\n",
            "Requirement already satisfied: pyviz-comms>=0.7.4 in /Users/emmanuelnnadi/opt/anaconda3/lib/python3.9/site-packages (from panel) (2.0.2)\n",
            "Requirement already satisfied: pyct>=0.4.4 in /Users/emmanuelnnadi/opt/anaconda3/lib/python3.9/site-packages (from panel) (0.4.8)\n",
            "Requirement already satisfied: bleach in /Users/emmanuelnnadi/opt/anaconda3/lib/python3.9/site-packages (from panel) (4.1.0)\n",
            "Requirement already satisfied: typing-extensions in /Users/emmanuelnnadi/opt/anaconda3/lib/python3.9/site-packages (from panel) (4.3.0)\n",
            "Requirement already satisfied: markdown in /Users/emmanuelnnadi/opt/anaconda3/lib/python3.9/site-packages (from panel) (3.3.4)\n",
            "Requirement already satisfied: tqdm>=4.48.0 in /Users/emmanuelnnadi/opt/anaconda3/lib/python3.9/site-packages (from panel) (4.64.1)\n",
            "Requirement already satisfied: setuptools in /Users/emmanuelnnadi/opt/anaconda3/lib/python3.9/site-packages (from panel) (63.4.1)\n",
            "Requirement already satisfied: requests in /Users/emmanuelnnadi/opt/anaconda3/lib/python3.9/site-packages (from panel) (2.28.1)\n",
            "Requirement already satisfied: bokeh<2.5.0,>=2.4.0 in /Users/emmanuelnnadi/opt/anaconda3/lib/python3.9/site-packages (from panel) (2.4.3)\n",
            "Requirement already satisfied: param>=1.12.0 in /Users/emmanuelnnadi/opt/anaconda3/lib/python3.9/site-packages (from panel) (1.12.0)\n",
            "Requirement already satisfied: numpy>=1.11.3 in /Users/emmanuelnnadi/opt/anaconda3/lib/python3.9/site-packages (from bokeh<2.5.0,>=2.4.0->panel) (1.21.5)\n",
            "Requirement already satisfied: pillow>=7.1.0 in /Users/emmanuelnnadi/opt/anaconda3/lib/python3.9/site-packages (from bokeh<2.5.0,>=2.4.0->panel) (9.2.0)\n",
            "Requirement already satisfied: packaging>=16.8 in /Users/emmanuelnnadi/opt/anaconda3/lib/python3.9/site-packages (from bokeh<2.5.0,>=2.4.0->panel) (21.3)\n",
            "Requirement already satisfied: Jinja2>=2.9 in /Users/emmanuelnnadi/opt/anaconda3/lib/python3.9/site-packages (from bokeh<2.5.0,>=2.4.0->panel) (2.11.3)\n",
            "Requirement already satisfied: tornado>=5.1 in /Users/emmanuelnnadi/opt/anaconda3/lib/python3.9/site-packages (from bokeh<2.5.0,>=2.4.0->panel) (6.1)\n",
            "Requirement already satisfied: PyYAML>=3.10 in /Users/emmanuelnnadi/opt/anaconda3/lib/python3.9/site-packages (from bokeh<2.5.0,>=2.4.0->panel) (6.0)\n",
            "Requirement already satisfied: six>=1.9.0 in /Users/emmanuelnnadi/opt/anaconda3/lib/python3.9/site-packages (from bleach->panel) (1.16.0)\n",
            "Requirement already satisfied: webencodings in /Users/emmanuelnnadi/opt/anaconda3/lib/python3.9/site-packages (from bleach->panel) (0.5.1)\n",
            "Requirement already satisfied: urllib3<1.27,>=1.21.1 in /Users/emmanuelnnadi/opt/anaconda3/lib/python3.9/site-packages (from requests->panel) (1.26.11)\n",
            "Requirement already satisfied: charset-normalizer<3,>=2 in /Users/emmanuelnnadi/opt/anaconda3/lib/python3.9/site-packages (from requests->panel) (2.0.4)\n",
            "Requirement already satisfied: certifi>=2017.4.17 in /Users/emmanuelnnadi/opt/anaconda3/lib/python3.9/site-packages (from requests->panel) (2022.9.24)\n",
            "Requirement already satisfied: idna<4,>=2.5 in /Users/emmanuelnnadi/opt/anaconda3/lib/python3.9/site-packages (from requests->panel) (3.3)\n",
            "Requirement already satisfied: MarkupSafe>=0.23 in /Users/emmanuelnnadi/opt/anaconda3/lib/python3.9/site-packages (from Jinja2>=2.9->bokeh<2.5.0,>=2.4.0->panel) (2.0.1)\n",
            "Requirement already satisfied: pyparsing!=3.0.5,>=2.0.2 in /Users/emmanuelnnadi/opt/anaconda3/lib/python3.9/site-packages (from packaging>=16.8->bokeh<2.5.0,>=2.4.0->panel) (3.0.9)\n",
            "Note: you may need to restart the kernel to use updated packages.\n"
          ]
        }
      ],
      "source": [
        "pip install panel"
      ]
    },
    {
      "cell_type": "markdown",
      "metadata": {
        "id": "OP-4SvH_clh6"
      },
      "source": [
        "## Loan type by Province"
      ]
    },
    {
      "cell_type": "code",
      "execution_count": null,
      "metadata": {
        "colab": {
          "base_uri": "https://localhost:8080/"
        },
        "id": "ISNTkfWbV4Oc",
        "outputId": "4095d5ed-203e-47cc-971d-b479c133f5d1"
      },
      "outputs": [
        {
          "data": {
            "application/javascript": [
              "(function(root) {\n",
              "  function now() {\n",
              "    return new Date();\n",
              "  }\n",
              "\n",
              "  var force = true;\n",
              "\n",
              "  if (typeof root._bokeh_onload_callbacks === \"undefined\" || force === true) {\n",
              "    root._bokeh_onload_callbacks = [];\n",
              "    root._bokeh_is_loading = undefined;\n",
              "  }\n",
              "\n",
              "  if (typeof (root._bokeh_timeout) === \"undefined\" || force === true) {\n",
              "    root._bokeh_timeout = Date.now() + 5000;\n",
              "    root._bokeh_failed_load = false;\n",
              "  }\n",
              "\n",
              "  function run_callbacks() {\n",
              "    try {\n",
              "      root._bokeh_onload_callbacks.forEach(function(callback) {\n",
              "        if (callback != null)\n",
              "          callback();\n",
              "      });\n",
              "    } finally {\n",
              "      delete root._bokeh_onload_callbacks\n",
              "    }\n",
              "    console.debug(\"Bokeh: all callbacks have finished\");\n",
              "  }\n",
              "\n",
              "  function load_libs(css_urls, js_urls, js_modules, callback) {\n",
              "    if (css_urls == null) css_urls = [];\n",
              "    if (js_urls == null) js_urls = [];\n",
              "    if (js_modules == null) js_modules = [];\n",
              "\n",
              "    root._bokeh_onload_callbacks.push(callback);\n",
              "    if (root._bokeh_is_loading > 0) {\n",
              "      console.debug(\"Bokeh: BokehJS is being loaded, scheduling callback at\", now());\n",
              "      return null;\n",
              "    }\n",
              "    if (js_urls.length === 0 && js_modules.length === 0) {\n",
              "      run_callbacks();\n",
              "      return null;\n",
              "    }\n",
              "    console.debug(\"Bokeh: BokehJS not loaded, scheduling load and callback at\", now());\n",
              "\n",
              "    function on_load() {\n",
              "      root._bokeh_is_loading--;\n",
              "      if (root._bokeh_is_loading === 0) {\n",
              "        console.debug(\"Bokeh: all BokehJS libraries/stylesheets loaded\");\n",
              "        run_callbacks()\n",
              "      }\n",
              "    }\n",
              "\n",
              "    function on_error() {\n",
              "      console.error(\"failed to load \" + url);\n",
              "    }\n",
              "\n",
              "    for (var i = 0; i < css_urls.length; i++) {\n",
              "      var url = css_urls[i];\n",
              "      const element = document.createElement(\"link\");\n",
              "      element.onload = on_load;\n",
              "      element.onerror = on_error;\n",
              "      element.rel = \"stylesheet\";\n",
              "      element.type = \"text/css\";\n",
              "      element.href = url;\n",
              "      console.debug(\"Bokeh: injecting link tag for BokehJS stylesheet: \", url);\n",
              "      document.body.appendChild(element);\n",
              "    }\n",
              "\n",
              "    var skip = [];\n",
              "    if (window.requirejs) {\n",
              "      window.requirejs.config({'packages': {}, 'paths': {'gridstack': 'https://cdn.jsdelivr.net/npm/gridstack@4.2.5/dist/gridstack-h5', 'notyf': 'https://cdn.jsdelivr.net/npm/notyf@3/notyf.min'}, 'shim': {'gridstack': {'exports': 'GridStack'}}});\n",
              "      require([\"gridstack\"], function(GridStack) {\n",
              "\twindow.GridStack = GridStack\n",
              "\ton_load()\n",
              "      })\n",
              "      require([\"notyf\"], function() {\n",
              "\ton_load()\n",
              "      })\n",
              "      root._bokeh_is_loading = css_urls.length + 2;\n",
              "    } else {\n",
              "      root._bokeh_is_loading = css_urls.length + js_urls.length + js_modules.length;\n",
              "    }    if (((window['GridStack'] !== undefined) && (!(window['GridStack'] instanceof HTMLElement))) || window.requirejs) {\n",
              "      var urls = ['https://cdn.jsdelivr.net/npm/gridstack@4.2.5/dist/gridstack-h5.js'];\n",
              "      for (var i = 0; i < urls.length; i++) {\n",
              "        skip.push(urls[i])\n",
              "      }\n",
              "    }    if (((window['Notyf'] !== undefined) && (!(window['Notyf'] instanceof HTMLElement))) || window.requirejs) {\n",
              "      var urls = ['https://cdn.jsdelivr.net/npm/notyf@3/notyf.min.js'];\n",
              "      for (var i = 0; i < urls.length; i++) {\n",
              "        skip.push(urls[i])\n",
              "      }\n",
              "    }    for (var i = 0; i < js_urls.length; i++) {\n",
              "      var url = js_urls[i];\n",
              "      if (skip.indexOf(url) >= 0) {\n",
              "\tif (!window.requirejs) {\n",
              "\t  on_load();\n",
              "\t}\n",
              "\tcontinue;\n",
              "      }\n",
              "      var element = document.createElement('script');\n",
              "      element.onload = on_load;\n",
              "      element.onerror = on_error;\n",
              "      element.async = false;\n",
              "      element.src = url;\n",
              "      console.debug(\"Bokeh: injecting script tag for BokehJS library: \", url);\n",
              "      document.head.appendChild(element);\n",
              "    }\n",
              "    for (var i = 0; i < js_modules.length; i++) {\n",
              "      var url = js_modules[i];\n",
              "      if (skip.indexOf(url) >= 0) {\n",
              "\tif (!window.requirejs) {\n",
              "\t  on_load();\n",
              "\t}\n",
              "\tcontinue;\n",
              "      }\n",
              "      var element = document.createElement('script');\n",
              "      element.onload = on_load;\n",
              "      element.onerror = on_error;\n",
              "      element.async = false;\n",
              "      element.src = url;\n",
              "      element.type = \"module\";\n",
              "      console.debug(\"Bokeh: injecting script tag for BokehJS library: \", url);\n",
              "      document.head.appendChild(element);\n",
              "    }\n",
              "    if (!js_urls.length && !js_modules.length) {\n",
              "      on_load()\n",
              "    }\n",
              "  };\n",
              "\n",
              "  function inject_raw_css(css) {\n",
              "    const element = document.createElement(\"style\");\n",
              "    element.appendChild(document.createTextNode(css));\n",
              "    document.body.appendChild(element);\n",
              "  }\n",
              "\n",
              "  var js_urls = [\"https://cdn.bokeh.org/bokeh/release/bokeh-2.4.3.min.js\", \"https://cdn.bokeh.org/bokeh/release/bokeh-gl-2.4.3.min.js\", \"https://cdn.bokeh.org/bokeh/release/bokeh-widgets-2.4.3.min.js\", \"https://cdn.bokeh.org/bokeh/release/bokeh-tables-2.4.3.min.js\", \"https://cdn.bokeh.org/bokeh/release/bokeh-mathjax-2.4.3.min.js\", \"https://cdn.jsdelivr.net/npm/notyf@3/notyf.min.js\", \"https://unpkg.com/@holoviz/panel@0.13.1/dist/panel.min.js\"];\n",
              "  var js_modules = [];\n",
              "  var css_urls = [\"https://cdn.jsdelivr.net/npm/notyf@3/notyf.min.css\", \"https://cdnjs.cloudflare.com/ajax/libs/font-awesome/5.15.1/css/all.min.css\", \"https://unpkg.com/@holoviz/panel@0.13.1/dist/css/debugger.css\", \"https://unpkg.com/@holoviz/panel@0.13.1/dist/css/alerts.css\", \"https://unpkg.com/@holoviz/panel@0.13.1/dist/css/card.css\", \"https://unpkg.com/@holoviz/panel@0.13.1/dist/css/widgets.css\", \"https://unpkg.com/@holoviz/panel@0.13.1/dist/css/markdown.css\", \"https://unpkg.com/@holoviz/panel@0.13.1/dist/css/json.css\", \"https://unpkg.com/@holoviz/panel@0.13.1/dist/css/loading.css\", \"https://unpkg.com/@holoviz/panel@0.13.1/dist/css/dataframe.css\"];\n",
              "  var inline_js = [    function(Bokeh) {\n",
              "      inject_raw_css(\"\\n    .bk.pn-loading.arcs:before {\\n      background-image: url(\\\"data:image/svg+xml;base64,PHN2ZyB4bWxucz0iaHR0cDovL3d3dy53My5vcmcvMjAwMC9zdmciIHhtbG5zOnhsaW5rPSJodHRwOi8vd3d3LnczLm9yZy8xOTk5L3hsaW5rIiBzdHlsZT0ibWFyZ2luOiBhdXRvOyBiYWNrZ3JvdW5kOiBub25lOyBkaXNwbGF5OiBibG9jazsgc2hhcGUtcmVuZGVyaW5nOiBhdXRvOyIgdmlld0JveD0iMCAwIDEwMCAxMDAiIHByZXNlcnZlQXNwZWN0UmF0aW89InhNaWRZTWlkIj4gIDxjaXJjbGUgY3g9IjUwIiBjeT0iNTAiIHI9IjMyIiBzdHJva2Utd2lkdGg9IjgiIHN0cm9rZT0iI2MzYzNjMyIgc3Ryb2tlLWRhc2hhcnJheT0iNTAuMjY1NDgyNDU3NDM2NjkgNTAuMjY1NDgyNDU3NDM2NjkiIGZpbGw9Im5vbmUiIHN0cm9rZS1saW5lY2FwPSJyb3VuZCI+ICAgIDxhbmltYXRlVHJhbnNmb3JtIGF0dHJpYnV0ZU5hbWU9InRyYW5zZm9ybSIgdHlwZT0icm90YXRlIiByZXBlYXRDb3VudD0iaW5kZWZpbml0ZSIgZHVyPSIxcyIga2V5VGltZXM9IjA7MSIgdmFsdWVzPSIwIDUwIDUwOzM2MCA1MCA1MCI+PC9hbmltYXRlVHJhbnNmb3JtPiAgPC9jaXJjbGU+PC9zdmc+\\\");\\n      background-size: auto calc(min(50%, 400px));\\n    }\\n    \");\n",
              "    },    function(Bokeh) {\n",
              "      Bokeh.set_log_level(\"info\");\n",
              "    },\n",
              "function(Bokeh) {} // ensure no trailing comma for IE\n",
              "  ];\n",
              "\n",
              "  function run_inline_js() {\n",
              "    if ((root.Bokeh !== undefined) || (force === true)) {\n",
              "      for (var i = 0; i < inline_js.length; i++) {\n",
              "        inline_js[i].call(root, root.Bokeh);\n",
              "      }} else if (Date.now() < root._bokeh_timeout) {\n",
              "      setTimeout(run_inline_js, 100);\n",
              "    } else if (!root._bokeh_failed_load) {\n",
              "      console.log(\"Bokeh: BokehJS failed to load within specified timeout.\");\n",
              "      root._bokeh_failed_load = true;\n",
              "    }\n",
              "  }\n",
              "\n",
              "  if (root._bokeh_is_loading === 0) {\n",
              "    console.debug(\"Bokeh: BokehJS loaded, going straight to plotting\");\n",
              "    run_inline_js();\n",
              "  } else {\n",
              "    load_libs(css_urls, js_urls, js_modules, function() {\n",
              "      console.debug(\"Bokeh: BokehJS plotting callback run at\", now());\n",
              "      run_inline_js();\n",
              "    });\n",
              "  }\n",
              "}(window));"
            ],
            "application/vnd.holoviews_load.v0+json": "(function(root) {\n  function now() {\n    return new Date();\n  }\n\n  var force = true;\n\n  if (typeof root._bokeh_onload_callbacks === \"undefined\" || force === true) {\n    root._bokeh_onload_callbacks = [];\n    root._bokeh_is_loading = undefined;\n  }\n\n  if (typeof (root._bokeh_timeout) === \"undefined\" || force === true) {\n    root._bokeh_timeout = Date.now() + 5000;\n    root._bokeh_failed_load = false;\n  }\n\n  function run_callbacks() {\n    try {\n      root._bokeh_onload_callbacks.forEach(function(callback) {\n        if (callback != null)\n          callback();\n      });\n    } finally {\n      delete root._bokeh_onload_callbacks\n    }\n    console.debug(\"Bokeh: all callbacks have finished\");\n  }\n\n  function load_libs(css_urls, js_urls, js_modules, callback) {\n    if (css_urls == null) css_urls = [];\n    if (js_urls == null) js_urls = [];\n    if (js_modules == null) js_modules = [];\n\n    root._bokeh_onload_callbacks.push(callback);\n    if (root._bokeh_is_loading > 0) {\n      console.debug(\"Bokeh: BokehJS is being loaded, scheduling callback at\", now());\n      return null;\n    }\n    if (js_urls.length === 0 && js_modules.length === 0) {\n      run_callbacks();\n      return null;\n    }\n    console.debug(\"Bokeh: BokehJS not loaded, scheduling load and callback at\", now());\n\n    function on_load() {\n      root._bokeh_is_loading--;\n      if (root._bokeh_is_loading === 0) {\n        console.debug(\"Bokeh: all BokehJS libraries/stylesheets loaded\");\n        run_callbacks()\n      }\n    }\n\n    function on_error() {\n      console.error(\"failed to load \" + url);\n    }\n\n    for (var i = 0; i < css_urls.length; i++) {\n      var url = css_urls[i];\n      const element = document.createElement(\"link\");\n      element.onload = on_load;\n      element.onerror = on_error;\n      element.rel = \"stylesheet\";\n      element.type = \"text/css\";\n      element.href = url;\n      console.debug(\"Bokeh: injecting link tag for BokehJS stylesheet: \", url);\n      document.body.appendChild(element);\n    }\n\n    var skip = [];\n    if (window.requirejs) {\n      window.requirejs.config({'packages': {}, 'paths': {'gridstack': 'https://cdn.jsdelivr.net/npm/gridstack@4.2.5/dist/gridstack-h5', 'notyf': 'https://cdn.jsdelivr.net/npm/notyf@3/notyf.min'}, 'shim': {'gridstack': {'exports': 'GridStack'}}});\n      require([\"gridstack\"], function(GridStack) {\n\twindow.GridStack = GridStack\n\ton_load()\n      })\n      require([\"notyf\"], function() {\n\ton_load()\n      })\n      root._bokeh_is_loading = css_urls.length + 2;\n    } else {\n      root._bokeh_is_loading = css_urls.length + js_urls.length + js_modules.length;\n    }    if (((window['GridStack'] !== undefined) && (!(window['GridStack'] instanceof HTMLElement))) || window.requirejs) {\n      var urls = ['https://cdn.jsdelivr.net/npm/gridstack@4.2.5/dist/gridstack-h5.js'];\n      for (var i = 0; i < urls.length; i++) {\n        skip.push(urls[i])\n      }\n    }    if (((window['Notyf'] !== undefined) && (!(window['Notyf'] instanceof HTMLElement))) || window.requirejs) {\n      var urls = ['https://cdn.jsdelivr.net/npm/notyf@3/notyf.min.js'];\n      for (var i = 0; i < urls.length; i++) {\n        skip.push(urls[i])\n      }\n    }    for (var i = 0; i < js_urls.length; i++) {\n      var url = js_urls[i];\n      if (skip.indexOf(url) >= 0) {\n\tif (!window.requirejs) {\n\t  on_load();\n\t}\n\tcontinue;\n      }\n      var element = document.createElement('script');\n      element.onload = on_load;\n      element.onerror = on_error;\n      element.async = false;\n      element.src = url;\n      console.debug(\"Bokeh: injecting script tag for BokehJS library: \", url);\n      document.head.appendChild(element);\n    }\n    for (var i = 0; i < js_modules.length; i++) {\n      var url = js_modules[i];\n      if (skip.indexOf(url) >= 0) {\n\tif (!window.requirejs) {\n\t  on_load();\n\t}\n\tcontinue;\n      }\n      var element = document.createElement('script');\n      element.onload = on_load;\n      element.onerror = on_error;\n      element.async = false;\n      element.src = url;\n      element.type = \"module\";\n      console.debug(\"Bokeh: injecting script tag for BokehJS library: \", url);\n      document.head.appendChild(element);\n    }\n    if (!js_urls.length && !js_modules.length) {\n      on_load()\n    }\n  };\n\n  function inject_raw_css(css) {\n    const element = document.createElement(\"style\");\n    element.appendChild(document.createTextNode(css));\n    document.body.appendChild(element);\n  }\n\n  var js_urls = [\"https://cdn.bokeh.org/bokeh/release/bokeh-2.4.3.min.js\", \"https://cdn.bokeh.org/bokeh/release/bokeh-gl-2.4.3.min.js\", \"https://cdn.bokeh.org/bokeh/release/bokeh-widgets-2.4.3.min.js\", \"https://cdn.bokeh.org/bokeh/release/bokeh-tables-2.4.3.min.js\", \"https://cdn.bokeh.org/bokeh/release/bokeh-mathjax-2.4.3.min.js\", \"https://cdn.jsdelivr.net/npm/notyf@3/notyf.min.js\", \"https://unpkg.com/@holoviz/panel@0.13.1/dist/panel.min.js\"];\n  var js_modules = [];\n  var css_urls = [\"https://cdn.jsdelivr.net/npm/notyf@3/notyf.min.css\", \"https://cdnjs.cloudflare.com/ajax/libs/font-awesome/5.15.1/css/all.min.css\", \"https://unpkg.com/@holoviz/panel@0.13.1/dist/css/debugger.css\", \"https://unpkg.com/@holoviz/panel@0.13.1/dist/css/alerts.css\", \"https://unpkg.com/@holoviz/panel@0.13.1/dist/css/card.css\", \"https://unpkg.com/@holoviz/panel@0.13.1/dist/css/widgets.css\", \"https://unpkg.com/@holoviz/panel@0.13.1/dist/css/markdown.css\", \"https://unpkg.com/@holoviz/panel@0.13.1/dist/css/json.css\", \"https://unpkg.com/@holoviz/panel@0.13.1/dist/css/loading.css\", \"https://unpkg.com/@holoviz/panel@0.13.1/dist/css/dataframe.css\"];\n  var inline_js = [    function(Bokeh) {\n      inject_raw_css(\"\\n    .bk.pn-loading.arcs:before {\\n      background-image: url(\\\"data:image/svg+xml;base64,PHN2ZyB4bWxucz0iaHR0cDovL3d3dy53My5vcmcvMjAwMC9zdmciIHhtbG5zOnhsaW5rPSJodHRwOi8vd3d3LnczLm9yZy8xOTk5L3hsaW5rIiBzdHlsZT0ibWFyZ2luOiBhdXRvOyBiYWNrZ3JvdW5kOiBub25lOyBkaXNwbGF5OiBibG9jazsgc2hhcGUtcmVuZGVyaW5nOiBhdXRvOyIgdmlld0JveD0iMCAwIDEwMCAxMDAiIHByZXNlcnZlQXNwZWN0UmF0aW89InhNaWRZTWlkIj4gIDxjaXJjbGUgY3g9IjUwIiBjeT0iNTAiIHI9IjMyIiBzdHJva2Utd2lkdGg9IjgiIHN0cm9rZT0iI2MzYzNjMyIgc3Ryb2tlLWRhc2hhcnJheT0iNTAuMjY1NDgyNDU3NDM2NjkgNTAuMjY1NDgyNDU3NDM2NjkiIGZpbGw9Im5vbmUiIHN0cm9rZS1saW5lY2FwPSJyb3VuZCI+ICAgIDxhbmltYXRlVHJhbnNmb3JtIGF0dHJpYnV0ZU5hbWU9InRyYW5zZm9ybSIgdHlwZT0icm90YXRlIiByZXBlYXRDb3VudD0iaW5kZWZpbml0ZSIgZHVyPSIxcyIga2V5VGltZXM9IjA7MSIgdmFsdWVzPSIwIDUwIDUwOzM2MCA1MCA1MCI+PC9hbmltYXRlVHJhbnNmb3JtPiAgPC9jaXJjbGU+PC9zdmc+\\\");\\n      background-size: auto calc(min(50%, 400px));\\n    }\\n    \");\n    },    function(Bokeh) {\n      Bokeh.set_log_level(\"info\");\n    },\nfunction(Bokeh) {} // ensure no trailing comma for IE\n  ];\n\n  function run_inline_js() {\n    if ((root.Bokeh !== undefined) || (force === true)) {\n      for (var i = 0; i < inline_js.length; i++) {\n        inline_js[i].call(root, root.Bokeh);\n      }} else if (Date.now() < root._bokeh_timeout) {\n      setTimeout(run_inline_js, 100);\n    } else if (!root._bokeh_failed_load) {\n      console.log(\"Bokeh: BokehJS failed to load within specified timeout.\");\n      root._bokeh_failed_load = true;\n    }\n  }\n\n  if (root._bokeh_is_loading === 0) {\n    console.debug(\"Bokeh: BokehJS loaded, going straight to plotting\");\n    run_inline_js();\n  } else {\n    load_libs(css_urls, js_urls, js_modules, function() {\n      console.debug(\"Bokeh: BokehJS plotting callback run at\", now());\n      run_inline_js();\n    });\n  }\n}(window));"
          },
          "metadata": {},
          "output_type": "display_data"
        },
        {
          "data": {
            "application/javascript": [
              "\n",
              "if ((window.PyViz === undefined) || (window.PyViz instanceof HTMLElement)) {\n",
              "  window.PyViz = {comms: {}, comm_status:{}, kernels:{}, receivers: {}, plot_index: []}\n",
              "}\n",
              "\n",
              "\n",
              "    function JupyterCommManager() {\n",
              "    }\n",
              "\n",
              "    JupyterCommManager.prototype.register_target = function(plot_id, comm_id, msg_handler) {\n",
              "      if (window.comm_manager || ((window.Jupyter !== undefined) && (Jupyter.notebook.kernel != null))) {\n",
              "        var comm_manager = window.comm_manager || Jupyter.notebook.kernel.comm_manager;\n",
              "        comm_manager.register_target(comm_id, function(comm) {\n",
              "          comm.on_msg(msg_handler);\n",
              "        });\n",
              "      } else if ((plot_id in window.PyViz.kernels) && (window.PyViz.kernels[plot_id])) {\n",
              "        window.PyViz.kernels[plot_id].registerCommTarget(comm_id, function(comm) {\n",
              "          comm.onMsg = msg_handler;\n",
              "        });\n",
              "      } else if (typeof google != 'undefined' && google.colab.kernel != null) {\n",
              "        google.colab.kernel.comms.registerTarget(comm_id, (comm) => {\n",
              "          var messages = comm.messages[Symbol.asyncIterator]();\n",
              "          function processIteratorResult(result) {\n",
              "            var message = result.value;\n",
              "            console.log(message)\n",
              "            var content = {data: message.data, comm_id};\n",
              "            var buffers = []\n",
              "            for (var buffer of message.buffers || []) {\n",
              "              buffers.push(new DataView(buffer))\n",
              "            }\n",
              "            var metadata = message.metadata || {};\n",
              "            var msg = {content, buffers, metadata}\n",
              "            msg_handler(msg);\n",
              "            return messages.next().then(processIteratorResult);\n",
              "          }\n",
              "          return messages.next().then(processIteratorResult);\n",
              "        })\n",
              "      }\n",
              "    }\n",
              "\n",
              "    JupyterCommManager.prototype.get_client_comm = function(plot_id, comm_id, msg_handler) {\n",
              "      if (comm_id in window.PyViz.comms) {\n",
              "        return window.PyViz.comms[comm_id];\n",
              "      } else if (window.comm_manager || ((window.Jupyter !== undefined) && (Jupyter.notebook.kernel != null))) {\n",
              "        var comm_manager = window.comm_manager || Jupyter.notebook.kernel.comm_manager;\n",
              "        var comm = comm_manager.new_comm(comm_id, {}, {}, {}, comm_id);\n",
              "        if (msg_handler) {\n",
              "          comm.on_msg(msg_handler);\n",
              "        }\n",
              "      } else if ((plot_id in window.PyViz.kernels) && (window.PyViz.kernels[plot_id])) {\n",
              "        var comm = window.PyViz.kernels[plot_id].connectToComm(comm_id);\n",
              "        comm.open();\n",
              "        if (msg_handler) {\n",
              "          comm.onMsg = msg_handler;\n",
              "        }\n",
              "      } else if (typeof google != 'undefined' && google.colab.kernel != null) {\n",
              "        var comm_promise = google.colab.kernel.comms.open(comm_id)\n",
              "        comm_promise.then((comm) => {\n",
              "          window.PyViz.comms[comm_id] = comm;\n",
              "          if (msg_handler) {\n",
              "            var messages = comm.messages[Symbol.asyncIterator]();\n",
              "            function processIteratorResult(result) {\n",
              "              var message = result.value;\n",
              "              var content = {data: message.data};\n",
              "              var metadata = message.metadata || {comm_id};\n",
              "              var msg = {content, metadata}\n",
              "              msg_handler(msg);\n",
              "              return messages.next().then(processIteratorResult);\n",
              "            }\n",
              "            return messages.next().then(processIteratorResult);\n",
              "          }\n",
              "        }) \n",
              "        var sendClosure = (data, metadata, buffers, disposeOnDone) => {\n",
              "          return comm_promise.then((comm) => {\n",
              "            comm.send(data, metadata, buffers, disposeOnDone);\n",
              "          });\n",
              "        };\n",
              "        var comm = {\n",
              "          send: sendClosure\n",
              "        };\n",
              "      }\n",
              "      window.PyViz.comms[comm_id] = comm;\n",
              "      return comm;\n",
              "    }\n",
              "    window.PyViz.comm_manager = new JupyterCommManager();\n",
              "    \n",
              "\n",
              "\n",
              "var JS_MIME_TYPE = 'application/javascript';\n",
              "var HTML_MIME_TYPE = 'text/html';\n",
              "var EXEC_MIME_TYPE = 'application/vnd.holoviews_exec.v0+json';\n",
              "var CLASS_NAME = 'output';\n",
              "\n",
              "/**\n",
              " * Render data to the DOM node\n",
              " */\n",
              "function render(props, node) {\n",
              "  var div = document.createElement(\"div\");\n",
              "  var script = document.createElement(\"script\");\n",
              "  node.appendChild(div);\n",
              "  node.appendChild(script);\n",
              "}\n",
              "\n",
              "/**\n",
              " * Handle when a new output is added\n",
              " */\n",
              "function handle_add_output(event, handle) {\n",
              "  var output_area = handle.output_area;\n",
              "  var output = handle.output;\n",
              "  if ((output.data == undefined) || (!output.data.hasOwnProperty(EXEC_MIME_TYPE))) {\n",
              "    return\n",
              "  }\n",
              "  var id = output.metadata[EXEC_MIME_TYPE][\"id\"];\n",
              "  var toinsert = output_area.element.find(\".\" + CLASS_NAME.split(' ')[0]);\n",
              "  if (id !== undefined) {\n",
              "    var nchildren = toinsert.length;\n",
              "    var html_node = toinsert[nchildren-1].children[0];\n",
              "    html_node.innerHTML = output.data[HTML_MIME_TYPE];\n",
              "    var scripts = [];\n",
              "    var nodelist = html_node.querySelectorAll(\"script\");\n",
              "    for (var i in nodelist) {\n",
              "      if (nodelist.hasOwnProperty(i)) {\n",
              "        scripts.push(nodelist[i])\n",
              "      }\n",
              "    }\n",
              "\n",
              "    scripts.forEach( function (oldScript) {\n",
              "      var newScript = document.createElement(\"script\");\n",
              "      var attrs = [];\n",
              "      var nodemap = oldScript.attributes;\n",
              "      for (var j in nodemap) {\n",
              "        if (nodemap.hasOwnProperty(j)) {\n",
              "          attrs.push(nodemap[j])\n",
              "        }\n",
              "      }\n",
              "      attrs.forEach(function(attr) { newScript.setAttribute(attr.name, attr.value) });\n",
              "      newScript.appendChild(document.createTextNode(oldScript.innerHTML));\n",
              "      oldScript.parentNode.replaceChild(newScript, oldScript);\n",
              "    });\n",
              "    if (JS_MIME_TYPE in output.data) {\n",
              "      toinsert[nchildren-1].children[1].textContent = output.data[JS_MIME_TYPE];\n",
              "    }\n",
              "    output_area._hv_plot_id = id;\n",
              "    if ((window.Bokeh !== undefined) && (id in Bokeh.index)) {\n",
              "      window.PyViz.plot_index[id] = Bokeh.index[id];\n",
              "    } else {\n",
              "      window.PyViz.plot_index[id] = null;\n",
              "    }\n",
              "  } else if (output.metadata[EXEC_MIME_TYPE][\"server_id\"] !== undefined) {\n",
              "    var bk_div = document.createElement(\"div\");\n",
              "    bk_div.innerHTML = output.data[HTML_MIME_TYPE];\n",
              "    var script_attrs = bk_div.children[0].attributes;\n",
              "    for (var i = 0; i < script_attrs.length; i++) {\n",
              "      toinsert[toinsert.length - 1].childNodes[1].setAttribute(script_attrs[i].name, script_attrs[i].value);\n",
              "    }\n",
              "    // store reference to server id on output_area\n",
              "    output_area._bokeh_server_id = output.metadata[EXEC_MIME_TYPE][\"server_id\"];\n",
              "  }\n",
              "}\n",
              "\n",
              "/**\n",
              " * Handle when an output is cleared or removed\n",
              " */\n",
              "function handle_clear_output(event, handle) {\n",
              "  var id = handle.cell.output_area._hv_plot_id;\n",
              "  var server_id = handle.cell.output_area._bokeh_server_id;\n",
              "  if (((id === undefined) || !(id in PyViz.plot_index)) && (server_id !== undefined)) { return; }\n",
              "  var comm = window.PyViz.comm_manager.get_client_comm(\"hv-extension-comm\", \"hv-extension-comm\", function () {});\n",
              "  if (server_id !== null) {\n",
              "    comm.send({event_type: 'server_delete', 'id': server_id});\n",
              "    return;\n",
              "  } else if (comm !== null) {\n",
              "    comm.send({event_type: 'delete', 'id': id});\n",
              "  }\n",
              "  delete PyViz.plot_index[id];\n",
              "  if ((window.Bokeh !== undefined) & (id in window.Bokeh.index)) {\n",
              "    var doc = window.Bokeh.index[id].model.document\n",
              "    doc.clear();\n",
              "    const i = window.Bokeh.documents.indexOf(doc);\n",
              "    if (i > -1) {\n",
              "      window.Bokeh.documents.splice(i, 1);\n",
              "    }\n",
              "  }\n",
              "}\n",
              "\n",
              "/**\n",
              " * Handle kernel restart event\n",
              " */\n",
              "function handle_kernel_cleanup(event, handle) {\n",
              "  delete PyViz.comms[\"hv-extension-comm\"];\n",
              "  window.PyViz.plot_index = {}\n",
              "}\n",
              "\n",
              "/**\n",
              " * Handle update_display_data messages\n",
              " */\n",
              "function handle_update_output(event, handle) {\n",
              "  handle_clear_output(event, {cell: {output_area: handle.output_area}})\n",
              "  handle_add_output(event, handle)\n",
              "}\n",
              "\n",
              "function register_renderer(events, OutputArea) {\n",
              "  function append_mime(data, metadata, element) {\n",
              "    // create a DOM node to render to\n",
              "    var toinsert = this.create_output_subarea(\n",
              "    metadata,\n",
              "    CLASS_NAME,\n",
              "    EXEC_MIME_TYPE\n",
              "    );\n",
              "    this.keyboard_manager.register_events(toinsert);\n",
              "    // Render to node\n",
              "    var props = {data: data, metadata: metadata[EXEC_MIME_TYPE]};\n",
              "    render(props, toinsert[0]);\n",
              "    element.append(toinsert);\n",
              "    return toinsert\n",
              "  }\n",
              "\n",
              "  events.on('output_added.OutputArea', handle_add_output);\n",
              "  events.on('output_updated.OutputArea', handle_update_output);\n",
              "  events.on('clear_output.CodeCell', handle_clear_output);\n",
              "  events.on('delete.Cell', handle_clear_output);\n",
              "  events.on('kernel_ready.Kernel', handle_kernel_cleanup);\n",
              "\n",
              "  OutputArea.prototype.register_mime_type(EXEC_MIME_TYPE, append_mime, {\n",
              "    safe: true,\n",
              "    index: 0\n",
              "  });\n",
              "}\n",
              "\n",
              "if (window.Jupyter !== undefined) {\n",
              "  try {\n",
              "    var events = require('base/js/events');\n",
              "    var OutputArea = require('notebook/js/outputarea').OutputArea;\n",
              "    if (OutputArea.prototype.mime_types().indexOf(EXEC_MIME_TYPE) == -1) {\n",
              "      register_renderer(events, OutputArea);\n",
              "    }\n",
              "  } catch(err) {\n",
              "  }\n",
              "}\n"
            ],
            "application/vnd.holoviews_load.v0+json": "\nif ((window.PyViz === undefined) || (window.PyViz instanceof HTMLElement)) {\n  window.PyViz = {comms: {}, comm_status:{}, kernels:{}, receivers: {}, plot_index: []}\n}\n\n\n    function JupyterCommManager() {\n    }\n\n    JupyterCommManager.prototype.register_target = function(plot_id, comm_id, msg_handler) {\n      if (window.comm_manager || ((window.Jupyter !== undefined) && (Jupyter.notebook.kernel != null))) {\n        var comm_manager = window.comm_manager || Jupyter.notebook.kernel.comm_manager;\n        comm_manager.register_target(comm_id, function(comm) {\n          comm.on_msg(msg_handler);\n        });\n      } else if ((plot_id in window.PyViz.kernels) && (window.PyViz.kernels[plot_id])) {\n        window.PyViz.kernels[plot_id].registerCommTarget(comm_id, function(comm) {\n          comm.onMsg = msg_handler;\n        });\n      } else if (typeof google != 'undefined' && google.colab.kernel != null) {\n        google.colab.kernel.comms.registerTarget(comm_id, (comm) => {\n          var messages = comm.messages[Symbol.asyncIterator]();\n          function processIteratorResult(result) {\n            var message = result.value;\n            console.log(message)\n            var content = {data: message.data, comm_id};\n            var buffers = []\n            for (var buffer of message.buffers || []) {\n              buffers.push(new DataView(buffer))\n            }\n            var metadata = message.metadata || {};\n            var msg = {content, buffers, metadata}\n            msg_handler(msg);\n            return messages.next().then(processIteratorResult);\n          }\n          return messages.next().then(processIteratorResult);\n        })\n      }\n    }\n\n    JupyterCommManager.prototype.get_client_comm = function(plot_id, comm_id, msg_handler) {\n      if (comm_id in window.PyViz.comms) {\n        return window.PyViz.comms[comm_id];\n      } else if (window.comm_manager || ((window.Jupyter !== undefined) && (Jupyter.notebook.kernel != null))) {\n        var comm_manager = window.comm_manager || Jupyter.notebook.kernel.comm_manager;\n        var comm = comm_manager.new_comm(comm_id, {}, {}, {}, comm_id);\n        if (msg_handler) {\n          comm.on_msg(msg_handler);\n        }\n      } else if ((plot_id in window.PyViz.kernels) && (window.PyViz.kernels[plot_id])) {\n        var comm = window.PyViz.kernels[plot_id].connectToComm(comm_id);\n        comm.open();\n        if (msg_handler) {\n          comm.onMsg = msg_handler;\n        }\n      } else if (typeof google != 'undefined' && google.colab.kernel != null) {\n        var comm_promise = google.colab.kernel.comms.open(comm_id)\n        comm_promise.then((comm) => {\n          window.PyViz.comms[comm_id] = comm;\n          if (msg_handler) {\n            var messages = comm.messages[Symbol.asyncIterator]();\n            function processIteratorResult(result) {\n              var message = result.value;\n              var content = {data: message.data};\n              var metadata = message.metadata || {comm_id};\n              var msg = {content, metadata}\n              msg_handler(msg);\n              return messages.next().then(processIteratorResult);\n            }\n            return messages.next().then(processIteratorResult);\n          }\n        }) \n        var sendClosure = (data, metadata, buffers, disposeOnDone) => {\n          return comm_promise.then((comm) => {\n            comm.send(data, metadata, buffers, disposeOnDone);\n          });\n        };\n        var comm = {\n          send: sendClosure\n        };\n      }\n      window.PyViz.comms[comm_id] = comm;\n      return comm;\n    }\n    window.PyViz.comm_manager = new JupyterCommManager();\n    \n\n\nvar JS_MIME_TYPE = 'application/javascript';\nvar HTML_MIME_TYPE = 'text/html';\nvar EXEC_MIME_TYPE = 'application/vnd.holoviews_exec.v0+json';\nvar CLASS_NAME = 'output';\n\n/**\n * Render data to the DOM node\n */\nfunction render(props, node) {\n  var div = document.createElement(\"div\");\n  var script = document.createElement(\"script\");\n  node.appendChild(div);\n  node.appendChild(script);\n}\n\n/**\n * Handle when a new output is added\n */\nfunction handle_add_output(event, handle) {\n  var output_area = handle.output_area;\n  var output = handle.output;\n  if ((output.data == undefined) || (!output.data.hasOwnProperty(EXEC_MIME_TYPE))) {\n    return\n  }\n  var id = output.metadata[EXEC_MIME_TYPE][\"id\"];\n  var toinsert = output_area.element.find(\".\" + CLASS_NAME.split(' ')[0]);\n  if (id !== undefined) {\n    var nchildren = toinsert.length;\n    var html_node = toinsert[nchildren-1].children[0];\n    html_node.innerHTML = output.data[HTML_MIME_TYPE];\n    var scripts = [];\n    var nodelist = html_node.querySelectorAll(\"script\");\n    for (var i in nodelist) {\n      if (nodelist.hasOwnProperty(i)) {\n        scripts.push(nodelist[i])\n      }\n    }\n\n    scripts.forEach( function (oldScript) {\n      var newScript = document.createElement(\"script\");\n      var attrs = [];\n      var nodemap = oldScript.attributes;\n      for (var j in nodemap) {\n        if (nodemap.hasOwnProperty(j)) {\n          attrs.push(nodemap[j])\n        }\n      }\n      attrs.forEach(function(attr) { newScript.setAttribute(attr.name, attr.value) });\n      newScript.appendChild(document.createTextNode(oldScript.innerHTML));\n      oldScript.parentNode.replaceChild(newScript, oldScript);\n    });\n    if (JS_MIME_TYPE in output.data) {\n      toinsert[nchildren-1].children[1].textContent = output.data[JS_MIME_TYPE];\n    }\n    output_area._hv_plot_id = id;\n    if ((window.Bokeh !== undefined) && (id in Bokeh.index)) {\n      window.PyViz.plot_index[id] = Bokeh.index[id];\n    } else {\n      window.PyViz.plot_index[id] = null;\n    }\n  } else if (output.metadata[EXEC_MIME_TYPE][\"server_id\"] !== undefined) {\n    var bk_div = document.createElement(\"div\");\n    bk_div.innerHTML = output.data[HTML_MIME_TYPE];\n    var script_attrs = bk_div.children[0].attributes;\n    for (var i = 0; i < script_attrs.length; i++) {\n      toinsert[toinsert.length - 1].childNodes[1].setAttribute(script_attrs[i].name, script_attrs[i].value);\n    }\n    // store reference to server id on output_area\n    output_area._bokeh_server_id = output.metadata[EXEC_MIME_TYPE][\"server_id\"];\n  }\n}\n\n/**\n * Handle when an output is cleared or removed\n */\nfunction handle_clear_output(event, handle) {\n  var id = handle.cell.output_area._hv_plot_id;\n  var server_id = handle.cell.output_area._bokeh_server_id;\n  if (((id === undefined) || !(id in PyViz.plot_index)) && (server_id !== undefined)) { return; }\n  var comm = window.PyViz.comm_manager.get_client_comm(\"hv-extension-comm\", \"hv-extension-comm\", function () {});\n  if (server_id !== null) {\n    comm.send({event_type: 'server_delete', 'id': server_id});\n    return;\n  } else if (comm !== null) {\n    comm.send({event_type: 'delete', 'id': id});\n  }\n  delete PyViz.plot_index[id];\n  if ((window.Bokeh !== undefined) & (id in window.Bokeh.index)) {\n    var doc = window.Bokeh.index[id].model.document\n    doc.clear();\n    const i = window.Bokeh.documents.indexOf(doc);\n    if (i > -1) {\n      window.Bokeh.documents.splice(i, 1);\n    }\n  }\n}\n\n/**\n * Handle kernel restart event\n */\nfunction handle_kernel_cleanup(event, handle) {\n  delete PyViz.comms[\"hv-extension-comm\"];\n  window.PyViz.plot_index = {}\n}\n\n/**\n * Handle update_display_data messages\n */\nfunction handle_update_output(event, handle) {\n  handle_clear_output(event, {cell: {output_area: handle.output_area}})\n  handle_add_output(event, handle)\n}\n\nfunction register_renderer(events, OutputArea) {\n  function append_mime(data, metadata, element) {\n    // create a DOM node to render to\n    var toinsert = this.create_output_subarea(\n    metadata,\n    CLASS_NAME,\n    EXEC_MIME_TYPE\n    );\n    this.keyboard_manager.register_events(toinsert);\n    // Render to node\n    var props = {data: data, metadata: metadata[EXEC_MIME_TYPE]};\n    render(props, toinsert[0]);\n    element.append(toinsert);\n    return toinsert\n  }\n\n  events.on('output_added.OutputArea', handle_add_output);\n  events.on('output_updated.OutputArea', handle_update_output);\n  events.on('clear_output.CodeCell', handle_clear_output);\n  events.on('delete.Cell', handle_clear_output);\n  events.on('kernel_ready.Kernel', handle_kernel_cleanup);\n\n  OutputArea.prototype.register_mime_type(EXEC_MIME_TYPE, append_mime, {\n    safe: true,\n    index: 0\n  });\n}\n\nif (window.Jupyter !== undefined) {\n  try {\n    var events = require('base/js/events');\n    var OutputArea = require('notebook/js/outputarea').OutputArea;\n    if (OutputArea.prototype.mime_types().indexOf(EXEC_MIME_TYPE) == -1) {\n      register_renderer(events, OutputArea);\n    }\n  } catch(err) {\n  }\n}\n"
          },
          "metadata": {},
          "output_type": "display_data"
        },
        {
          "data": {
            "text/html": [
              "<style>.bk-root, .bk-root .bk:before, .bk-root .bk:after {\n",
              "  font-family: var(--jp-ui-font-size1);\n",
              "  font-size: var(--jp-ui-font-size1);\n",
              "  color: var(--jp-ui-font-color1);\n",
              "}\n",
              "</style>"
            ]
          },
          "metadata": {},
          "output_type": "display_data"
        }
      ],
      "source": [
        "import panel as pn\n",
        "pn.extension()\n",
        "\n",
        "import hvplot.pandas"
      ]
    },
    {
      "cell_type": "markdown",
      "metadata": {
        "id": "FIYEWUH9ebFx"
      },
      "source": [
        "The below graph shows the different reasons for loans by different provinces."
      ]
    },
    {
      "cell_type": "code",
      "execution_count": null,
      "metadata": {
        "colab": {
          "base_uri": "https://localhost:8080/"
        },
        "id": "B4Ks9qyOZfxF",
        "outputId": "50baa954-c62e-4f1b-de03-50e5deba7332"
      },
      "outputs": [
        {
          "data": {},
          "metadata": {},
          "output_type": "display_data"
        },
        {
          "data": {},
          "metadata": {},
          "output_type": "display_data"
        },
        {
          "data": {
            "application/vnd.holoviews_exec.v0+json": "",
            "text/html": [
              "<div id='1002'>\n",
              "  <div class=\"bk-root\" id=\"d0edae0c-ecd3-428b-b5b1-ad3bc8d000e6\" data-root-id=\"1002\"></div>\n",
              "</div>\n",
              "<script type=\"application/javascript\">(function(root) {\n",
              "  function embed_document(root) {\n",
              "    var docs_json = {\"54957118-9bac-4d30-8654-e5f8d970411a\":{\"defs\":[{\"extends\":null,\"module\":null,\"name\":\"ReactiveHTML1\",\"overrides\":[],\"properties\":[]},{\"extends\":null,\"module\":null,\"name\":\"FlexBox1\",\"overrides\":[],\"properties\":[{\"default\":\"flex-start\",\"kind\":null,\"name\":\"align_content\"},{\"default\":\"flex-start\",\"kind\":null,\"name\":\"align_items\"},{\"default\":\"row\",\"kind\":null,\"name\":\"flex_direction\"},{\"default\":\"wrap\",\"kind\":null,\"name\":\"flex_wrap\"},{\"default\":\"flex-start\",\"kind\":null,\"name\":\"justify_content\"}]},{\"extends\":null,\"module\":null,\"name\":\"GridStack1\",\"overrides\":[],\"properties\":[{\"default\":\"warn\",\"kind\":null,\"name\":\"mode\"},{\"default\":null,\"kind\":null,\"name\":\"ncols\"},{\"default\":null,\"kind\":null,\"name\":\"nrows\"},{\"default\":true,\"kind\":null,\"name\":\"allow_resize\"},{\"default\":true,\"kind\":null,\"name\":\"allow_drag\"},{\"default\":[],\"kind\":null,\"name\":\"state\"}]},{\"extends\":null,\"module\":null,\"name\":\"click1\",\"overrides\":[],\"properties\":[{\"default\":\"\",\"kind\":null,\"name\":\"terminal_output\"},{\"default\":\"\",\"kind\":null,\"name\":\"debug_name\"},{\"default\":0,\"kind\":null,\"name\":\"clears\"}]},{\"extends\":null,\"module\":null,\"name\":\"NotificationAreaBase1\",\"overrides\":[],\"properties\":[{\"default\":\"bottom-right\",\"kind\":null,\"name\":\"position\"},{\"default\":0,\"kind\":null,\"name\":\"_clear\"}]},{\"extends\":null,\"module\":null,\"name\":\"NotificationArea1\",\"overrides\":[],\"properties\":[{\"default\":[],\"kind\":null,\"name\":\"notifications\"},{\"default\":\"bottom-right\",\"kind\":null,\"name\":\"position\"},{\"default\":0,\"kind\":null,\"name\":\"_clear\"},{\"default\":[{\"background\":\"#ffc107\",\"icon\":{\"className\":\"fas fa-exclamation-triangle\",\"color\":\"white\",\"tagName\":\"i\"},\"type\":\"warning\"},{\"background\":\"#007bff\",\"icon\":{\"className\":\"fas fa-info-circle\",\"color\":\"white\",\"tagName\":\"i\"},\"type\":\"info\"}],\"kind\":null,\"name\":\"types\"}]},{\"extends\":null,\"module\":null,\"name\":\"Notification\",\"overrides\":[],\"properties\":[{\"default\":null,\"kind\":null,\"name\":\"background\"},{\"default\":3000,\"kind\":null,\"name\":\"duration\"},{\"default\":null,\"kind\":null,\"name\":\"icon\"},{\"default\":\"\",\"kind\":null,\"name\":\"message\"},{\"default\":null,\"kind\":null,\"name\":\"notification_type\"},{\"default\":false,\"kind\":null,\"name\":\"_destroyed\"}]},{\"extends\":null,\"module\":null,\"name\":\"TemplateActions1\",\"overrides\":[],\"properties\":[{\"default\":0,\"kind\":null,\"name\":\"open_modal\"},{\"default\":0,\"kind\":null,\"name\":\"close_modal\"}]},{\"extends\":null,\"module\":null,\"name\":\"MaterialTemplateActions1\",\"overrides\":[],\"properties\":[{\"default\":0,\"kind\":null,\"name\":\"open_modal\"},{\"default\":0,\"kind\":null,\"name\":\"close_modal\"}]}],\"roots\":{\"references\":[{\"attributes\":{},\"id\":\"1015\",\"type\":\"CategoricalScale\"},{\"attributes\":{},\"id\":\"1052\",\"type\":\"BasicTickFormatter\"},{\"attributes\":{\"factors\":[\"Home Improvement\",\"Vehicle\"],\"tags\":[[[\"index\",\"index\",null]]]},\"id\":\"1007\",\"type\":\"FactorRange\"},{\"attributes\":{\"fill_color\":{\"value\":\"#30a2da\"},\"hatch_color\":{\"value\":\"#30a2da\"},\"top\":{\"field\":\"Reason_for_loan\"},\"width\":{\"value\":0.8},\"x\":{\"field\":\"index\"}},\"id\":\"1042\",\"type\":\"VBar\"},{\"attributes\":{},\"id\":\"1050\",\"type\":\"AllLabels\"},{\"attributes\":{\"end\":3228.4,\"reset_end\":3228.4,\"reset_start\":0.0,\"tags\":[[[\"Reason_for_loan\",\"Reason_for_loan\",null]]]},\"id\":\"1008\",\"type\":\"Range1d\"},{\"attributes\":{\"bottom_units\":\"screen\",\"coordinates\":null,\"fill_alpha\":0.5,\"fill_color\":\"lightgrey\",\"group\":null,\"left_units\":\"screen\",\"level\":\"overlay\",\"line_alpha\":1.0,\"line_color\":\"black\",\"line_dash\":[4,4],\"line_width\":2,\"right_units\":\"screen\",\"syncable\":false,\"top_units\":\"screen\"},\"id\":\"1031\",\"type\":\"BoxAnnotation\"},{\"attributes\":{\"below\":[{\"id\":\"1019\"}],\"center\":[{\"id\":\"1021\"},{\"id\":\"1025\"}],\"height\":300,\"left\":[{\"id\":\"1022\"}],\"margin\":[5,5,5,5],\"min_border_bottom\":10,\"min_border_left\":10,\"min_border_right\":10,\"min_border_top\":10,\"renderers\":[{\"id\":\"1045\"}],\"sizing_mode\":\"fixed\",\"title\":{\"id\":\"1011\"},\"toolbar\":{\"id\":\"1032\"},\"width\":700,\"x_range\":{\"id\":\"1007\"},\"x_scale\":{\"id\":\"1015\"},\"y_range\":{\"id\":\"1008\"},\"y_scale\":{\"id\":\"1017\"}},\"id\":\"1010\",\"subtype\":\"Figure\",\"type\":\"Plot\"},{\"attributes\":{\"axis_label\":\"\",\"coordinates\":null,\"formatter\":{\"id\":\"1049\"},\"group\":null,\"major_label_policy\":{\"id\":\"1050\"},\"ticker\":{\"id\":\"1020\"}},\"id\":\"1019\",\"type\":\"CategoricalAxis\"},{\"attributes\":{\"axis\":{\"id\":\"1019\"},\"coordinates\":null,\"grid_line_color\":null,\"group\":null,\"ticker\":null},\"id\":\"1021\",\"type\":\"Grid\"},{\"attributes\":{},\"id\":\"1053\",\"type\":\"AllLabels\"},{\"attributes\":{},\"id\":\"1027\",\"type\":\"PanTool\"},{\"attributes\":{\"tools\":[{\"id\":\"1009\"},{\"id\":\"1026\"},{\"id\":\"1027\"},{\"id\":\"1028\"},{\"id\":\"1029\"},{\"id\":\"1030\"}]},\"id\":\"1032\",\"type\":\"Toolbar\"},{\"attributes\":{},\"id\":\"1020\",\"type\":\"CategoricalTicker\"},{\"attributes\":{\"client_comm_id\":\"76cc183a5f4c4a36a211a9da50cc316b\",\"comm_id\":\"464541ccdb7f4b01ba7cb472225289bc\",\"plot_id\":\"1002\"},\"id\":\"1094\",\"type\":\"panel.models.comm_manager.CommManager\"},{\"attributes\":{},\"id\":\"1040\",\"type\":\"Selection\"},{\"attributes\":{\"axis_label\":\"\",\"coordinates\":null,\"formatter\":{\"id\":\"1052\"},\"group\":null,\"major_label_policy\":{\"id\":\"1053\"},\"ticker\":{\"id\":\"1023\"}},\"id\":\"1022\",\"type\":\"LinearAxis\"},{\"attributes\":{\"axis\":{\"id\":\"1022\"},\"coordinates\":null,\"dimension\":1,\"grid_line_color\":null,\"group\":null,\"ticker\":null},\"id\":\"1025\",\"type\":\"Grid\"},{\"attributes\":{},\"id\":\"1023\",\"type\":\"BasicTicker\"},{\"attributes\":{\"fill_alpha\":{\"value\":0.1},\"fill_color\":{\"value\":\"#30a2da\"},\"hatch_alpha\":{\"value\":0.1},\"hatch_color\":{\"value\":\"#30a2da\"},\"line_alpha\":{\"value\":0.1},\"top\":{\"field\":\"Reason_for_loan\"},\"width\":{\"value\":0.8},\"x\":{\"field\":\"index\"}},\"id\":\"1043\",\"type\":\"VBar\"},{\"attributes\":{},\"id\":\"1028\",\"type\":\"WheelZoomTool\"},{\"attributes\":{\"fill_alpha\":{\"value\":0.2},\"fill_color\":{\"value\":\"#30a2da\"},\"hatch_alpha\":{\"value\":0.2},\"hatch_color\":{\"value\":\"#30a2da\"},\"line_alpha\":{\"value\":0.2},\"top\":{\"field\":\"Reason_for_loan\"},\"width\":{\"value\":0.8},\"x\":{\"field\":\"index\"}},\"id\":\"1044\",\"type\":\"VBar\"},{\"attributes\":{\"margin\":[5,10,5,10],\"options\":[\"ON\",\"AB\",\"Other Provinces\",\"BC\"],\"title\":\"Select province\",\"value\":\"ON\"},\"id\":\"1005\",\"type\":\"panel.models.widgets.CustomSelect\"},{\"attributes\":{\"source\":{\"id\":\"1039\"}},\"id\":\"1046\",\"type\":\"CDSView\"},{\"attributes\":{},\"id\":\"1026\",\"type\":\"SaveTool\"},{\"attributes\":{\"overlay\":{\"id\":\"1031\"}},\"id\":\"1029\",\"type\":\"BoxZoomTool\"},{\"attributes\":{\"coordinates\":null,\"data_source\":{\"id\":\"1039\"},\"glyph\":{\"id\":\"1042\"},\"group\":null,\"hover_glyph\":null,\"muted_glyph\":{\"id\":\"1044\"},\"nonselection_glyph\":{\"id\":\"1043\"},\"selection_glyph\":{\"id\":\"1047\"},\"view\":{\"id\":\"1046\"}},\"id\":\"1045\",\"type\":\"GlyphRenderer\"},{\"attributes\":{\"css_classes\":[\"markdown\"],\"margin\":[5,5,5,5],\"name\":\"Markdown00779\",\"text\":\"&lt;h1&gt;Loan Types by Province&lt;/h1&gt;\"},\"id\":\"1004\",\"type\":\"panel.models.markup.HTML\"},{\"attributes\":{},\"id\":\"1030\",\"type\":\"ResetTool\"},{\"attributes\":{\"coordinates\":null,\"group\":null,\"text\":\"Reason_for_loan\",\"text_color\":\"black\",\"text_font_size\":\"12pt\"},\"id\":\"1011\",\"type\":\"Title\"},{\"attributes\":{\"callback\":null,\"renderers\":[{\"id\":\"1045\"}],\"tags\":[\"hv_created\"],\"tooltips\":[[\"index\",\"@{index}\"],[\"Reason_for_loan\",\"@{Reason_for_loan}\"]]},\"id\":\"1009\",\"type\":\"HoverTool\"},{\"attributes\":{},\"id\":\"1061\",\"type\":\"UnionRenderers\"},{\"attributes\":{\"reload\":false},\"id\":\"1125\",\"type\":\"panel.models.location.Location\"},{\"attributes\":{},\"id\":\"1017\",\"type\":\"LinearScale\"},{\"attributes\":{\"children\":[{\"id\":\"1004\"},{\"id\":\"1005\"}],\"margin\":[0,0,0,0],\"name\":\"Column00781\"},\"id\":\"1003\",\"type\":\"Column\"},{\"attributes\":{\"children\":[{\"id\":\"1010\"}],\"margin\":[0,0,0,0],\"name\":\"Row00786\"},\"id\":\"1006\",\"type\":\"Row\"},{\"attributes\":{\"children\":[{\"id\":\"1003\"},{\"id\":\"1006\"}],\"margin\":[0,0,0,0],\"name\":\"Row00871\"},\"id\":\"1002\",\"type\":\"Row\"},{\"attributes\":{\"data\":{\"Reason_for_loan\":[3074,1530],\"index\":[\"Home Improvement\",\"Vehicle\"]},\"selected\":{\"id\":\"1040\"},\"selection_policy\":{\"id\":\"1061\"}},\"id\":\"1039\",\"type\":\"ColumnDataSource\"},{\"attributes\":{},\"id\":\"1049\",\"type\":\"CategoricalTickFormatter\"},{\"attributes\":{\"bottom\":{\"value\":0},\"fill_alpha\":{\"value\":1.0},\"fill_color\":{\"value\":\"#30a2da\"},\"hatch_alpha\":{\"value\":1.0},\"hatch_color\":{\"value\":\"#30a2da\"},\"hatch_scale\":{\"value\":12.0},\"hatch_weight\":{\"value\":1.0},\"line_alpha\":{\"value\":1.0},\"line_cap\":{\"value\":\"butt\"},\"line_color\":{\"value\":\"black\"},\"line_dash\":{\"value\":[]},\"line_dash_offset\":{\"value\":0},\"line_join\":{\"value\":\"bevel\"},\"line_width\":{\"value\":1},\"top\":{\"field\":\"Reason_for_loan\"},\"width\":{\"value\":0.8},\"x\":{\"field\":\"index\"}},\"id\":\"1047\",\"type\":\"VBar\"}],\"root_ids\":[\"1002\",\"1094\",\"1125\"]},\"title\":\"Bokeh Application\",\"version\":\"2.4.3\"}};\n",
              "    var render_items = [{\"docid\":\"54957118-9bac-4d30-8654-e5f8d970411a\",\"root_ids\":[\"1002\"],\"roots\":{\"1002\":\"d0edae0c-ecd3-428b-b5b1-ad3bc8d000e6\"}}];\n",
              "    root.Bokeh.embed.embed_items_notebook(docs_json, render_items);\n",
              "  }\n",
              "  if (root.Bokeh !== undefined && root.Bokeh.Panel !== undefined) {\n",
              "    embed_document(root);\n",
              "  } else {\n",
              "    var attempts = 0;\n",
              "    var timer = setInterval(function(root) {\n",
              "      if (root.Bokeh !== undefined && root.Bokeh.Panel !== undefined) {\n",
              "        clearInterval(timer);\n",
              "        embed_document(root);\n",
              "      } else if (document.readyState == \"complete\") {\n",
              "        attempts++;\n",
              "        if (attempts > 200) {\n",
              "          clearInterval(timer);\n",
              "          console.log(\"Bokeh: ERROR: Unable to run BokehJS code because BokehJS library is missing\");\n",
              "        }\n",
              "      }\n",
              "    }, 25, root)\n",
              "  }\n",
              "})(window);</script>"
            ],
            "text/plain": [
              "Row\n",
              "    [0] Column\n",
              "        [0] Markdown(str)\n",
              "        [1] Select(options=['ON', 'AB', 'Other Provin...], value='ON')\n",
              "    [1] ParamFunction(function)"
            ]
          },
          "execution_count": 34,
          "metadata": {
            "application/vnd.holoviews_exec.v0+json": {
              "id": "1002"
            }
          },
          "output_type": "execute_result"
        }
      ],
      "source": [
        "\n",
        "def plot_province(province):\n",
        "    province_data = df1[df1['Province'] == province]\n",
        "    return province_data['Reason_for_loan'].value_counts().hvplot.bar(rot=0)\n",
        "\n",
        "province_selector = pn.widgets.Select(name='Select province', options=df1['Province'].unique().tolist())\n",
        "\n",
        "dynamic_map = pn.bind(plot_province, province_selector)\n",
        "\n",
        "dashboard = pn.Row(\n",
        "    pn.Column(\"# Loan Types by Province\", province_selector),\n",
        "    dynamic_map\n",
        ")\n",
        "\n",
        "dashboard.servable()\n"
      ]
    },
    {
      "cell_type": "code",
      "execution_count": null,
      "metadata": {
        "id": "Q5GS1P1oebFy"
      },
      "outputs": [],
      "source": [
        "df_june = df1.copy()"
      ]
    },
    {
      "cell_type": "code",
      "execution_count": null,
      "metadata": {
        "scrolled": true,
        "id": "Fb3fcdTYebFy",
        "outputId": "b451c3d0-b28f-488f-b41f-8e11dbb920f2"
      },
      "outputs": [
        {
          "data": {
            "text/html": [
              "<div>\n",
              "<style scoped>\n",
              "    .dataframe tbody tr th:only-of-type {\n",
              "        vertical-align: middle;\n",
              "    }\n",
              "\n",
              "    .dataframe tbody tr th {\n",
              "        vertical-align: top;\n",
              "    }\n",
              "\n",
              "    .dataframe thead th {\n",
              "        text-align: right;\n",
              "    }\n",
              "</style>\n",
              "<table border=\"1\" class=\"dataframe\">\n",
              "  <thead>\n",
              "    <tr style=\"text-align: right;\">\n",
              "      <th></th>\n",
              "      <th>Dlq_stat</th>\n",
              "      <th>amounts</th>\n",
              "      <th>obs_date</th>\n",
              "      <th>Dlq_days</th>\n",
              "      <th>Reason_for_loan</th>\n",
              "      <th>Province</th>\n",
              "    </tr>\n",
              "  </thead>\n",
              "  <tbody>\n",
              "    <tr>\n",
              "      <th>0</th>\n",
              "      <td>Current</td>\n",
              "      <td>389.628333</td>\n",
              "      <td>2014-06-30 12:00:00</td>\n",
              "      <td>0.0</td>\n",
              "      <td>Home Improvement</td>\n",
              "      <td>ON</td>\n",
              "    </tr>\n",
              "    <tr>\n",
              "      <th>1</th>\n",
              "      <td>Current</td>\n",
              "      <td>2446.128333</td>\n",
              "      <td>2014-06-30 12:00:00</td>\n",
              "      <td>0.0</td>\n",
              "      <td>Vehicle</td>\n",
              "      <td>AB</td>\n",
              "    </tr>\n",
              "    <tr>\n",
              "      <th>2</th>\n",
              "      <td>Current</td>\n",
              "      <td>2874.366667</td>\n",
              "      <td>2014-06-30 12:00:00</td>\n",
              "      <td>0.0</td>\n",
              "      <td>Home Improvement</td>\n",
              "      <td>ON</td>\n",
              "    </tr>\n",
              "    <tr>\n",
              "      <th>3</th>\n",
              "      <td>Current</td>\n",
              "      <td>299.626667</td>\n",
              "      <td>2014-06-30 12:00:00</td>\n",
              "      <td>0.0</td>\n",
              "      <td>Home Improvement</td>\n",
              "      <td>ON</td>\n",
              "    </tr>\n",
              "    <tr>\n",
              "      <th>4</th>\n",
              "      <td>Current</td>\n",
              "      <td>745.455000</td>\n",
              "      <td>2014-06-30 12:00:00</td>\n",
              "      <td>0.0</td>\n",
              "      <td>Home Improvement</td>\n",
              "      <td>Other Provinces</td>\n",
              "    </tr>\n",
              "    <tr>\n",
              "      <th>...</th>\n",
              "      <td>...</td>\n",
              "      <td>...</td>\n",
              "      <td>...</td>\n",
              "      <td>...</td>\n",
              "      <td>...</td>\n",
              "      <td>...</td>\n",
              "    </tr>\n",
              "    <tr>\n",
              "      <th>13381</th>\n",
              "      <td>Delinquent</td>\n",
              "      <td>3502.045000</td>\n",
              "      <td>2014-06-30 12:00:00</td>\n",
              "      <td>15.0</td>\n",
              "      <td>Vehicle</td>\n",
              "      <td>AB</td>\n",
              "    </tr>\n",
              "    <tr>\n",
              "      <th>13382</th>\n",
              "      <td>Delinquent</td>\n",
              "      <td>2780.255000</td>\n",
              "      <td>2014-06-30 12:00:00</td>\n",
              "      <td>41.0</td>\n",
              "      <td>Vehicle</td>\n",
              "      <td>AB</td>\n",
              "    </tr>\n",
              "    <tr>\n",
              "      <th>13383</th>\n",
              "      <td>WriteOff</td>\n",
              "      <td>350.861667</td>\n",
              "      <td>2014-06-30 12:00:00</td>\n",
              "      <td>0.0</td>\n",
              "      <td>Vehicle</td>\n",
              "      <td>AB</td>\n",
              "    </tr>\n",
              "    <tr>\n",
              "      <th>13384</th>\n",
              "      <td>Delinquent</td>\n",
              "      <td>1550.588333</td>\n",
              "      <td>2014-06-30 12:00:00</td>\n",
              "      <td>55.0</td>\n",
              "      <td>Home Improvement</td>\n",
              "      <td>AB</td>\n",
              "    </tr>\n",
              "    <tr>\n",
              "      <th>13385</th>\n",
              "      <td>Delinquent</td>\n",
              "      <td>2935.566667</td>\n",
              "      <td>2014-06-30 12:00:00</td>\n",
              "      <td>15.0</td>\n",
              "      <td>Vehicle</td>\n",
              "      <td>AB</td>\n",
              "    </tr>\n",
              "  </tbody>\n",
              "</table>\n",
              "<p>13386 rows × 6 columns</p>\n",
              "</div>"
            ],
            "text/plain": [
              "         Dlq_stat      amounts            obs_date  Dlq_days  \\\n",
              "0         Current   389.628333 2014-06-30 12:00:00       0.0   \n",
              "1         Current  2446.128333 2014-06-30 12:00:00       0.0   \n",
              "2         Current  2874.366667 2014-06-30 12:00:00       0.0   \n",
              "3         Current   299.626667 2014-06-30 12:00:00       0.0   \n",
              "4         Current   745.455000 2014-06-30 12:00:00       0.0   \n",
              "...           ...          ...                 ...       ...   \n",
              "13381  Delinquent  3502.045000 2014-06-30 12:00:00      15.0   \n",
              "13382  Delinquent  2780.255000 2014-06-30 12:00:00      41.0   \n",
              "13383    WriteOff   350.861667 2014-06-30 12:00:00       0.0   \n",
              "13384  Delinquent  1550.588333 2014-06-30 12:00:00      55.0   \n",
              "13385  Delinquent  2935.566667 2014-06-30 12:00:00      15.0   \n",
              "\n",
              "        Reason_for_loan         Province  \n",
              "0      Home Improvement               ON  \n",
              "1               Vehicle               AB  \n",
              "2      Home Improvement               ON  \n",
              "3      Home Improvement               ON  \n",
              "4      Home Improvement  Other Provinces  \n",
              "...                 ...              ...  \n",
              "13381           Vehicle               AB  \n",
              "13382           Vehicle               AB  \n",
              "13383           Vehicle               AB  \n",
              "13384  Home Improvement               AB  \n",
              "13385           Vehicle               AB  \n",
              "\n",
              "[13386 rows x 6 columns]"
            ]
          },
          "execution_count": 36,
          "metadata": {},
          "output_type": "execute_result"
        }
      ],
      "source": [
        "df_june"
      ]
    },
    {
      "cell_type": "code",
      "execution_count": null,
      "metadata": {
        "id": "bX5jk5CcebFy",
        "outputId": "3932a1f9-7460-4c7c-f1ce-c7879fa3e17d"
      },
      "outputs": [
        {
          "data": {
            "text/plain": [
              "Index(['Dlq_stat', 'amounts', 'obs_date', 'Dlq_days', 'Reason_for_loan',\n",
              "       'Province'],\n",
              "      dtype='object')"
            ]
          },
          "execution_count": 37,
          "metadata": {},
          "output_type": "execute_result"
        }
      ],
      "source": [
        "df_june.columns"
      ]
    },
    {
      "cell_type": "code",
      "execution_count": null,
      "metadata": {
        "id": "9U-F7BvQebFy"
      },
      "outputs": [],
      "source": [
        "# Since the data is now clean i downloaded everything to a csv file on my computer.\n",
        "df_june.to_csv('/Users/emmanuelnnadi/Desktop/June_Data', index=False)"
      ]
    },
    {
      "cell_type": "markdown",
      "metadata": {
        "id": "DPnVGXJDebFy"
      },
      "source": [
        "I decided to impute the dlq_Days for the other data sets as well as rename the columns as well."
      ]
    },
    {
      "cell_type": "code",
      "execution_count": null,
      "metadata": {
        "id": "4e8JTQObebFy"
      },
      "outputs": [],
      "source": [
        "df2.rename(columns=new_col_names, inplace=True)\n",
        "df3.rename(columns=new_col_names, inplace=True)\n",
        "\n",
        "df2.drop(['Index_num', 'ID'], axis=1, inplace=True)\n",
        "df3.drop(['Index_num', 'ID'], axis=1, inplace=True)\n",
        "\n",
        "df2['Dlq_days'].fillna(0, inplace=True)\n",
        "df3['Dlq_days'].fillna(0, inplace=True)\n",
        "\n"
      ]
    },
    {
      "cell_type": "code",
      "execution_count": null,
      "metadata": {
        "id": "BQSFzdGMebFz",
        "outputId": "f12469d2-15dd-48e3-b25d-fdb4ab4f9f66"
      },
      "outputs": [
        {
          "data": {
            "text/html": [
              "<div>\n",
              "<style scoped>\n",
              "    .dataframe tbody tr th:only-of-type {\n",
              "        vertical-align: middle;\n",
              "    }\n",
              "\n",
              "    .dataframe tbody tr th {\n",
              "        vertical-align: top;\n",
              "    }\n",
              "\n",
              "    .dataframe thead th {\n",
              "        text-align: right;\n",
              "    }\n",
              "</style>\n",
              "<table border=\"1\" class=\"dataframe\">\n",
              "  <thead>\n",
              "    <tr style=\"text-align: right;\">\n",
              "      <th></th>\n",
              "      <th>Dlq_stat</th>\n",
              "      <th>amounts</th>\n",
              "      <th>obs_date</th>\n",
              "      <th>Dlq_days</th>\n",
              "      <th>Reason_for_loan</th>\n",
              "      <th>Province</th>\n",
              "    </tr>\n",
              "  </thead>\n",
              "  <tbody>\n",
              "    <tr>\n",
              "      <th>0</th>\n",
              "      <td>Current</td>\n",
              "      <td>360.115000</td>\n",
              "      <td>2014-08-30 12:00:00</td>\n",
              "      <td>0.0</td>\n",
              "      <td>Home Improvement</td>\n",
              "      <td>ON</td>\n",
              "    </tr>\n",
              "    <tr>\n",
              "      <th>1</th>\n",
              "      <td>Current</td>\n",
              "      <td>2410.971667</td>\n",
              "      <td>2014-08-30 12:00:00</td>\n",
              "      <td>0.0</td>\n",
              "      <td>Vehicle</td>\n",
              "      <td>AB</td>\n",
              "    </tr>\n",
              "    <tr>\n",
              "      <th>2</th>\n",
              "      <td>Current</td>\n",
              "      <td>2825.750000</td>\n",
              "      <td>2014-08-30 12:00:00</td>\n",
              "      <td>0.0</td>\n",
              "      <td>Home Improvement</td>\n",
              "      <td>ON</td>\n",
              "    </tr>\n",
              "    <tr>\n",
              "      <th>3</th>\n",
              "      <td>Current</td>\n",
              "      <td>277.110000</td>\n",
              "      <td>2014-08-30 12:00:00</td>\n",
              "      <td>0.0</td>\n",
              "      <td>Home Improvement</td>\n",
              "      <td>ON</td>\n",
              "    </tr>\n",
              "    <tr>\n",
              "      <th>4</th>\n",
              "      <td>Current</td>\n",
              "      <td>691.580000</td>\n",
              "      <td>2014-08-30 12:00:00</td>\n",
              "      <td>0.0</td>\n",
              "      <td>Home Improvement</td>\n",
              "      <td>Other Provinces</td>\n",
              "    </tr>\n",
              "  </tbody>\n",
              "</table>\n",
              "</div>"
            ],
            "text/plain": [
              "  Dlq_stat      amounts             obs_date  Dlq_days   Reason_for_loan  \\\n",
              "0  Current   360.115000  2014-08-30 12:00:00       0.0  Home Improvement   \n",
              "1  Current  2410.971667  2014-08-30 12:00:00       0.0           Vehicle   \n",
              "2  Current  2825.750000  2014-08-30 12:00:00       0.0  Home Improvement   \n",
              "3  Current   277.110000  2014-08-30 12:00:00       0.0  Home Improvement   \n",
              "4  Current   691.580000  2014-08-30 12:00:00       0.0  Home Improvement   \n",
              "\n",
              "          Province  \n",
              "0               ON  \n",
              "1               AB  \n",
              "2               ON  \n",
              "3               ON  \n",
              "4  Other Provinces  "
            ]
          },
          "execution_count": 40,
          "metadata": {},
          "output_type": "execute_result"
        }
      ],
      "source": [
        "df3.head()"
      ]
    },
    {
      "cell_type": "code",
      "execution_count": null,
      "metadata": {
        "id": "ZVSp0rApebFz",
        "outputId": "a0fc1274-af2a-4745-fa31-aa5c2cd5726b"
      },
      "outputs": [
        {
          "data": {
            "text/html": [
              "<div>\n",
              "<style scoped>\n",
              "    .dataframe tbody tr th:only-of-type {\n",
              "        vertical-align: middle;\n",
              "    }\n",
              "\n",
              "    .dataframe tbody tr th {\n",
              "        vertical-align: top;\n",
              "    }\n",
              "\n",
              "    .dataframe thead th {\n",
              "        text-align: right;\n",
              "    }\n",
              "</style>\n",
              "<table border=\"1\" class=\"dataframe\">\n",
              "  <thead>\n",
              "    <tr style=\"text-align: right;\">\n",
              "      <th></th>\n",
              "      <th>Dlq_stat</th>\n",
              "      <th>amounts</th>\n",
              "      <th>obs_date</th>\n",
              "      <th>Dlq_days</th>\n",
              "      <th>Reason_for_loan</th>\n",
              "      <th>Province</th>\n",
              "    </tr>\n",
              "  </thead>\n",
              "  <tbody>\n",
              "    <tr>\n",
              "      <th>0</th>\n",
              "      <td>Current</td>\n",
              "      <td>374.878333</td>\n",
              "      <td>2014-07-30 12:00:00</td>\n",
              "      <td>0.0</td>\n",
              "      <td>Home Improvement</td>\n",
              "      <td>ON</td>\n",
              "    </tr>\n",
              "    <tr>\n",
              "      <th>1</th>\n",
              "      <td>Current</td>\n",
              "      <td>2850.123333</td>\n",
              "      <td>2014-07-30 12:00:00</td>\n",
              "      <td>0.0</td>\n",
              "      <td>Home Improvement</td>\n",
              "      <td>ON</td>\n",
              "    </tr>\n",
              "    <tr>\n",
              "      <th>2</th>\n",
              "      <td>Current</td>\n",
              "      <td>288.401667</td>\n",
              "      <td>2014-07-30 12:00:00</td>\n",
              "      <td>0.0</td>\n",
              "      <td>Home Improvement</td>\n",
              "      <td>ON</td>\n",
              "    </tr>\n",
              "    <tr>\n",
              "      <th>3</th>\n",
              "      <td>Current</td>\n",
              "      <td>718.526667</td>\n",
              "      <td>2014-07-30 12:00:00</td>\n",
              "      <td>0.0</td>\n",
              "      <td>Home Improvement</td>\n",
              "      <td>Other Provinces</td>\n",
              "    </tr>\n",
              "    <tr>\n",
              "      <th>4</th>\n",
              "      <td>Current</td>\n",
              "      <td>274.466667</td>\n",
              "      <td>2014-07-30 12:00:00</td>\n",
              "      <td>0.0</td>\n",
              "      <td>Home Improvement</td>\n",
              "      <td>ON</td>\n",
              "    </tr>\n",
              "  </tbody>\n",
              "</table>\n",
              "</div>"
            ],
            "text/plain": [
              "  Dlq_stat      amounts             obs_date  Dlq_days   Reason_for_loan  \\\n",
              "0  Current   374.878333  2014-07-30 12:00:00       0.0  Home Improvement   \n",
              "1  Current  2850.123333  2014-07-30 12:00:00       0.0  Home Improvement   \n",
              "2  Current   288.401667  2014-07-30 12:00:00       0.0  Home Improvement   \n",
              "3  Current   718.526667  2014-07-30 12:00:00       0.0  Home Improvement   \n",
              "4  Current   274.466667  2014-07-30 12:00:00       0.0  Home Improvement   \n",
              "\n",
              "          Province  \n",
              "0               ON  \n",
              "1               ON  \n",
              "2               ON  \n",
              "3  Other Provinces  \n",
              "4               ON  "
            ]
          },
          "execution_count": 41,
          "metadata": {},
          "output_type": "execute_result"
        }
      ],
      "source": [
        "df2.head()"
      ]
    },
    {
      "cell_type": "code",
      "execution_count": null,
      "metadata": {
        "id": "0btzbyXPebFz"
      },
      "outputs": [],
      "source": [
        "# Adding a 'month' column to each dataframe to help in the analysis and to also making the different datasets standout\n",
        "df1['month'] = 'June'\n",
        "df2['month'] = 'July'\n",
        "df3['month'] = 'August'"
      ]
    },
    {
      "cell_type": "code",
      "execution_count": null,
      "metadata": {
        "id": "NSBg7qtwebFz",
        "outputId": "adeb3258-003d-40b8-a415-a007cd030a03"
      },
      "outputs": [
        {
          "data": {
            "text/html": [
              "<div>\n",
              "<style scoped>\n",
              "    .dataframe tbody tr th:only-of-type {\n",
              "        vertical-align: middle;\n",
              "    }\n",
              "\n",
              "    .dataframe tbody tr th {\n",
              "        vertical-align: top;\n",
              "    }\n",
              "\n",
              "    .dataframe thead th {\n",
              "        text-align: right;\n",
              "    }\n",
              "</style>\n",
              "<table border=\"1\" class=\"dataframe\">\n",
              "  <thead>\n",
              "    <tr style=\"text-align: right;\">\n",
              "      <th></th>\n",
              "      <th>Dlq_stat</th>\n",
              "      <th>amounts</th>\n",
              "      <th>obs_date</th>\n",
              "      <th>Dlq_days</th>\n",
              "      <th>Reason_for_loan</th>\n",
              "      <th>Province</th>\n",
              "      <th>month</th>\n",
              "    </tr>\n",
              "  </thead>\n",
              "  <tbody>\n",
              "    <tr>\n",
              "      <th>0</th>\n",
              "      <td>Current</td>\n",
              "      <td>389.628333</td>\n",
              "      <td>2014-06-30 12:00:00</td>\n",
              "      <td>0.0</td>\n",
              "      <td>Home Improvement</td>\n",
              "      <td>ON</td>\n",
              "      <td>June</td>\n",
              "    </tr>\n",
              "    <tr>\n",
              "      <th>1</th>\n",
              "      <td>Current</td>\n",
              "      <td>2446.128333</td>\n",
              "      <td>2014-06-30 12:00:00</td>\n",
              "      <td>0.0</td>\n",
              "      <td>Vehicle</td>\n",
              "      <td>AB</td>\n",
              "      <td>June</td>\n",
              "    </tr>\n",
              "    <tr>\n",
              "      <th>2</th>\n",
              "      <td>Current</td>\n",
              "      <td>2874.366667</td>\n",
              "      <td>2014-06-30 12:00:00</td>\n",
              "      <td>0.0</td>\n",
              "      <td>Home Improvement</td>\n",
              "      <td>ON</td>\n",
              "      <td>June</td>\n",
              "    </tr>\n",
              "    <tr>\n",
              "      <th>3</th>\n",
              "      <td>Current</td>\n",
              "      <td>299.626667</td>\n",
              "      <td>2014-06-30 12:00:00</td>\n",
              "      <td>0.0</td>\n",
              "      <td>Home Improvement</td>\n",
              "      <td>ON</td>\n",
              "      <td>June</td>\n",
              "    </tr>\n",
              "    <tr>\n",
              "      <th>4</th>\n",
              "      <td>Current</td>\n",
              "      <td>745.455000</td>\n",
              "      <td>2014-06-30 12:00:00</td>\n",
              "      <td>0.0</td>\n",
              "      <td>Home Improvement</td>\n",
              "      <td>Other Provinces</td>\n",
              "      <td>June</td>\n",
              "    </tr>\n",
              "  </tbody>\n",
              "</table>\n",
              "</div>"
            ],
            "text/plain": [
              "  Dlq_stat      amounts            obs_date  Dlq_days   Reason_for_loan  \\\n",
              "0  Current   389.628333 2014-06-30 12:00:00       0.0  Home Improvement   \n",
              "1  Current  2446.128333 2014-06-30 12:00:00       0.0           Vehicle   \n",
              "2  Current  2874.366667 2014-06-30 12:00:00       0.0  Home Improvement   \n",
              "3  Current   299.626667 2014-06-30 12:00:00       0.0  Home Improvement   \n",
              "4  Current   745.455000 2014-06-30 12:00:00       0.0  Home Improvement   \n",
              "\n",
              "          Province month  \n",
              "0               ON  June  \n",
              "1               AB  June  \n",
              "2               ON  June  \n",
              "3               ON  June  \n",
              "4  Other Provinces  June  "
            ]
          },
          "execution_count": 43,
          "metadata": {},
          "output_type": "execute_result"
        }
      ],
      "source": [
        "df1.head()"
      ]
    },
    {
      "cell_type": "markdown",
      "metadata": {
        "id": "FHZlVd6qebFz"
      },
      "source": [
        "Since they share the same shape i then did a concat on here so it can be combined to one big table."
      ]
    },
    {
      "cell_type": "code",
      "execution_count": null,
      "metadata": {
        "id": "T3FdF5d_ebF0"
      },
      "outputs": [],
      "source": [
        "df = pd.concat([df1, df2, df3])"
      ]
    },
    {
      "cell_type": "code",
      "execution_count": null,
      "metadata": {
        "id": "F3obnvnZebF0",
        "outputId": "fe3a3027-2c19-41ba-b00c-c29d17262e3c"
      },
      "outputs": [
        {
          "data": {
            "text/html": [
              "<div>\n",
              "<style scoped>\n",
              "    .dataframe tbody tr th:only-of-type {\n",
              "        vertical-align: middle;\n",
              "    }\n",
              "\n",
              "    .dataframe tbody tr th {\n",
              "        vertical-align: top;\n",
              "    }\n",
              "\n",
              "    .dataframe thead th {\n",
              "        text-align: right;\n",
              "    }\n",
              "</style>\n",
              "<table border=\"1\" class=\"dataframe\">\n",
              "  <thead>\n",
              "    <tr style=\"text-align: right;\">\n",
              "      <th></th>\n",
              "      <th>Dlq_stat</th>\n",
              "      <th>amounts</th>\n",
              "      <th>obs_date</th>\n",
              "      <th>Dlq_days</th>\n",
              "      <th>Reason_for_loan</th>\n",
              "      <th>Province</th>\n",
              "      <th>month</th>\n",
              "    </tr>\n",
              "  </thead>\n",
              "  <tbody>\n",
              "    <tr>\n",
              "      <th>0</th>\n",
              "      <td>Current</td>\n",
              "      <td>389.628333</td>\n",
              "      <td>2014-06-30 12:00:00</td>\n",
              "      <td>0.0</td>\n",
              "      <td>Home Improvement</td>\n",
              "      <td>ON</td>\n",
              "      <td>June</td>\n",
              "    </tr>\n",
              "    <tr>\n",
              "      <th>1</th>\n",
              "      <td>Current</td>\n",
              "      <td>2446.128333</td>\n",
              "      <td>2014-06-30 12:00:00</td>\n",
              "      <td>0.0</td>\n",
              "      <td>Vehicle</td>\n",
              "      <td>AB</td>\n",
              "      <td>June</td>\n",
              "    </tr>\n",
              "    <tr>\n",
              "      <th>2</th>\n",
              "      <td>Current</td>\n",
              "      <td>2874.366667</td>\n",
              "      <td>2014-06-30 12:00:00</td>\n",
              "      <td>0.0</td>\n",
              "      <td>Home Improvement</td>\n",
              "      <td>ON</td>\n",
              "      <td>June</td>\n",
              "    </tr>\n",
              "    <tr>\n",
              "      <th>3</th>\n",
              "      <td>Current</td>\n",
              "      <td>299.626667</td>\n",
              "      <td>2014-06-30 12:00:00</td>\n",
              "      <td>0.0</td>\n",
              "      <td>Home Improvement</td>\n",
              "      <td>ON</td>\n",
              "      <td>June</td>\n",
              "    </tr>\n",
              "    <tr>\n",
              "      <th>4</th>\n",
              "      <td>Current</td>\n",
              "      <td>745.455000</td>\n",
              "      <td>2014-06-30 12:00:00</td>\n",
              "      <td>0.0</td>\n",
              "      <td>Home Improvement</td>\n",
              "      <td>Other Provinces</td>\n",
              "      <td>June</td>\n",
              "    </tr>\n",
              "    <tr>\n",
              "      <th>...</th>\n",
              "      <td>...</td>\n",
              "      <td>...</td>\n",
              "      <td>...</td>\n",
              "      <td>...</td>\n",
              "      <td>...</td>\n",
              "      <td>...</td>\n",
              "      <td>...</td>\n",
              "    </tr>\n",
              "    <tr>\n",
              "      <th>13824</th>\n",
              "      <td>Delinquent</td>\n",
              "      <td>3558.248333</td>\n",
              "      <td>2014-08-30 12:00:00</td>\n",
              "      <td>4.0</td>\n",
              "      <td>Vehicle</td>\n",
              "      <td>AB</td>\n",
              "      <td>August</td>\n",
              "    </tr>\n",
              "    <tr>\n",
              "      <th>13825</th>\n",
              "      <td>Delinquent</td>\n",
              "      <td>3317.956667</td>\n",
              "      <td>2014-08-30 12:00:00</td>\n",
              "      <td>7.0</td>\n",
              "      <td>Vehicle</td>\n",
              "      <td>AB</td>\n",
              "      <td>August</td>\n",
              "    </tr>\n",
              "    <tr>\n",
              "      <th>13826</th>\n",
              "      <td>Delinquent</td>\n",
              "      <td>1054.600000</td>\n",
              "      <td>2014-08-30 12:00:00</td>\n",
              "      <td>4.0</td>\n",
              "      <td>Vehicle</td>\n",
              "      <td>AB</td>\n",
              "      <td>August</td>\n",
              "    </tr>\n",
              "    <tr>\n",
              "      <th>13827</th>\n",
              "      <td>Delinquent</td>\n",
              "      <td>4545.338333</td>\n",
              "      <td>2014-08-30 12:00:00</td>\n",
              "      <td>4.0</td>\n",
              "      <td>Vehicle</td>\n",
              "      <td>AB</td>\n",
              "      <td>August</td>\n",
              "    </tr>\n",
              "    <tr>\n",
              "      <th>13828</th>\n",
              "      <td>Delinquent</td>\n",
              "      <td>10704.165000</td>\n",
              "      <td>2014-08-30 12:00:00</td>\n",
              "      <td>27.0</td>\n",
              "      <td>Vehicle</td>\n",
              "      <td>AB</td>\n",
              "      <td>August</td>\n",
              "    </tr>\n",
              "  </tbody>\n",
              "</table>\n",
              "<p>40395 rows × 7 columns</p>\n",
              "</div>"
            ],
            "text/plain": [
              "         Dlq_stat       amounts             obs_date  Dlq_days  \\\n",
              "0         Current    389.628333  2014-06-30 12:00:00       0.0   \n",
              "1         Current   2446.128333  2014-06-30 12:00:00       0.0   \n",
              "2         Current   2874.366667  2014-06-30 12:00:00       0.0   \n",
              "3         Current    299.626667  2014-06-30 12:00:00       0.0   \n",
              "4         Current    745.455000  2014-06-30 12:00:00       0.0   \n",
              "...           ...           ...                  ...       ...   \n",
              "13824  Delinquent   3558.248333  2014-08-30 12:00:00       4.0   \n",
              "13825  Delinquent   3317.956667  2014-08-30 12:00:00       7.0   \n",
              "13826  Delinquent   1054.600000  2014-08-30 12:00:00       4.0   \n",
              "13827  Delinquent   4545.338333  2014-08-30 12:00:00       4.0   \n",
              "13828  Delinquent  10704.165000  2014-08-30 12:00:00      27.0   \n",
              "\n",
              "        Reason_for_loan         Province   month  \n",
              "0      Home Improvement               ON    June  \n",
              "1               Vehicle               AB    June  \n",
              "2      Home Improvement               ON    June  \n",
              "3      Home Improvement               ON    June  \n",
              "4      Home Improvement  Other Provinces    June  \n",
              "...                 ...              ...     ...  \n",
              "13824           Vehicle               AB  August  \n",
              "13825           Vehicle               AB  August  \n",
              "13826           Vehicle               AB  August  \n",
              "13827           Vehicle               AB  August  \n",
              "13828           Vehicle               AB  August  \n",
              "\n",
              "[40395 rows x 7 columns]"
            ]
          },
          "execution_count": 45,
          "metadata": {},
          "output_type": "execute_result"
        }
      ],
      "source": [
        "df"
      ]
    },
    {
      "cell_type": "code",
      "execution_count": null,
      "metadata": {
        "scrolled": false,
        "id": "TZWf9ZzsebF1",
        "outputId": "9e43107e-e85c-4c95-db62-c93c8c3f1786"
      },
      "outputs": [
        {
          "data": {
            "image/png": "[encoded data removed]",
            "text/plain": [
              "<Figure size 1000x700 with 1 Axes>"
            ]
          },
          "metadata": {},
          "output_type": "display_data"
        }
      ],
      "source": [
        "loan_status_trends = df.groupby(['month', 'Dlq_stat']).size().unstack().reset_index()\n",
        "loan_status_trends.set_index('month', inplace=True)\n",
        "\n",
        "# Plotting the loan status trends\n",
        "loan_status_trends.plot(kind='bar', stacked=True, figsize=(10, 7))\n",
        "\n",
        "plt.title('Loan Status Trends from June to August')\n",
        "plt.xlabel('Month')\n",
        "plt.ylabel('Number of Loans')\n",
        "plt.show()"
      ]
    },
    {
      "cell_type": "markdown",
      "metadata": {
        "id": "9MK_Rq1eebF1"
      },
      "source": [
        "The bar chart presents the loan status trends from June to August. The loan statuses are divided into \"Current\", \"Delinquent\", and \"WriteOff\".\n",
        "\n",
        "From the chart, we can observe the following:\n",
        "\n",
        "The majority of loans remain \"Current\" throughout the three months, which is a positive sign.\n",
        "The number of \"Delinquent\" loans seems to have decreased slightly from June to July, and then slightly increased in August.\n",
        "The number of loans written off (\"WriteOff\") seems to be relatively stable across the three months, with a small increase in August.\n",
        "These trends provide some insights into the loan performance over these three months. However, to get a more comprehensive understanding, we should consider other factors as well, such as the total number of delinquent days, the total outstanding amounts, and the distribution across loan origination channels and provinces. Let's continue the analysis with these factors."
      ]
    },
    {
      "cell_type": "code",
      "execution_count": null,
      "metadata": {
        "id": "qaiPZBJdebF1",
        "outputId": "01dab5f1-dda5-43b0-ae73-af0d4fad675d"
      },
      "outputs": [
        {
          "data": {
            "image/png": "[encoded data removed]",
            "text/plain": [
              "<Figure size 640x480 with 1 Axes>"
            ]
          },
          "metadata": {},
          "output_type": "display_data"
        }
      ],
      "source": [
        "# Total Delinquent Days Trend\n",
        "delinquent_days_trend = df.groupby('month')['Dlq_days'].sum()\n",
        "\n",
        "# Plotting the total Delinquent Days Trend\n",
        "delinquent_days_trend.plot(kind='bar', color='skyblue')\n",
        "\n",
        "plt.title('Total Delinquent Days Trend from June to August')\n",
        "plt.xlabel('Month')\n",
        "plt.ylabel('Total Delinquent Days')\n",
        "plt.show()"
      ]
    },
    {
      "cell_type": "markdown",
      "metadata": {
        "id": "h-s_txLjebF1"
      },
      "source": [
        "The total number of delinquent days increased in August, surpassing the June level. This suggests that loan performance worsened in August."
      ]
    },
    {
      "cell_type": "code",
      "execution_count": null,
      "metadata": {
        "scrolled": false,
        "id": "VjIpjVUHebF2",
        "outputId": "9227fac5-1b25-4346-f8b0-8b804846590f"
      },
      "outputs": [
        {
          "data": {
            "image/png": "[encoded data removed]",
            "text/plain": [
              "<Figure size 1000x700 with 1 Axes>"
            ]
          },
          "metadata": {},
          "output_type": "display_data"
        }
      ],
      "source": [
        "# Loan Origination Channels Trends\n",
        "loan_channels_trend = df.groupby(['month', 'Reason_for_loan']).size().unstack()\n",
        "\n",
        "# Plotting the Loan Origination Channels Trends\n",
        "loan_channels_trend.plot(kind='bar', stacked=True, figsize=(10, 7))\n",
        "\n",
        "plt.title('Loan Origination Channels Trends from June to August')\n",
        "plt.xlabel('Month')\n",
        "plt.ylabel('Number of Loans')\n",
        "plt.show()"
      ]
    },
    {
      "cell_type": "markdown",
      "metadata": {
        "id": "jDeRI12KebF2"
      },
      "source": [
        "Here we can see that Home Improvement loans increased. From June to August. Suggesting that the population is more eager to invest in homes."
      ]
    },
    {
      "cell_type": "code",
      "execution_count": null,
      "metadata": {
        "id": "B7uHpHw9ebF2",
        "outputId": "c776c835-8c54-4ce4-fad4-4539ad0c1362"
      },
      "outputs": [
        {
          "data": {
            "image/png": "[encoded data removed]",
            "text/plain": [
              "<Figure size 1000x700 with 1 Axes>"
            ]
          },
          "metadata": {},
          "output_type": "display_data"
        }
      ],
      "source": [
        "# Provincial Trends in Delinquent Days\n",
        "provincial_trends = df.groupby(['month', 'Province'])['Dlq_days'].sum().unstack()\n",
        "\n",
        "# Plotting the Provincial Trends in Delinquent Days\n",
        "provincial_trends.plot(kind='bar', stacked=True, figsize=(10, 7))\n",
        "\n",
        "plt.title('Provincial Trends in Delinquent Days from June to August')\n",
        "plt.xlabel('Month')\n",
        "plt.ylabel('Total Delinquent Days')\n",
        "plt.show()"
      ]
    },
    {
      "cell_type": "markdown",
      "metadata": {
        "id": "yhC5ix-9ebF2"
      },
      "source": [
        "Alberta still holds the most delinquent days in total. However it worsened in August, suggesting a poor performance in the Alberta Province.\n",
        "\n",
        "Ontario also showed an increase from June to August as well.\n",
        "\n",
        "Other provinces remained stable during july and june but had a slight increase in August.\n",
        "\n",
        "BC increased increased from June to July but remained stable in August unlike other provinces."
      ]
    },
    {
      "cell_type": "markdown",
      "metadata": {
        "id": "UUbhUOOtPj5H"
      },
      "source": [
        "# Section 2: Machine Learning Predicting Click Through Rate.\n",
        "\n",
        "**Objective**: Given a new set of data, provide general insights and a"
      ]
    },
    {
      "cell_type": "code",
      "execution_count": null,
      "metadata": {
        "id": "_6kXGg40ebF2"
      },
      "outputs": [],
      "source": [
        "# Click through rate data\n",
        "df_ctr = pd.read_csv('/Users/emmanuelnnadi/Desktop/test2&3_data/test3_data/test3_data.csv')\n"
      ]
    },
    {
      "cell_type": "code",
      "execution_count": null,
      "metadata": {
        "colab": {
          "base_uri": "https://localhost:8080/",
          "height": 206
        },
        "id": "K0OizHOPo5wY",
        "outputId": "95865ec7-fcfb-4c0a-953f-ccd5b31acdc7"
      },
      "outputs": [
        {
          "data": {
            "text/html": [
              "<div>\n",
              "<style scoped>\n",
              "    .dataframe tbody tr th:only-of-type {\n",
              "        vertical-align: middle;\n",
              "    }\n",
              "\n",
              "    .dataframe tbody tr th {\n",
              "        vertical-align: top;\n",
              "    }\n",
              "\n",
              "    .dataframe thead th {\n",
              "        text-align: right;\n",
              "    }\n",
              "</style>\n",
              "<table border=\"1\" class=\"dataframe\">\n",
              "  <thead>\n",
              "    <tr style=\"text-align: right;\">\n",
              "      <th></th>\n",
              "      <th>Unnamed: 0</th>\n",
              "      <th>ID</th>\n",
              "      <th>ActionTime</th>\n",
              "      <th>Action</th>\n",
              "      <th>Website</th>\n",
              "      <th>BannerSize</th>\n",
              "      <th>Brand</th>\n",
              "      <th>colour</th>\n",
              "      <th>InteractionTime</th>\n",
              "    </tr>\n",
              "  </thead>\n",
              "  <tbody>\n",
              "    <tr>\n",
              "      <th>0</th>\n",
              "      <td>1</td>\n",
              "      <td>AMsySZbNg8SBwPtj7IGHnip_8aY0</td>\n",
              "      <td>1508761859495365</td>\n",
              "      <td>View</td>\n",
              "      <td>Facebook</td>\n",
              "      <td>300x600</td>\n",
              "      <td>Carter's</td>\n",
              "      <td>Pink</td>\n",
              "      <td>0.171601</td>\n",
              "    </tr>\n",
              "    <tr>\n",
              "      <th>1</th>\n",
              "      <td>2</td>\n",
              "      <td>AMsySZZcUFNGOJs-lfC9j-ZDlV7Z</td>\n",
              "      <td>1502847469736117</td>\n",
              "      <td>View</td>\n",
              "      <td>Facebook</td>\n",
              "      <td>300x250</td>\n",
              "      <td>Burberry</td>\n",
              "      <td>Red</td>\n",
              "      <td>4.303945</td>\n",
              "    </tr>\n",
              "    <tr>\n",
              "      <th>2</th>\n",
              "      <td>3</td>\n",
              "      <td>AMsySZYoK8_bD0hGv4zu0iRn1TFo</td>\n",
              "      <td>1514169431528120</td>\n",
              "      <td>View</td>\n",
              "      <td>Facebook</td>\n",
              "      <td>728x90</td>\n",
              "      <td>Disney</td>\n",
              "      <td>Yellow</td>\n",
              "      <td>0.868106</td>\n",
              "    </tr>\n",
              "    <tr>\n",
              "      <th>3</th>\n",
              "      <td>4</td>\n",
              "      <td>AMsySZahxpwLOWnMJj6RGATgwEOc</td>\n",
              "      <td>1515527952591896</td>\n",
              "      <td>View</td>\n",
              "      <td>Facebook</td>\n",
              "      <td>320x50</td>\n",
              "      <td>Carter's</td>\n",
              "      <td>Yellow</td>\n",
              "      <td>0.802647</td>\n",
              "    </tr>\n",
              "    <tr>\n",
              "      <th>4</th>\n",
              "      <td>5</td>\n",
              "      <td>AMsySZbqgfMBDtAqZz1jVRaOmX00</td>\n",
              "      <td>1507514809374045</td>\n",
              "      <td>View</td>\n",
              "      <td>instagram.com</td>\n",
              "      <td>300x250</td>\n",
              "      <td>Gap</td>\n",
              "      <td>Gold</td>\n",
              "      <td>0.627148</td>\n",
              "    </tr>\n",
              "  </tbody>\n",
              "</table>\n",
              "</div>"
            ],
            "text/plain": [
              "   Unnamed: 0                            ID        ActionTime Action  \\\n",
              "0           1  AMsySZbNg8SBwPtj7IGHnip_8aY0  1508761859495365   View   \n",
              "1           2  AMsySZZcUFNGOJs-lfC9j-ZDlV7Z  1502847469736117   View   \n",
              "2           3  AMsySZYoK8_bD0hGv4zu0iRn1TFo  1514169431528120   View   \n",
              "3           4  AMsySZahxpwLOWnMJj6RGATgwEOc  1515527952591896   View   \n",
              "4           5  AMsySZbqgfMBDtAqZz1jVRaOmX00  1507514809374045   View   \n",
              "\n",
              "         Website BannerSize     Brand  colour  InteractionTime  \n",
              "0       Facebook    300x600  Carter's    Pink         0.171601  \n",
              "1       Facebook    300x250  Burberry     Red         4.303945  \n",
              "2       Facebook     728x90    Disney  Yellow         0.868106  \n",
              "3       Facebook     320x50  Carter's  Yellow         0.802647  \n",
              "4  instagram.com    300x250       Gap    Gold         0.627148  "
            ]
          },
          "execution_count": 107,
          "metadata": {},
          "output_type": "execute_result"
        }
      ],
      "source": [
        "df_ctr.head()"
      ]
    },
    {
      "cell_type": "code",
      "execution_count": null,
      "metadata": {
        "colab": {
          "base_uri": "https://localhost:8080/"
        },
        "id": "mB8sKZ-wTeeC",
        "outputId": "53b37c93-2589-4097-da5b-e1989654344f"
      },
      "outputs": [
        {
          "data": {
            "text/plain": [
              "Unnamed: 0           int64\n",
              "ID                  object\n",
              "ActionTime           int64\n",
              "Action              object\n",
              "Website             object\n",
              "BannerSize          object\n",
              "Brand               object\n",
              "colour              object\n",
              "InteractionTime    float64\n",
              "dtype: object"
            ]
          },
          "execution_count": 108,
          "metadata": {},
          "output_type": "execute_result"
        }
      ],
      "source": [
        "df_ctr.dtypes"
      ]
    },
    {
      "cell_type": "code",
      "execution_count": null,
      "metadata": {
        "id": "4SEOe6mPebF3",
        "outputId": "2246daef-ca38-45c5-fd28-5134c96b22ac"
      },
      "outputs": [
        {
          "data": {
            "text/plain": [
              "Unnamed: 0         0\n",
              "ID                 0\n",
              "ActionTime         0\n",
              "Action             0\n",
              "Website            0\n",
              "BannerSize         0\n",
              "Brand              0\n",
              "colour             0\n",
              "InteractionTime    8\n",
              "dtype: int64"
            ]
          },
          "execution_count": 109,
          "metadata": {},
          "output_type": "execute_result"
        }
      ],
      "source": [
        "df_ctr.isna().sum()"
      ]
    },
    {
      "cell_type": "code",
      "execution_count": null,
      "metadata": {
        "scrolled": true,
        "id": "QvoDFg6uebF3",
        "outputId": "d292ed98-935b-4bfc-b61a-351170ba88a6"
      },
      "outputs": [
        {
          "data": {
            "text/html": [
              "<div>\n",
              "<style scoped>\n",
              "    .dataframe tbody tr th:only-of-type {\n",
              "        vertical-align: middle;\n",
              "    }\n",
              "\n",
              "    .dataframe tbody tr th {\n",
              "        vertical-align: top;\n",
              "    }\n",
              "\n",
              "    .dataframe thead th {\n",
              "        text-align: right;\n",
              "    }\n",
              "</style>\n",
              "<table border=\"1\" class=\"dataframe\">\n",
              "  <thead>\n",
              "    <tr style=\"text-align: right;\">\n",
              "      <th></th>\n",
              "      <th>Unnamed: 0</th>\n",
              "      <th>ID</th>\n",
              "      <th>ActionTime</th>\n",
              "      <th>Action</th>\n",
              "      <th>Website</th>\n",
              "      <th>BannerSize</th>\n",
              "      <th>Brand</th>\n",
              "      <th>colour</th>\n",
              "      <th>InteractionTime</th>\n",
              "    </tr>\n",
              "  </thead>\n",
              "  <tbody>\n",
              "    <tr>\n",
              "      <th>28</th>\n",
              "      <td>29</td>\n",
              "      <td>AMsySZbU2U0u2CDEQPae5UEvj7uh</td>\n",
              "      <td>1513974448167954</td>\n",
              "      <td>View</td>\n",
              "      <td>Facebook</td>\n",
              "      <td>728x90</td>\n",
              "      <td>Gap</td>\n",
              "      <td>Gold</td>\n",
              "      <td>NaN</td>\n",
              "    </tr>\n",
              "    <tr>\n",
              "      <th>154</th>\n",
              "      <td>155</td>\n",
              "      <td>AMsySZZNSd4doewEvAFWe9U7SEub</td>\n",
              "      <td>1503968584487308</td>\n",
              "      <td>View</td>\n",
              "      <td>Facebook</td>\n",
              "      <td>320x50</td>\n",
              "      <td>Banana Republic</td>\n",
              "      <td>Gold</td>\n",
              "      <td>NaN</td>\n",
              "    </tr>\n",
              "    <tr>\n",
              "      <th>812</th>\n",
              "      <td>813</td>\n",
              "      <td>AMsySZb8b-J-eW7JOEuTeIUQ5qMg</td>\n",
              "      <td>1514261353516880</td>\n",
              "      <td>Click</td>\n",
              "      <td>Kijiji</td>\n",
              "      <td>160x600</td>\n",
              "      <td>JoeFresh</td>\n",
              "      <td>other</td>\n",
              "      <td>NaN</td>\n",
              "    </tr>\n",
              "    <tr>\n",
              "      <th>98269</th>\n",
              "      <td>98270</td>\n",
              "      <td>AMsySZbCULOmzvMOl_jxgAPZnhmV</td>\n",
              "      <td>1512573518334683</td>\n",
              "      <td>Click</td>\n",
              "      <td>Facebook</td>\n",
              "      <td>300x250</td>\n",
              "      <td>Disney</td>\n",
              "      <td>Blue</td>\n",
              "      <td>NaN</td>\n",
              "    </tr>\n",
              "    <tr>\n",
              "      <th>243356</th>\n",
              "      <td>243357</td>\n",
              "      <td>AMsySZYtpCq1jCDG6_MR6U9RDbfC</td>\n",
              "      <td>1514698137892676</td>\n",
              "      <td>Click</td>\n",
              "      <td>Facebook</td>\n",
              "      <td>160x600</td>\n",
              "      <td>JoeFresh</td>\n",
              "      <td>Pink</td>\n",
              "      <td>NaN</td>\n",
              "    </tr>\n",
              "    <tr>\n",
              "      <th>243357</th>\n",
              "      <td>243358</td>\n",
              "      <td>AMsySZa6M_Z79mOnUWF9P8nKac5-</td>\n",
              "      <td>1516738555981098</td>\n",
              "      <td>View</td>\n",
              "      <td>Facebook</td>\n",
              "      <td>300x250</td>\n",
              "      <td>Carter's</td>\n",
              "      <td>Yellow</td>\n",
              "      <td>NaN</td>\n",
              "    </tr>\n",
              "    <tr>\n",
              "      <th>331970</th>\n",
              "      <td>331971</td>\n",
              "      <td>AMsySZbyqkZuERDU8VBWoJX_F4tD</td>\n",
              "      <td>1515278217655536</td>\n",
              "      <td>Click</td>\n",
              "      <td>Other</td>\n",
              "      <td>1x1</td>\n",
              "      <td>Old Navy</td>\n",
              "      <td>Pink</td>\n",
              "      <td>NaN</td>\n",
              "    </tr>\n",
              "    <tr>\n",
              "      <th>451827</th>\n",
              "      <td>451828</td>\n",
              "      <td>AMsySZYZjTd1kTYooOpACb0cTDL2</td>\n",
              "      <td>1515692970262672</td>\n",
              "      <td>Click</td>\n",
              "      <td>Facebook</td>\n",
              "      <td>728x90</td>\n",
              "      <td>Old Navy</td>\n",
              "      <td>Pink</td>\n",
              "      <td>NaN</td>\n",
              "    </tr>\n",
              "  </tbody>\n",
              "</table>\n",
              "</div>"
            ],
            "text/plain": [
              "        Unnamed: 0                            ID        ActionTime Action  \\\n",
              "28              29  AMsySZbU2U0u2CDEQPae5UEvj7uh  1513974448167954   View   \n",
              "154            155  AMsySZZNSd4doewEvAFWe9U7SEub  1503968584487308   View   \n",
              "812            813  AMsySZb8b-J-eW7JOEuTeIUQ5qMg  1514261353516880  Click   \n",
              "98269        98270  AMsySZbCULOmzvMOl_jxgAPZnhmV  1512573518334683  Click   \n",
              "243356      243357  AMsySZYtpCq1jCDG6_MR6U9RDbfC  1514698137892676  Click   \n",
              "243357      243358  AMsySZa6M_Z79mOnUWF9P8nKac5-  1516738555981098   View   \n",
              "331970      331971  AMsySZbyqkZuERDU8VBWoJX_F4tD  1515278217655536  Click   \n",
              "451827      451828  AMsySZYZjTd1kTYooOpACb0cTDL2  1515692970262672  Click   \n",
              "\n",
              "         Website BannerSize            Brand  colour  InteractionTime  \n",
              "28      Facebook     728x90              Gap    Gold              NaN  \n",
              "154     Facebook     320x50  Banana Republic    Gold              NaN  \n",
              "812       Kijiji    160x600         JoeFresh   other              NaN  \n",
              "98269   Facebook    300x250           Disney    Blue              NaN  \n",
              "243356  Facebook    160x600         JoeFresh    Pink              NaN  \n",
              "243357  Facebook    300x250         Carter's  Yellow              NaN  \n",
              "331970     Other        1x1         Old Navy    Pink              NaN  \n",
              "451827  Facebook     728x90         Old Navy    Pink              NaN  "
            ]
          },
          "execution_count": 110,
          "metadata": {},
          "output_type": "execute_result"
        }
      ],
      "source": [
        "df_ctr[df_ctr['InteractionTime'].isna()]"
      ]
    },
    {
      "cell_type": "code",
      "execution_count": null,
      "metadata": {
        "id": "ADQG3V-zebF3",
        "outputId": "5b9e5cd6-5170-49cf-85bf-e858431aec83"
      },
      "outputs": [
        {
          "name": "stderr",
          "output_type": "stream",
          "text": [
            "/var/folders/wc/c_dv9b5122sdwx7sz_42kt100000gn/T/ipykernel_7453/3550998148.py:16: FutureWarning: The default value of regex will change from True to False in a future version.\n",
            "  df_ctr['Website'] = df_ctr['Website'].str.replace('instagram.com', 'Instagram')\n"
          ]
        },
        {
          "data": {
            "text/html": [
              "<div>\n",
              "<style scoped>\n",
              "    .dataframe tbody tr th:only-of-type {\n",
              "        vertical-align: middle;\n",
              "    }\n",
              "\n",
              "    .dataframe tbody tr th {\n",
              "        vertical-align: top;\n",
              "    }\n",
              "\n",
              "    .dataframe thead th {\n",
              "        text-align: right;\n",
              "    }\n",
              "</style>\n",
              "<table border=\"1\" class=\"dataframe\">\n",
              "  <thead>\n",
              "    <tr style=\"text-align: right;\">\n",
              "      <th></th>\n",
              "      <th>InteractionTime</th>\n",
              "      <th>Website_AOL</th>\n",
              "      <th>Website_Amazon</th>\n",
              "      <th>Website_Atedra</th>\n",
              "      <th>Website_Craigslist.ca</th>\n",
              "      <th>Website_Expedia</th>\n",
              "      <th>Website_Facebook</th>\n",
              "      <th>Website_Instagram</th>\n",
              "      <th>Website_Kijiji</th>\n",
              "      <th>Website_Other</th>\n",
              "      <th>...</th>\n",
              "      <th>Brand_Zara</th>\n",
              "      <th>Brand_gymboree</th>\n",
              "      <th>colour_Blue</th>\n",
              "      <th>colour_Gold</th>\n",
              "      <th>colour_Pink</th>\n",
              "      <th>colour_Red</th>\n",
              "      <th>colour_White</th>\n",
              "      <th>colour_Yellow</th>\n",
              "      <th>colour_other</th>\n",
              "      <th>Action</th>\n",
              "    </tr>\n",
              "  </thead>\n",
              "  <tbody>\n",
              "    <tr>\n",
              "      <th>0</th>\n",
              "      <td>-0.828586</td>\n",
              "      <td>0.0</td>\n",
              "      <td>0.0</td>\n",
              "      <td>0.0</td>\n",
              "      <td>0.0</td>\n",
              "      <td>0.0</td>\n",
              "      <td>1.0</td>\n",
              "      <td>0.0</td>\n",
              "      <td>0.0</td>\n",
              "      <td>0.0</td>\n",
              "      <td>...</td>\n",
              "      <td>0.0</td>\n",
              "      <td>0.0</td>\n",
              "      <td>0.0</td>\n",
              "      <td>0.0</td>\n",
              "      <td>1.0</td>\n",
              "      <td>0.0</td>\n",
              "      <td>0.0</td>\n",
              "      <td>0.0</td>\n",
              "      <td>0.0</td>\n",
              "      <td>0</td>\n",
              "    </tr>\n",
              "    <tr>\n",
              "      <th>1</th>\n",
              "      <td>3.311351</td>\n",
              "      <td>0.0</td>\n",
              "      <td>0.0</td>\n",
              "      <td>0.0</td>\n",
              "      <td>0.0</td>\n",
              "      <td>0.0</td>\n",
              "      <td>1.0</td>\n",
              "      <td>0.0</td>\n",
              "      <td>0.0</td>\n",
              "      <td>0.0</td>\n",
              "      <td>...</td>\n",
              "      <td>0.0</td>\n",
              "      <td>0.0</td>\n",
              "      <td>0.0</td>\n",
              "      <td>0.0</td>\n",
              "      <td>0.0</td>\n",
              "      <td>1.0</td>\n",
              "      <td>0.0</td>\n",
              "      <td>0.0</td>\n",
              "      <td>0.0</td>\n",
              "      <td>0</td>\n",
              "    </tr>\n",
              "    <tr>\n",
              "      <th>2</th>\n",
              "      <td>-0.130802</td>\n",
              "      <td>0.0</td>\n",
              "      <td>0.0</td>\n",
              "      <td>0.0</td>\n",
              "      <td>0.0</td>\n",
              "      <td>0.0</td>\n",
              "      <td>1.0</td>\n",
              "      <td>0.0</td>\n",
              "      <td>0.0</td>\n",
              "      <td>0.0</td>\n",
              "      <td>...</td>\n",
              "      <td>0.0</td>\n",
              "      <td>0.0</td>\n",
              "      <td>0.0</td>\n",
              "      <td>0.0</td>\n",
              "      <td>0.0</td>\n",
              "      <td>0.0</td>\n",
              "      <td>0.0</td>\n",
              "      <td>1.0</td>\n",
              "      <td>0.0</td>\n",
              "      <td>0</td>\n",
              "    </tr>\n",
              "    <tr>\n",
              "      <th>3</th>\n",
              "      <td>-0.196381</td>\n",
              "      <td>0.0</td>\n",
              "      <td>0.0</td>\n",
              "      <td>0.0</td>\n",
              "      <td>0.0</td>\n",
              "      <td>0.0</td>\n",
              "      <td>1.0</td>\n",
              "      <td>0.0</td>\n",
              "      <td>0.0</td>\n",
              "      <td>0.0</td>\n",
              "      <td>...</td>\n",
              "      <td>0.0</td>\n",
              "      <td>0.0</td>\n",
              "      <td>0.0</td>\n",
              "      <td>0.0</td>\n",
              "      <td>0.0</td>\n",
              "      <td>0.0</td>\n",
              "      <td>0.0</td>\n",
              "      <td>1.0</td>\n",
              "      <td>0.0</td>\n",
              "      <td>0</td>\n",
              "    </tr>\n",
              "    <tr>\n",
              "      <th>4</th>\n",
              "      <td>-0.372202</td>\n",
              "      <td>0.0</td>\n",
              "      <td>0.0</td>\n",
              "      <td>0.0</td>\n",
              "      <td>0.0</td>\n",
              "      <td>0.0</td>\n",
              "      <td>0.0</td>\n",
              "      <td>1.0</td>\n",
              "      <td>0.0</td>\n",
              "      <td>0.0</td>\n",
              "      <td>...</td>\n",
              "      <td>0.0</td>\n",
              "      <td>0.0</td>\n",
              "      <td>0.0</td>\n",
              "      <td>1.0</td>\n",
              "      <td>0.0</td>\n",
              "      <td>0.0</td>\n",
              "      <td>0.0</td>\n",
              "      <td>0.0</td>\n",
              "      <td>0.0</td>\n",
              "      <td>0</td>\n",
              "    </tr>\n",
              "  </tbody>\n",
              "</table>\n",
              "<p>5 rows × 50 columns</p>\n",
              "</div>"
            ],
            "text/plain": [
              "   InteractionTime  Website_AOL  Website_Amazon  Website_Atedra  \\\n",
              "0        -0.828586          0.0             0.0             0.0   \n",
              "1         3.311351          0.0             0.0             0.0   \n",
              "2        -0.130802          0.0             0.0             0.0   \n",
              "3        -0.196381          0.0             0.0             0.0   \n",
              "4        -0.372202          0.0             0.0             0.0   \n",
              "\n",
              "   Website_Craigslist.ca  Website_Expedia  Website_Facebook  \\\n",
              "0                    0.0              0.0               1.0   \n",
              "1                    0.0              0.0               1.0   \n",
              "2                    0.0              0.0               1.0   \n",
              "3                    0.0              0.0               1.0   \n",
              "4                    0.0              0.0               0.0   \n",
              "\n",
              "   Website_Instagram  Website_Kijiji  Website_Other  ...  Brand_Zara  \\\n",
              "0                0.0             0.0            0.0  ...         0.0   \n",
              "1                0.0             0.0            0.0  ...         0.0   \n",
              "2                0.0             0.0            0.0  ...         0.0   \n",
              "3                0.0             0.0            0.0  ...         0.0   \n",
              "4                1.0             0.0            0.0  ...         0.0   \n",
              "\n",
              "   Brand_gymboree  colour_Blue  colour_Gold  colour_Pink  colour_Red  \\\n",
              "0             0.0          0.0          0.0          1.0         0.0   \n",
              "1             0.0          0.0          0.0          0.0         1.0   \n",
              "2             0.0          0.0          0.0          0.0         0.0   \n",
              "3             0.0          0.0          0.0          0.0         0.0   \n",
              "4             0.0          0.0          1.0          0.0         0.0   \n",
              "\n",
              "   colour_White  colour_Yellow  colour_other  Action  \n",
              "0           0.0            0.0           0.0       0  \n",
              "1           0.0            0.0           0.0       0  \n",
              "2           0.0            1.0           0.0       0  \n",
              "3           0.0            1.0           0.0       0  \n",
              "4           0.0            0.0           0.0       0  \n",
              "\n",
              "[5 rows x 50 columns]"
            ]
          },
          "execution_count": 111,
          "metadata": {},
          "output_type": "execute_result"
        }
      ],
      "source": [
        "from sklearn.preprocessing import StandardScaler, OneHotEncoder\n",
        "from sklearn.compose import ColumnTransformer\n",
        "from sklearn.pipeline import Pipeline\n",
        "\n",
        "# Defining the steps of the preprocessing pipeline\n",
        "preprocessing_steps = []\n",
        "\n",
        "# Converting binary categorical features to numerical\n",
        "binary_features = ['Action']\n",
        "df_ctr[binary_features] = df_ctr[binary_features].replace({'Click': 1, 'View': 0})\n",
        "\n",
        "#Datetime conversion\n",
        "df_ctr['ActionTime'] = pd.to_datetime(df_ctr['ActionTime'], unit = 'us')\n",
        "\n",
        "#Website Rename\n",
        "df_ctr['Website'] = df_ctr['Website'].str.replace('instagram.com', 'Instagram')\n",
        "\n",
        "# Rename columns\n",
        "new_col_names = {'Unnamed: 0': 'Index_num'}\n",
        "\n",
        "df_ctr.rename(columns=new_col_names, inplace=True)\n",
        "\n",
        "# Dropping Unwanted Columns\n",
        "df_ctr.drop('Index_num', axis=1, inplace=True)\n",
        "\n",
        "df_ctr.drop('ID', axis = 1, inplace=True)\n",
        "\n",
        "#KNN\n",
        "\n",
        "from sklearn.impute import KNNImputer\n",
        "\n",
        "# Create a KNNImputer instance with the desired number of neighbors\n",
        "imputer = KNNImputer(n_neighbors=5)\n",
        "\n",
        "# Fit and transform the 'InteractionTime' column using the KNNImputer\n",
        "df_ctr['InteractionTime'] = imputer.fit_transform(df_ctr[['InteractionTime']])\n",
        "\n",
        "#Feature Engineer new columnns\n",
        "df_ctr['hour_of_day'] = df_ctr.ActionTime.apply(lambda x: x.hour)\n",
        "df_ctr['day_of_week'] = df_ctr.ActionTime.apply(lambda val: val.day_name())\n",
        "df_ctr['Month'] = df_ctr['ActionTime'].dt.month\n",
        "\n",
        "#Numerical features\n",
        "num_ft = ['InteractionTime']\n",
        "\n",
        "preprocessing_steps.append(('standard_scaler', StandardScaler(), num_ft))\n",
        "\n",
        "# One-hot encoding\n",
        "preprocessing_steps.append(('one_hot_encoder', OneHotEncoder(), ['Website','BannerSize', 'Brand', 'colour']))\n",
        "\n",
        "# Building the preprocessing pipeline\n",
        "preprocessor = ColumnTransformer(preprocessing_steps)\n",
        "\n",
        "# Preprocessing the data\n",
        "data_preprocessed = preprocessor.fit_transform(df_ctr.drop('Action', axis=1))\n",
        "\n",
        "# Creating a new dataframe with preprocessed data\n",
        "columns_preprocessed = num_ft + list(preprocessor.named_transformers_['one_hot_encoder'].get_feature_names_out(['Website','BannerSize', 'Brand', 'colour']))\n",
        "\n",
        "data_preprocessed = pd.DataFrame(data_preprocessed.toarray(), columns=columns_preprocessed)\n",
        "\n",
        "# Adding the target variable back to the preprocessed dataframe\n",
        "data_preprocessed['Action'] = df_ctr['Action'].values\n",
        "\n",
        "# Displaying the preprocessed data\n",
        "data_preprocessed.head()\n"
      ]
    },
    {
      "cell_type": "code",
      "execution_count": null,
      "metadata": {
        "id": "e_kO-S1vebF4",
        "outputId": "ff8212a0-2110-4045-f6ea-48ae0dd32bc5"
      },
      "outputs": [
        {
          "data": {
            "text/plain": [
              "(1000000, 10)"
            ]
          },
          "execution_count": 112,
          "metadata": {},
          "output_type": "execute_result"
        }
      ],
      "source": [
        "df_ctr.shape"
      ]
    },
    {
      "cell_type": "code",
      "execution_count": null,
      "metadata": {
        "id": "cUj6fk8TebF4",
        "outputId": "17db8ad7-fe5e-4fb5-85cd-4319bed27b43"
      },
      "outputs": [
        {
          "data": {
            "text/plain": [
              "(1000000, 50)"
            ]
          },
          "execution_count": 113,
          "metadata": {},
          "output_type": "execute_result"
        }
      ],
      "source": [
        "data_preprocessed.shape"
      ]
    },
    {
      "cell_type": "code",
      "execution_count": null,
      "metadata": {
        "id": "9SzA6kTOZbo3"
      },
      "outputs": [],
      "source": [
        "# Back Up Copy in case dataframe error due to code.\n",
        "df_c1 = df_ctr.copy()"
      ]
    },
    {
      "cell_type": "code",
      "execution_count": null,
      "metadata": {
        "colab": {
          "base_uri": "https://localhost:8080/",
          "height": 313
        },
        "id": "4-_Eqiocdxlu",
        "outputId": "e407ba92-c62a-4fba-95ca-d58fd9535a89"
      },
      "outputs": [
        {
          "name": "stdout",
          "output_type": "stream",
          "text": [
            "     Website BannerSize     Brand  colour day_of_week\n",
            "0   Facebook    300x600  Carter's    Pink      Monday\n",
            "1   Facebook    300x250  Burberry     Red   Wednesday\n",
            "2   Facebook     728x90    Disney  Yellow      Monday\n",
            "3   Facebook     320x50  Carter's  Yellow     Tuesday\n",
            "4  Instagram    300x250       Gap    Gold      Monday\n"
          ]
        },
        {
          "data": {
            "text/html": [
              "<div>\n",
              "<style scoped>\n",
              "    .dataframe tbody tr th:only-of-type {\n",
              "        vertical-align: middle;\n",
              "    }\n",
              "\n",
              "    .dataframe tbody tr th {\n",
              "        vertical-align: top;\n",
              "    }\n",
              "\n",
              "    .dataframe thead th {\n",
              "        text-align: right;\n",
              "    }\n",
              "</style>\n",
              "<table border=\"1\" class=\"dataframe\">\n",
              "  <thead>\n",
              "    <tr style=\"text-align: right;\">\n",
              "      <th></th>\n",
              "      <th>Action</th>\n",
              "      <th>InteractionTime</th>\n",
              "      <th>hour_of_day</th>\n",
              "      <th>Month</th>\n",
              "    </tr>\n",
              "  </thead>\n",
              "  <tbody>\n",
              "    <tr>\n",
              "      <th>0</th>\n",
              "      <td>0</td>\n",
              "      <td>0.171601</td>\n",
              "      <td>12</td>\n",
              "      <td>10</td>\n",
              "    </tr>\n",
              "    <tr>\n",
              "      <th>1</th>\n",
              "      <td>0</td>\n",
              "      <td>4.303945</td>\n",
              "      <td>1</td>\n",
              "      <td>8</td>\n",
              "    </tr>\n",
              "    <tr>\n",
              "      <th>2</th>\n",
              "      <td>0</td>\n",
              "      <td>0.868106</td>\n",
              "      <td>2</td>\n",
              "      <td>12</td>\n",
              "    </tr>\n",
              "    <tr>\n",
              "      <th>3</th>\n",
              "      <td>0</td>\n",
              "      <td>0.802647</td>\n",
              "      <td>19</td>\n",
              "      <td>1</td>\n",
              "    </tr>\n",
              "    <tr>\n",
              "      <th>4</th>\n",
              "      <td>0</td>\n",
              "      <td>0.627148</td>\n",
              "      <td>2</td>\n",
              "      <td>10</td>\n",
              "    </tr>\n",
              "  </tbody>\n",
              "</table>\n",
              "</div>"
            ],
            "text/plain": [
              "   Action  InteractionTime  hour_of_day  Month\n",
              "0       0         0.171601           12     10\n",
              "1       0         4.303945            1      8\n",
              "2       0         0.868106            2     12\n",
              "3       0         0.802647           19      1\n",
              "4       0         0.627148            2     10"
            ]
          },
          "execution_count": 115,
          "metadata": {},
          "output_type": "execute_result"
        }
      ],
      "source": [
        "object_columns = df_c1.select_dtypes(include = 'object')\n",
        "num_columns = df_c1.select_dtypes(include = 'number')\n",
        "print(object_columns.head())\n",
        "num_columns.head()\n"
      ]
    },
    {
      "cell_type": "markdown",
      "metadata": {
        "id": "vxwXlLSi36KO"
      },
      "source": [
        "## Visualization"
      ]
    },
    {
      "cell_type": "code",
      "execution_count": null,
      "metadata": {
        "colab": {
          "base_uri": "https://localhost:8080/",
          "height": 1000
        },
        "id": "gwtGVbsF3umQ",
        "outputId": "5cdcd120-0d4c-46a6-c2f0-3c81fc181943"
      },
      "outputs": [
        {
          "data": {
            "image/png": "[encoded data removed]",
            "text/plain": [
              "<Figure size 1500x1000 with 4 Axes>"
            ]
          },
          "metadata": {},
          "output_type": "display_data"
        }
      ],
      "source": [
        "# Univariate Visualization\n",
        "\n",
        "import matplotlib.pyplot as plt\n",
        "import seaborn as sns\n",
        "\n",
        "# Set up the matplotlib figure\n",
        "f, axes = plt.subplots(2, 2, figsize=(15, 10))\n",
        "\n",
        "# Plot a simple histogram with binsize determined automatically\n",
        "sns.histplot(data=df_ctr, x=\"InteractionTime\", kde=True, color=\"skyblue\", ax=axes[0, 0])\n",
        "sns.countplot(data=df_ctr, x='Action', ax=axes[0, 1])\n",
        "sns.countplot(data=df_ctr, x='hour_of_day', ax=axes[1, 0])\n",
        "sns.countplot(data=df_ctr, x='Month', ax=axes[1, 1])\n",
        "\n",
        "plt.tight_layout()\n"
      ]
    },
    {
      "cell_type": "markdown",
      "metadata": {
        "id": "YQhJLJGuebF5"
      },
      "source": [
        "Majority of the Interaction Time is between 0 - 2.\n",
        "\n",
        "Action and clicks are heavily imbalanced.\n",
        "\n",
        "It appears the least views or activity engagement is between the 7th and the 10th hour of the day."
      ]
    },
    {
      "cell_type": "code",
      "execution_count": null,
      "metadata": {
        "colab": {
          "base_uri": "https://localhost:8080/"
        },
        "id": "5OmKXHLOmrGl",
        "outputId": "e7c8d513-4a25-44d6-a34b-2290d96ecb19"
      },
      "outputs": [
        {
          "data": {
            "text/plain": [
              "0    999756\n",
              "1       244\n",
              "Name: Action, dtype: int64"
            ]
          },
          "execution_count": 117,
          "metadata": {},
          "output_type": "execute_result"
        }
      ],
      "source": [
        "clk = df_ctr['Action'].value_counts()\n",
        "clk"
      ]
    },
    {
      "cell_type": "code",
      "execution_count": null,
      "metadata": {
        "colab": {
          "base_uri": "https://localhost:8080/",
          "height": 1000
        },
        "id": "ttIVTH6zWreC",
        "outputId": "c8375181-0fc3-40a4-8033-c90cd5e6dfe4",
        "scrolled": false
      },
      "outputs": [
        {
          "data": {
            "image/png": "[encoded data removed]",
            "text/plain": [
              "<Figure size 1000x600 with 1 Axes>"
            ]
          },
          "metadata": {},
          "output_type": "display_data"
        },
        {
          "data": {
            "image/png": "[encoded data removed]",
            "text/plain": [
              "<Figure size 1000x600 with 1 Axes>"
            ]
          },
          "metadata": {},
          "output_type": "display_data"
        },
        {
          "data": {
            "image/png": "[encoded data removed]",
            "text/plain": [
              "<Figure size 1000x600 with 1 Axes>"
            ]
          },
          "metadata": {},
          "output_type": "display_data"
        },
        {
          "data": {
            "image/png": "[encoded data removed]",
            "text/plain": [
              "<Figure size 1000x600 with 1 Axes>"
            ]
          },
          "metadata": {},
          "output_type": "display_data"
        },
        {
          "data": {
            "image/png": "[encoded data removed]",
            "text/plain": [
              "<Figure size 1000x600 with 1 Axes>"
            ]
          },
          "metadata": {},
          "output_type": "display_data"
        }
      ],
      "source": [
        "for column in object_columns:\n",
        "    plt.figure(figsize=(10,6))\n",
        "    sns.countplot(y=df_ctr[column], order = df_ctr[column].value_counts().index)\n",
        "    plt.title(f'Distribution of {column}')\n",
        "    plt.xlabel('Count')\n",
        "    plt.ylabel(column)\n",
        "    plt.show()\n",
        "\n",
        "\n",
        "\n",
        "# # List of categorical columns to be visualized\n",
        "# # categorical_cols = ['Action', 'Website', 'BannerSize', 'Brand', 'colour']\n",
        "\n",
        "# # Create subplots\n",
        "# num_plots = len(object_columns)\n",
        "# rows = 2\n",
        "# cols = 2\n",
        "# fig, axes = plt.subplots(rows, cols, figsize=(15, 10))\n",
        "\n",
        "# # Plot each categorical variable in a separate subplot\n",
        "# for i, column in enumerate(object_columns):\n",
        "#     row = i // cols\n",
        "#     col = i % cols\n",
        "#     sns.countplot(y=df_c1[column], order=df_c1[column].value_counts().index, ax=axes[row, col])\n",
        "#     axes[row, col].set_title(f'Distribution of {column}')\n",
        "#     axes[row, col].set_xlabel('Count')\n",
        "#     axes[row, col].set_ylabel(column)\n",
        "\n",
        "# # If there are unused subplots, remove them\n",
        "# if num_plots < rows * cols:\n",
        "#     for i in range(num_plots, rows * cols):\n",
        "#         fig.delaxes(axes.flatten()[i])\n",
        "\n",
        "# plt.tight_layout()\n",
        "# plt.show()\n"
      ]
    },
    {
      "cell_type": "code",
      "execution_count": null,
      "metadata": {
        "colab": {
          "base_uri": "https://localhost:8080/",
          "height": 564
        },
        "id": "RDuEgiDWob7m",
        "outputId": "3779bf13-f29d-4a9f-f89e-afe300ca94b6"
      },
      "outputs": [
        {
          "data": {
            "image/png": "[encoded data removed]",
            "text/plain": [
              "<Figure size 1500x600 with 2 Axes>"
            ]
          },
          "metadata": {},
          "output_type": "display_data"
        }
      ],
      "source": [
        "# List of numerical columns to be visualized\n",
        "numerical_cols = ['InteractionTime']\n",
        "\n",
        "# Plotting each numerical variable\n",
        "for column in numerical_cols:\n",
        "    plt.figure(figsize=(15, 6))\n",
        "\n",
        "    # Histogram\n",
        "    plt.subplot(1, 2, 1)\n",
        "    sns.histplot(df_ctr[column], bins=30, kde=True)\n",
        "    plt.title(f'Distribution of {column}')\n",
        "\n",
        "    # Boxplot\n",
        "    plt.subplot(1, 2, 2)\n",
        "    sns.boxplot(x=df_ctr[column])\n",
        "    plt.title(f'Box plot of {column}')\n",
        "\n",
        "    plt.show()\n",
        "\n"
      ]
    },
    {
      "cell_type": "code",
      "execution_count": null,
      "metadata": {
        "scrolled": false,
        "id": "RzNN9r-VebF5",
        "outputId": "8d52127f-0ea3-4ad7-e434-37ad6385fa46"
      },
      "outputs": [
        {
          "data": {
            "image/png": "[encoded data removed]",
            "text/plain": [
              "<Figure size 1500x1000 with 2 Axes>"
            ]
          },
          "metadata": {},
          "output_type": "display_data"
        }
      ],
      "source": [
        "corr_matrix = df_ctr.corr()\n",
        "\n",
        "plt.figure(figsize=(15,10))\n",
        "sns.heatmap(corr_matrix, annot=True, cmap='coolwarm', fmt=\".2f\")\n",
        "plt.title(\"Correlation Matrix of Numerical Features\", fontsize=15)\n",
        "plt.show()"
      ]
    },
    {
      "cell_type": "markdown",
      "metadata": {
        "id": "7YIV0FlWebF5"
      },
      "source": [
        "Not much correlation between the numerical feaetures."
      ]
    },
    {
      "cell_type": "code",
      "execution_count": null,
      "metadata": {
        "id": "HAeHHP9UebF6"
      },
      "outputs": [],
      "source": [
        "# categorical_col = ['Website', 'BannerSize', 'Brand','colour','day_of_week']"
      ]
    },
    {
      "cell_type": "code",
      "execution_count": null,
      "metadata": {
        "id": "BiInBdDFebF6"
      },
      "outputs": [],
      "source": [
        "\n",
        "# for feature in categorical_col:\n",
        "#     plt.figure(figsize=(20,5))\n",
        "#     sns.countplot(data=df_ctr, x=feature, hue='Action', palette='viridis')\n",
        "#     plt.title(f\"Click Rate in relation to {feature}\", fontsize=15)\n",
        "#     plt.show()"
      ]
    },
    {
      "cell_type": "code",
      "execution_count": null,
      "metadata": {
        "scrolled": true,
        "id": "S18EQC9qebF6",
        "outputId": "347d0250-8005-47da-ca2f-3c83bd65c563"
      },
      "outputs": [
        {
          "data": {
            "text/html": [
              "<div>\n",
              "<style scoped>\n",
              "    .dataframe tbody tr th:only-of-type {\n",
              "        vertical-align: middle;\n",
              "    }\n",
              "\n",
              "    .dataframe tbody tr th {\n",
              "        vertical-align: top;\n",
              "    }\n",
              "\n",
              "    .dataframe thead th {\n",
              "        text-align: right;\n",
              "    }\n",
              "</style>\n",
              "<table border=\"1\" class=\"dataframe\">\n",
              "  <thead>\n",
              "    <tr style=\"text-align: right;\">\n",
              "      <th></th>\n",
              "      <th>InteractionTime</th>\n",
              "      <th>Website_AOL</th>\n",
              "      <th>Website_Amazon</th>\n",
              "      <th>Website_Atedra</th>\n",
              "      <th>Website_Craigslist.ca</th>\n",
              "      <th>Website_Expedia</th>\n",
              "      <th>Website_Facebook</th>\n",
              "      <th>Website_Instagram</th>\n",
              "      <th>Website_Kijiji</th>\n",
              "      <th>Website_Other</th>\n",
              "      <th>...</th>\n",
              "      <th>Brand_Zara</th>\n",
              "      <th>Brand_gymboree</th>\n",
              "      <th>colour_Blue</th>\n",
              "      <th>colour_Gold</th>\n",
              "      <th>colour_Pink</th>\n",
              "      <th>colour_Red</th>\n",
              "      <th>colour_White</th>\n",
              "      <th>colour_Yellow</th>\n",
              "      <th>colour_other</th>\n",
              "      <th>Action</th>\n",
              "    </tr>\n",
              "  </thead>\n",
              "  <tbody>\n",
              "    <tr>\n",
              "      <th>0</th>\n",
              "      <td>-0.828586</td>\n",
              "      <td>0.0</td>\n",
              "      <td>0.0</td>\n",
              "      <td>0.0</td>\n",
              "      <td>0.0</td>\n",
              "      <td>0.0</td>\n",
              "      <td>1.0</td>\n",
              "      <td>0.0</td>\n",
              "      <td>0.0</td>\n",
              "      <td>0.0</td>\n",
              "      <td>...</td>\n",
              "      <td>0.0</td>\n",
              "      <td>0.0</td>\n",
              "      <td>0.0</td>\n",
              "      <td>0.0</td>\n",
              "      <td>1.0</td>\n",
              "      <td>0.0</td>\n",
              "      <td>0.0</td>\n",
              "      <td>0.0</td>\n",
              "      <td>0.0</td>\n",
              "      <td>0</td>\n",
              "    </tr>\n",
              "    <tr>\n",
              "      <th>1</th>\n",
              "      <td>3.311351</td>\n",
              "      <td>0.0</td>\n",
              "      <td>0.0</td>\n",
              "      <td>0.0</td>\n",
              "      <td>0.0</td>\n",
              "      <td>0.0</td>\n",
              "      <td>1.0</td>\n",
              "      <td>0.0</td>\n",
              "      <td>0.0</td>\n",
              "      <td>0.0</td>\n",
              "      <td>...</td>\n",
              "      <td>0.0</td>\n",
              "      <td>0.0</td>\n",
              "      <td>0.0</td>\n",
              "      <td>0.0</td>\n",
              "      <td>0.0</td>\n",
              "      <td>1.0</td>\n",
              "      <td>0.0</td>\n",
              "      <td>0.0</td>\n",
              "      <td>0.0</td>\n",
              "      <td>0</td>\n",
              "    </tr>\n",
              "    <tr>\n",
              "      <th>2</th>\n",
              "      <td>-0.130802</td>\n",
              "      <td>0.0</td>\n",
              "      <td>0.0</td>\n",
              "      <td>0.0</td>\n",
              "      <td>0.0</td>\n",
              "      <td>0.0</td>\n",
              "      <td>1.0</td>\n",
              "      <td>0.0</td>\n",
              "      <td>0.0</td>\n",
              "      <td>0.0</td>\n",
              "      <td>...</td>\n",
              "      <td>0.0</td>\n",
              "      <td>0.0</td>\n",
              "      <td>0.0</td>\n",
              "      <td>0.0</td>\n",
              "      <td>0.0</td>\n",
              "      <td>0.0</td>\n",
              "      <td>0.0</td>\n",
              "      <td>1.0</td>\n",
              "      <td>0.0</td>\n",
              "      <td>0</td>\n",
              "    </tr>\n",
              "    <tr>\n",
              "      <th>3</th>\n",
              "      <td>-0.196381</td>\n",
              "      <td>0.0</td>\n",
              "      <td>0.0</td>\n",
              "      <td>0.0</td>\n",
              "      <td>0.0</td>\n",
              "      <td>0.0</td>\n",
              "      <td>1.0</td>\n",
              "      <td>0.0</td>\n",
              "      <td>0.0</td>\n",
              "      <td>0.0</td>\n",
              "      <td>...</td>\n",
              "      <td>0.0</td>\n",
              "      <td>0.0</td>\n",
              "      <td>0.0</td>\n",
              "      <td>0.0</td>\n",
              "      <td>0.0</td>\n",
              "      <td>0.0</td>\n",
              "      <td>0.0</td>\n",
              "      <td>1.0</td>\n",
              "      <td>0.0</td>\n",
              "      <td>0</td>\n",
              "    </tr>\n",
              "    <tr>\n",
              "      <th>4</th>\n",
              "      <td>-0.372202</td>\n",
              "      <td>0.0</td>\n",
              "      <td>0.0</td>\n",
              "      <td>0.0</td>\n",
              "      <td>0.0</td>\n",
              "      <td>0.0</td>\n",
              "      <td>0.0</td>\n",
              "      <td>1.0</td>\n",
              "      <td>0.0</td>\n",
              "      <td>0.0</td>\n",
              "      <td>...</td>\n",
              "      <td>0.0</td>\n",
              "      <td>0.0</td>\n",
              "      <td>0.0</td>\n",
              "      <td>1.0</td>\n",
              "      <td>0.0</td>\n",
              "      <td>0.0</td>\n",
              "      <td>0.0</td>\n",
              "      <td>0.0</td>\n",
              "      <td>0.0</td>\n",
              "      <td>0</td>\n",
              "    </tr>\n",
              "  </tbody>\n",
              "</table>\n",
              "<p>5 rows × 50 columns</p>\n",
              "</div>"
            ],
            "text/plain": [
              "   InteractionTime  Website_AOL  Website_Amazon  Website_Atedra  \\\n",
              "0        -0.828586          0.0             0.0             0.0   \n",
              "1         3.311351          0.0             0.0             0.0   \n",
              "2        -0.130802          0.0             0.0             0.0   \n",
              "3        -0.196381          0.0             0.0             0.0   \n",
              "4        -0.372202          0.0             0.0             0.0   \n",
              "\n",
              "   Website_Craigslist.ca  Website_Expedia  Website_Facebook  \\\n",
              "0                    0.0              0.0               1.0   \n",
              "1                    0.0              0.0               1.0   \n",
              "2                    0.0              0.0               1.0   \n",
              "3                    0.0              0.0               1.0   \n",
              "4                    0.0              0.0               0.0   \n",
              "\n",
              "   Website_Instagram  Website_Kijiji  Website_Other  ...  Brand_Zara  \\\n",
              "0                0.0             0.0            0.0  ...         0.0   \n",
              "1                0.0             0.0            0.0  ...         0.0   \n",
              "2                0.0             0.0            0.0  ...         0.0   \n",
              "3                0.0             0.0            0.0  ...         0.0   \n",
              "4                1.0             0.0            0.0  ...         0.0   \n",
              "\n",
              "   Brand_gymboree  colour_Blue  colour_Gold  colour_Pink  colour_Red  \\\n",
              "0             0.0          0.0          0.0          1.0         0.0   \n",
              "1             0.0          0.0          0.0          0.0         1.0   \n",
              "2             0.0          0.0          0.0          0.0         0.0   \n",
              "3             0.0          0.0          0.0          0.0         0.0   \n",
              "4             0.0          0.0          1.0          0.0         0.0   \n",
              "\n",
              "   colour_White  colour_Yellow  colour_other  Action  \n",
              "0           0.0            0.0           0.0       0  \n",
              "1           0.0            0.0           0.0       0  \n",
              "2           0.0            1.0           0.0       0  \n",
              "3           0.0            1.0           0.0       0  \n",
              "4           0.0            0.0           0.0       0  \n",
              "\n",
              "[5 rows x 50 columns]"
            ]
          },
          "execution_count": 123,
          "metadata": {},
          "output_type": "execute_result"
        }
      ],
      "source": [
        "data_preprocessed.head()"
      ]
    },
    {
      "cell_type": "code",
      "execution_count": null,
      "metadata": {
        "id": "LYHpyV7qebF6",
        "outputId": "189f0070-b675-4328-922b-1e1f0d010ec1"
      },
      "outputs": [
        {
          "data": {
            "text/plain": [
              "Index(['InteractionTime', 'Website_AOL', 'Website_Amazon', 'Website_Atedra',\n",
              "       'Website_Craigslist.ca', 'Website_Expedia', 'Website_Facebook',\n",
              "       'Website_Instagram', 'Website_Kijiji', 'Website_Other',\n",
              "       'Website_Sympatico', 'Website_TubeMogul', 'Website_Twitter',\n",
              "       'Website_Wayfair', 'Website_Weather', 'Website_Yahoo',\n",
              "       'Website_Youtube', 'BannerSize_1200x627', 'BannerSize_1536x2048',\n",
              "       'BannerSize_160x600', 'BannerSize_1x1', 'BannerSize_300x250',\n",
              "       'BannerSize_300x50', 'BannerSize_300x600', 'BannerSize_320x100',\n",
              "       'BannerSize_320x480', 'BannerSize_320x50', 'BannerSize_728x90',\n",
              "       'BannerSize_750x125', 'BannerSize_768x1024', 'BannerSize_Other',\n",
              "       'BannerSize_other', 'Brand_Banana Republic', 'Brand_Burberry',\n",
              "       'Brand_Carter's', 'Brand_Disney', 'Brand_Gap', 'Brand_JoeFresh',\n",
              "       'Brand_Old Navy', 'Brand_The Children's Place', 'Brand_Zara',\n",
              "       'Brand_gymboree', 'colour_Blue', 'colour_Gold', 'colour_Pink',\n",
              "       'colour_Red', 'colour_White', 'colour_Yellow', 'colour_other',\n",
              "       'Action'],\n",
              "      dtype='object')"
            ]
          },
          "execution_count": 124,
          "metadata": {},
          "output_type": "execute_result"
        }
      ],
      "source": [
        "data_preprocessed.columns"
      ]
    },
    {
      "cell_type": "code",
      "execution_count": null,
      "metadata": {
        "id": "oCF2t6UoebF6"
      },
      "outputs": [],
      "source": [
        "b = data_preprocessed.drop('Action', axis = 1)"
      ]
    },
    {
      "cell_type": "code",
      "execution_count": null,
      "metadata": {
        "scrolled": true,
        "id": "SGwc-o_IebF6",
        "outputId": "a7260a2c-0d57-4b61-ffa5-3b4f0e4e11d6"
      },
      "outputs": [
        {
          "data": {
            "text/html": [
              "<div>\n",
              "<style scoped>\n",
              "    .dataframe tbody tr th:only-of-type {\n",
              "        vertical-align: middle;\n",
              "    }\n",
              "\n",
              "    .dataframe tbody tr th {\n",
              "        vertical-align: top;\n",
              "    }\n",
              "\n",
              "    .dataframe thead th {\n",
              "        text-align: right;\n",
              "    }\n",
              "</style>\n",
              "<table border=\"1\" class=\"dataframe\">\n",
              "  <thead>\n",
              "    <tr style=\"text-align: right;\">\n",
              "      <th></th>\n",
              "      <th>InteractionTime</th>\n",
              "      <th>Website_AOL</th>\n",
              "      <th>Website_Amazon</th>\n",
              "      <th>Website_Atedra</th>\n",
              "      <th>Website_Craigslist.ca</th>\n",
              "      <th>Website_Expedia</th>\n",
              "      <th>Website_Facebook</th>\n",
              "      <th>Website_Instagram</th>\n",
              "      <th>Website_Kijiji</th>\n",
              "      <th>Website_Other</th>\n",
              "      <th>...</th>\n",
              "      <th>Brand_The Children's Place</th>\n",
              "      <th>Brand_Zara</th>\n",
              "      <th>Brand_gymboree</th>\n",
              "      <th>colour_Blue</th>\n",
              "      <th>colour_Gold</th>\n",
              "      <th>colour_Pink</th>\n",
              "      <th>colour_Red</th>\n",
              "      <th>colour_White</th>\n",
              "      <th>colour_Yellow</th>\n",
              "      <th>colour_other</th>\n",
              "    </tr>\n",
              "  </thead>\n",
              "  <tbody>\n",
              "    <tr>\n",
              "      <th>0</th>\n",
              "      <td>-0.828586</td>\n",
              "      <td>0.0</td>\n",
              "      <td>0.0</td>\n",
              "      <td>0.0</td>\n",
              "      <td>0.0</td>\n",
              "      <td>0.0</td>\n",
              "      <td>1.0</td>\n",
              "      <td>0.0</td>\n",
              "      <td>0.0</td>\n",
              "      <td>0.0</td>\n",
              "      <td>...</td>\n",
              "      <td>0.0</td>\n",
              "      <td>0.0</td>\n",
              "      <td>0.0</td>\n",
              "      <td>0.0</td>\n",
              "      <td>0.0</td>\n",
              "      <td>1.0</td>\n",
              "      <td>0.0</td>\n",
              "      <td>0.0</td>\n",
              "      <td>0.0</td>\n",
              "      <td>0.0</td>\n",
              "    </tr>\n",
              "    <tr>\n",
              "      <th>1</th>\n",
              "      <td>3.311351</td>\n",
              "      <td>0.0</td>\n",
              "      <td>0.0</td>\n",
              "      <td>0.0</td>\n",
              "      <td>0.0</td>\n",
              "      <td>0.0</td>\n",
              "      <td>1.0</td>\n",
              "      <td>0.0</td>\n",
              "      <td>0.0</td>\n",
              "      <td>0.0</td>\n",
              "      <td>...</td>\n",
              "      <td>0.0</td>\n",
              "      <td>0.0</td>\n",
              "      <td>0.0</td>\n",
              "      <td>0.0</td>\n",
              "      <td>0.0</td>\n",
              "      <td>0.0</td>\n",
              "      <td>1.0</td>\n",
              "      <td>0.0</td>\n",
              "      <td>0.0</td>\n",
              "      <td>0.0</td>\n",
              "    </tr>\n",
              "    <tr>\n",
              "      <th>2</th>\n",
              "      <td>-0.130802</td>\n",
              "      <td>0.0</td>\n",
              "      <td>0.0</td>\n",
              "      <td>0.0</td>\n",
              "      <td>0.0</td>\n",
              "      <td>0.0</td>\n",
              "      <td>1.0</td>\n",
              "      <td>0.0</td>\n",
              "      <td>0.0</td>\n",
              "      <td>0.0</td>\n",
              "      <td>...</td>\n",
              "      <td>0.0</td>\n",
              "      <td>0.0</td>\n",
              "      <td>0.0</td>\n",
              "      <td>0.0</td>\n",
              "      <td>0.0</td>\n",
              "      <td>0.0</td>\n",
              "      <td>0.0</td>\n",
              "      <td>0.0</td>\n",
              "      <td>1.0</td>\n",
              "      <td>0.0</td>\n",
              "    </tr>\n",
              "    <tr>\n",
              "      <th>3</th>\n",
              "      <td>-0.196381</td>\n",
              "      <td>0.0</td>\n",
              "      <td>0.0</td>\n",
              "      <td>0.0</td>\n",
              "      <td>0.0</td>\n",
              "      <td>0.0</td>\n",
              "      <td>1.0</td>\n",
              "      <td>0.0</td>\n",
              "      <td>0.0</td>\n",
              "      <td>0.0</td>\n",
              "      <td>...</td>\n",
              "      <td>0.0</td>\n",
              "      <td>0.0</td>\n",
              "      <td>0.0</td>\n",
              "      <td>0.0</td>\n",
              "      <td>0.0</td>\n",
              "      <td>0.0</td>\n",
              "      <td>0.0</td>\n",
              "      <td>0.0</td>\n",
              "      <td>1.0</td>\n",
              "      <td>0.0</td>\n",
              "    </tr>\n",
              "    <tr>\n",
              "      <th>4</th>\n",
              "      <td>-0.372202</td>\n",
              "      <td>0.0</td>\n",
              "      <td>0.0</td>\n",
              "      <td>0.0</td>\n",
              "      <td>0.0</td>\n",
              "      <td>0.0</td>\n",
              "      <td>0.0</td>\n",
              "      <td>1.0</td>\n",
              "      <td>0.0</td>\n",
              "      <td>0.0</td>\n",
              "      <td>...</td>\n",
              "      <td>0.0</td>\n",
              "      <td>0.0</td>\n",
              "      <td>0.0</td>\n",
              "      <td>0.0</td>\n",
              "      <td>1.0</td>\n",
              "      <td>0.0</td>\n",
              "      <td>0.0</td>\n",
              "      <td>0.0</td>\n",
              "      <td>0.0</td>\n",
              "      <td>0.0</td>\n",
              "    </tr>\n",
              "    <tr>\n",
              "      <th>...</th>\n",
              "      <td>...</td>\n",
              "      <td>...</td>\n",
              "      <td>...</td>\n",
              "      <td>...</td>\n",
              "      <td>...</td>\n",
              "      <td>...</td>\n",
              "      <td>...</td>\n",
              "      <td>...</td>\n",
              "      <td>...</td>\n",
              "      <td>...</td>\n",
              "      <td>...</td>\n",
              "      <td>...</td>\n",
              "      <td>...</td>\n",
              "      <td>...</td>\n",
              "      <td>...</td>\n",
              "      <td>...</td>\n",
              "      <td>...</td>\n",
              "      <td>...</td>\n",
              "      <td>...</td>\n",
              "      <td>...</td>\n",
              "      <td>...</td>\n",
              "    </tr>\n",
              "    <tr>\n",
              "      <th>999995</th>\n",
              "      <td>-0.951401</td>\n",
              "      <td>0.0</td>\n",
              "      <td>0.0</td>\n",
              "      <td>0.0</td>\n",
              "      <td>0.0</td>\n",
              "      <td>0.0</td>\n",
              "      <td>0.0</td>\n",
              "      <td>1.0</td>\n",
              "      <td>0.0</td>\n",
              "      <td>0.0</td>\n",
              "      <td>...</td>\n",
              "      <td>0.0</td>\n",
              "      <td>0.0</td>\n",
              "      <td>0.0</td>\n",
              "      <td>0.0</td>\n",
              "      <td>0.0</td>\n",
              "      <td>0.0</td>\n",
              "      <td>0.0</td>\n",
              "      <td>0.0</td>\n",
              "      <td>1.0</td>\n",
              "      <td>0.0</td>\n",
              "    </tr>\n",
              "    <tr>\n",
              "      <th>999996</th>\n",
              "      <td>-0.941276</td>\n",
              "      <td>0.0</td>\n",
              "      <td>0.0</td>\n",
              "      <td>0.0</td>\n",
              "      <td>0.0</td>\n",
              "      <td>0.0</td>\n",
              "      <td>0.0</td>\n",
              "      <td>0.0</td>\n",
              "      <td>0.0</td>\n",
              "      <td>0.0</td>\n",
              "      <td>...</td>\n",
              "      <td>0.0</td>\n",
              "      <td>0.0</td>\n",
              "      <td>0.0</td>\n",
              "      <td>0.0</td>\n",
              "      <td>0.0</td>\n",
              "      <td>0.0</td>\n",
              "      <td>0.0</td>\n",
              "      <td>0.0</td>\n",
              "      <td>1.0</td>\n",
              "      <td>0.0</td>\n",
              "    </tr>\n",
              "    <tr>\n",
              "      <th>999997</th>\n",
              "      <td>-0.974701</td>\n",
              "      <td>0.0</td>\n",
              "      <td>0.0</td>\n",
              "      <td>0.0</td>\n",
              "      <td>0.0</td>\n",
              "      <td>0.0</td>\n",
              "      <td>0.0</td>\n",
              "      <td>0.0</td>\n",
              "      <td>0.0</td>\n",
              "      <td>1.0</td>\n",
              "      <td>...</td>\n",
              "      <td>0.0</td>\n",
              "      <td>0.0</td>\n",
              "      <td>0.0</td>\n",
              "      <td>0.0</td>\n",
              "      <td>0.0</td>\n",
              "      <td>1.0</td>\n",
              "      <td>0.0</td>\n",
              "      <td>0.0</td>\n",
              "      <td>0.0</td>\n",
              "      <td>0.0</td>\n",
              "    </tr>\n",
              "    <tr>\n",
              "      <th>999998</th>\n",
              "      <td>-0.545958</td>\n",
              "      <td>0.0</td>\n",
              "      <td>0.0</td>\n",
              "      <td>0.0</td>\n",
              "      <td>0.0</td>\n",
              "      <td>0.0</td>\n",
              "      <td>1.0</td>\n",
              "      <td>0.0</td>\n",
              "      <td>0.0</td>\n",
              "      <td>0.0</td>\n",
              "      <td>...</td>\n",
              "      <td>0.0</td>\n",
              "      <td>0.0</td>\n",
              "      <td>0.0</td>\n",
              "      <td>0.0</td>\n",
              "      <td>0.0</td>\n",
              "      <td>1.0</td>\n",
              "      <td>0.0</td>\n",
              "      <td>0.0</td>\n",
              "      <td>0.0</td>\n",
              "      <td>0.0</td>\n",
              "    </tr>\n",
              "    <tr>\n",
              "      <th>999999</th>\n",
              "      <td>1.415194</td>\n",
              "      <td>0.0</td>\n",
              "      <td>1.0</td>\n",
              "      <td>0.0</td>\n",
              "      <td>0.0</td>\n",
              "      <td>0.0</td>\n",
              "      <td>0.0</td>\n",
              "      <td>0.0</td>\n",
              "      <td>0.0</td>\n",
              "      <td>0.0</td>\n",
              "      <td>...</td>\n",
              "      <td>0.0</td>\n",
              "      <td>0.0</td>\n",
              "      <td>0.0</td>\n",
              "      <td>0.0</td>\n",
              "      <td>0.0</td>\n",
              "      <td>1.0</td>\n",
              "      <td>0.0</td>\n",
              "      <td>0.0</td>\n",
              "      <td>0.0</td>\n",
              "      <td>0.0</td>\n",
              "    </tr>\n",
              "  </tbody>\n",
              "</table>\n",
              "<p>1000000 rows × 49 columns</p>\n",
              "</div>"
            ],
            "text/plain": [
              "        InteractionTime  Website_AOL  Website_Amazon  Website_Atedra  \\\n",
              "0             -0.828586          0.0             0.0             0.0   \n",
              "1              3.311351          0.0             0.0             0.0   \n",
              "2             -0.130802          0.0             0.0             0.0   \n",
              "3             -0.196381          0.0             0.0             0.0   \n",
              "4             -0.372202          0.0             0.0             0.0   \n",
              "...                 ...          ...             ...             ...   \n",
              "999995        -0.951401          0.0             0.0             0.0   \n",
              "999996        -0.941276          0.0             0.0             0.0   \n",
              "999997        -0.974701          0.0             0.0             0.0   \n",
              "999998        -0.545958          0.0             0.0             0.0   \n",
              "999999         1.415194          0.0             1.0             0.0   \n",
              "\n",
              "        Website_Craigslist.ca  Website_Expedia  Website_Facebook  \\\n",
              "0                         0.0              0.0               1.0   \n",
              "1                         0.0              0.0               1.0   \n",
              "2                         0.0              0.0               1.0   \n",
              "3                         0.0              0.0               1.0   \n",
              "4                         0.0              0.0               0.0   \n",
              "...                       ...              ...               ...   \n",
              "999995                    0.0              0.0               0.0   \n",
              "999996                    0.0              0.0               0.0   \n",
              "999997                    0.0              0.0               0.0   \n",
              "999998                    0.0              0.0               1.0   \n",
              "999999                    0.0              0.0               0.0   \n",
              "\n",
              "        Website_Instagram  Website_Kijiji  Website_Other  ...  \\\n",
              "0                     0.0             0.0            0.0  ...   \n",
              "1                     0.0             0.0            0.0  ...   \n",
              "2                     0.0             0.0            0.0  ...   \n",
              "3                     0.0             0.0            0.0  ...   \n",
              "4                     1.0             0.0            0.0  ...   \n",
              "...                   ...             ...            ...  ...   \n",
              "999995                1.0             0.0            0.0  ...   \n",
              "999996                0.0             0.0            0.0  ...   \n",
              "999997                0.0             0.0            1.0  ...   \n",
              "999998                0.0             0.0            0.0  ...   \n",
              "999999                0.0             0.0            0.0  ...   \n",
              "\n",
              "        Brand_The Children's Place  Brand_Zara  Brand_gymboree  colour_Blue  \\\n",
              "0                              0.0         0.0             0.0          0.0   \n",
              "1                              0.0         0.0             0.0          0.0   \n",
              "2                              0.0         0.0             0.0          0.0   \n",
              "3                              0.0         0.0             0.0          0.0   \n",
              "4                              0.0         0.0             0.0          0.0   \n",
              "...                            ...         ...             ...          ...   \n",
              "999995                         0.0         0.0             0.0          0.0   \n",
              "999996                         0.0         0.0             0.0          0.0   \n",
              "999997                         0.0         0.0             0.0          0.0   \n",
              "999998                         0.0         0.0             0.0          0.0   \n",
              "999999                         0.0         0.0             0.0          0.0   \n",
              "\n",
              "        colour_Gold  colour_Pink  colour_Red  colour_White  colour_Yellow  \\\n",
              "0               0.0          1.0         0.0           0.0            0.0   \n",
              "1               0.0          0.0         1.0           0.0            0.0   \n",
              "2               0.0          0.0         0.0           0.0            1.0   \n",
              "3               0.0          0.0         0.0           0.0            1.0   \n",
              "4               1.0          0.0         0.0           0.0            0.0   \n",
              "...             ...          ...         ...           ...            ...   \n",
              "999995          0.0          0.0         0.0           0.0            1.0   \n",
              "999996          0.0          0.0         0.0           0.0            1.0   \n",
              "999997          0.0          1.0         0.0           0.0            0.0   \n",
              "999998          0.0          1.0         0.0           0.0            0.0   \n",
              "999999          0.0          1.0         0.0           0.0            0.0   \n",
              "\n",
              "        colour_other  \n",
              "0                0.0  \n",
              "1                0.0  \n",
              "2                0.0  \n",
              "3                0.0  \n",
              "4                0.0  \n",
              "...              ...  \n",
              "999995           0.0  \n",
              "999996           0.0  \n",
              "999997           0.0  \n",
              "999998           0.0  \n",
              "999999           0.0  \n",
              "\n",
              "[1000000 rows x 49 columns]"
            ]
          },
          "execution_count": 126,
          "metadata": {},
          "output_type": "execute_result"
        }
      ],
      "source": [
        "b"
      ]
    },
    {
      "cell_type": "markdown",
      "metadata": {
        "id": "I9f9wugVYDs_"
      },
      "source": [
        "## Model Training"
      ]
    },
    {
      "cell_type": "code",
      "execution_count": null,
      "metadata": {
        "id": "K0F_bEQdebF7",
        "outputId": "c094f283-5e32-413e-f2ee-3e72da0ebb34"
      },
      "outputs": [
        {
          "data": {
            "text/html": [
              "<div>\n",
              "<style scoped>\n",
              "    .dataframe tbody tr th:only-of-type {\n",
              "        vertical-align: middle;\n",
              "    }\n",
              "\n",
              "    .dataframe tbody tr th {\n",
              "        vertical-align: top;\n",
              "    }\n",
              "\n",
              "    .dataframe thead th {\n",
              "        text-align: right;\n",
              "    }\n",
              "</style>\n",
              "<table border=\"1\" class=\"dataframe\">\n",
              "  <thead>\n",
              "    <tr style=\"text-align: right;\">\n",
              "      <th></th>\n",
              "      <th>ActionTime</th>\n",
              "      <th>Action</th>\n",
              "      <th>Website</th>\n",
              "      <th>BannerSize</th>\n",
              "      <th>Brand</th>\n",
              "      <th>colour</th>\n",
              "      <th>InteractionTime</th>\n",
              "      <th>hour_of_day</th>\n",
              "      <th>day_of_week</th>\n",
              "      <th>Month</th>\n",
              "    </tr>\n",
              "  </thead>\n",
              "  <tbody>\n",
              "    <tr>\n",
              "      <th>0</th>\n",
              "      <td>2017-10-23 12:30:59.495365</td>\n",
              "      <td>0</td>\n",
              "      <td>Facebook</td>\n",
              "      <td>300x600</td>\n",
              "      <td>Carter's</td>\n",
              "      <td>Pink</td>\n",
              "      <td>0.171601</td>\n",
              "      <td>12</td>\n",
              "      <td>Monday</td>\n",
              "      <td>10</td>\n",
              "    </tr>\n",
              "    <tr>\n",
              "      <th>1</th>\n",
              "      <td>2017-08-16 01:37:49.736117</td>\n",
              "      <td>0</td>\n",
              "      <td>Facebook</td>\n",
              "      <td>300x250</td>\n",
              "      <td>Burberry</td>\n",
              "      <td>Red</td>\n",
              "      <td>4.303945</td>\n",
              "      <td>1</td>\n",
              "      <td>Wednesday</td>\n",
              "      <td>8</td>\n",
              "    </tr>\n",
              "    <tr>\n",
              "      <th>2</th>\n",
              "      <td>2017-12-25 02:37:11.528120</td>\n",
              "      <td>0</td>\n",
              "      <td>Facebook</td>\n",
              "      <td>728x90</td>\n",
              "      <td>Disney</td>\n",
              "      <td>Yellow</td>\n",
              "      <td>0.868106</td>\n",
              "      <td>2</td>\n",
              "      <td>Monday</td>\n",
              "      <td>12</td>\n",
              "    </tr>\n",
              "    <tr>\n",
              "      <th>3</th>\n",
              "      <td>2018-01-09 19:59:12.591896</td>\n",
              "      <td>0</td>\n",
              "      <td>Facebook</td>\n",
              "      <td>320x50</td>\n",
              "      <td>Carter's</td>\n",
              "      <td>Yellow</td>\n",
              "      <td>0.802647</td>\n",
              "      <td>19</td>\n",
              "      <td>Tuesday</td>\n",
              "      <td>1</td>\n",
              "    </tr>\n",
              "    <tr>\n",
              "      <th>4</th>\n",
              "      <td>2017-10-09 02:06:49.374045</td>\n",
              "      <td>0</td>\n",
              "      <td>Instagram</td>\n",
              "      <td>300x250</td>\n",
              "      <td>Gap</td>\n",
              "      <td>Gold</td>\n",
              "      <td>0.627148</td>\n",
              "      <td>2</td>\n",
              "      <td>Monday</td>\n",
              "      <td>10</td>\n",
              "    </tr>\n",
              "  </tbody>\n",
              "</table>\n",
              "</div>"
            ],
            "text/plain": [
              "                  ActionTime  Action    Website BannerSize     Brand  colour  \\\n",
              "0 2017-10-23 12:30:59.495365       0   Facebook    300x600  Carter's    Pink   \n",
              "1 2017-08-16 01:37:49.736117       0   Facebook    300x250  Burberry     Red   \n",
              "2 2017-12-25 02:37:11.528120       0   Facebook     728x90    Disney  Yellow   \n",
              "3 2018-01-09 19:59:12.591896       0   Facebook     320x50  Carter's  Yellow   \n",
              "4 2017-10-09 02:06:49.374045       0  Instagram    300x250       Gap    Gold   \n",
              "\n",
              "   InteractionTime  hour_of_day day_of_week  Month  \n",
              "0         0.171601           12      Monday     10  \n",
              "1         4.303945            1   Wednesday      8  \n",
              "2         0.868106            2      Monday     12  \n",
              "3         0.802647           19     Tuesday      1  \n",
              "4         0.627148            2      Monday     10  "
            ]
          },
          "execution_count": 127,
          "metadata": {},
          "output_type": "execute_result"
        }
      ],
      "source": [
        "df_ctr.head()"
      ]
    },
    {
      "cell_type": "code",
      "execution_count": null,
      "metadata": {
        "scrolled": true,
        "id": "9q9zWsoSebF7"
      },
      "outputs": [],
      "source": [
        "\n",
        "df_ctr.to_csv('/Users/emmanuelnnadi/Desktop/ctr_data', index=False)"
      ]
    },
    {
      "cell_type": "markdown",
      "metadata": {
        "id": "roUvXtwAebF7"
      },
      "source": [
        "## Logistic Regression"
      ]
    },
    {
      "cell_type": "code",
      "execution_count": null,
      "metadata": {
        "id": "FLgcbGd2Xnb0"
      },
      "outputs": [],
      "source": [
        "# col_to_train = ['Website', 'BannerSize', 'Brand','colour',\n",
        "#        'InteractionTime', 'hour_of_day', 'day_of_week', 'Month']\n",
        "\n",
        "import numpy as np\n",
        "import pandas as pd\n",
        "from sklearn.model_selection import StratifiedKFold\n",
        "from imblearn.over_sampling import SMOTE\n",
        "from sklearn.linear_model import LogisticRegression\n",
        "from sklearn.ensemble import RandomForestClassifier\n",
        "from xgboost import XGBClassifier\n",
        "from sklearn import svm\n",
        "from sklearn.metrics import f1_score, precision_score, recall_score, accuracy_score\n",
        "from tqdm import tqdm\n",
        "\n",
        "\n",
        "\n",
        "x = data_preprocessed.drop('Action', axis = 1)\n",
        "y = data_preprocessed['Action']"
      ]
    },
    {
      "cell_type": "code",
      "execution_count": null,
      "metadata": {
        "id": "aB5ro15yebF7",
        "outputId": "2909ed98-5450-4c15-f66c-3dd666ae99fa"
      },
      "outputs": [
        {
          "data": {
            "text/plain": [
              "0    999756\n",
              "1       244\n",
              "Name: Action, dtype: int64"
            ]
          },
          "execution_count": 130,
          "metadata": {},
          "output_type": "execute_result"
        }
      ],
      "source": [
        "y.value_counts()"
      ]
    },
    {
      "cell_type": "code",
      "execution_count": null,
      "metadata": {
        "id": "pKUlHQQoZLqx"
      },
      "outputs": [],
      "source": [
        "# # Define the random state\n",
        "# random_state = 42\n",
        "\n",
        "# # Define the cross-validation procedure with random state\n",
        "# cv = StratifiedKFold(n_splits=5, shuffle=True, random_state=random_state)\n",
        "\n",
        "# # Define the models with random state where applicable\n",
        "# models = {\n",
        "#     'Logistic Regression': LogisticRegression(random_state=random_state),\n",
        "#     'Random Forest': RandomForestClassifier(random_state=random_state),\n",
        "#     'XGBoost': XGBClassifier(random_state=random_state),\n",
        "#     'SVM': svm.SVC(random_state=random_state)\n",
        "# }\n",
        "\n",
        "# # Perform cross-validation\n",
        "# for name, model in tqdm(models.items(), desc=\"Models\"):\n",
        "#     precision_list = []\n",
        "#     recall_list = []\n",
        "#     f1_list = []\n",
        "#     accuracy_list = []\n",
        "\n",
        "#     for train_index, test_index in cv.split(X, y):\n",
        "#         X_train, X_test = x.loc[train_index], X.loc[test_index]\n",
        "#         y_train, y_test = y.loc[train_index], y.loc[test_index]\n",
        "\n",
        "#         # Perform SMOTE\n",
        "#         smote = SMOTE(random_state=random_state)\n",
        "#         X_train_smote, y_train_smote = smote.fit_resample(X_train, y_train)\n",
        "\n",
        "#         # Train the model\n",
        "#         model.fit(X_train_smote, y_train_smote)\n",
        "\n",
        "#         # Make predictions\n",
        "#         y_pred = model.predict(X_test)\n",
        "\n",
        "#         # Calculate metrics\n",
        "#         precision = precision_score(y_test, y_pred)\n",
        "#         recall = recall_score(y_test, y_pred)\n",
        "#         f1 = f1_score(y_test, y_pred)\n",
        "#         accuracy = accuracy_score(y_test, y_pred)\n",
        "\n",
        "#         precision_list.append(precision)\n",
        "#         recall_list.append(recall)\n",
        "#         f1_list.append(f1)\n",
        "#         accuracy_list.append(accuracy)\n",
        "\n",
        "#     print(f\"\\nModel: {name}\")\n",
        "#     print(f\"Precision: {np.mean(precision_list)}\")\n",
        "#     print(f\"Recall: {np.mean(recall_list)}\")\n",
        "#     print(f\"F1 Score: {np.mean(f1_list)}\")\n",
        "#     print(f\"Accuracy: {np.mean(accuracy_list)}\")\n",
        "#     print(\"------------------------\")\n"
      ]
    },
    {
      "cell_type": "code",
      "execution_count": null,
      "metadata": {
        "id": "_r8LuLGLebF7"
      },
      "outputs": [],
      "source": [
        "x_train, x_test, y_train, y_test = train_test_split(x,y,test_size = 0.3, random_state = 42, stratify = y)"
      ]
    },
    {
      "cell_type": "code",
      "execution_count": null,
      "metadata": {
        "id": "hOo7VWMmebF8"
      },
      "outputs": [],
      "source": [
        "from sklearn.preprocessing import RobustScaler\n",
        "scaler = RobustScaler()\n",
        "scaler.fit(x_train)\n",
        "x_train_scaled = scaler.transform(x_train)\n",
        "x_test_scaled = scaler.transform(x_test)"
      ]
    },
    {
      "cell_type": "code",
      "execution_count": null,
      "metadata": {
        "id": "os4PP2g1cmId"
      },
      "outputs": [],
      "source": [
        "from imblearn.over_sampling import SMOTE\n",
        "\n",
        "\n",
        "oversample = SMOTE()\n",
        "x_train_sampled, y_train_sampled = oversample.fit_resample(x_train_scaled, y_train)"
      ]
    },
    {
      "cell_type": "code",
      "execution_count": null,
      "metadata": {
        "colab": {
          "base_uri": "https://localhost:8080/"
        },
        "id": "UNBp3bGJdwJ8",
        "outputId": "f3a17d0d-0b9f-4b13-f3a6-3076afb8fdf0",
        "scrolled": true
      },
      "outputs": [
        {
          "name": "stdout",
          "output_type": "stream",
          "text": [
            "0    699829\n",
            "1    699829\n",
            "Name: Action, dtype: int64\n"
          ]
        }
      ],
      "source": [
        "print(pd.Series(y_train_sampled).value_counts())"
      ]
    },
    {
      "cell_type": "code",
      "execution_count": null,
      "metadata": {
        "colab": {
          "base_uri": "https://localhost:8080/",
          "height": 75
        },
        "id": "9QvAVPjWZq_y",
        "outputId": "099deef5-dc31-4a1c-d688-d1d598953600",
        "scrolled": true
      },
      "outputs": [
        {
          "data": {
            "text/plain": [
              "LogisticRegression(max_iter=1000, random_state=42)"
            ]
          },
          "execution_count": 136,
          "metadata": {},
          "output_type": "execute_result"
        }
      ],
      "source": [
        "\n",
        "# # model = RandomForestClassifier(n_estimators=100, random_state=42)\n",
        "# #model = DecisionTreeClassifier(class_weight='balanced')\n",
        "# # model = DecisionTreeClassifier(max_depth=20, random_state=42)\n",
        "lr = LogisticRegression(random_state=42, max_iter = 1000)\n",
        "# # model = LogisticRegression(penalty='l1', solver='liblinear')\n",
        "lr.fit(x_train_sampled, y_train_sampled)\n",
        "\n",
        "# # dt = DecisionTreeClassifier(random_state=42)\n",
        "\n",
        "# # dt.fit(x_train_sampled, y_train_sampled)\n"
      ]
    },
    {
      "cell_type": "code",
      "execution_count": null,
      "metadata": {
        "id": "KD8Oo6UcebF8",
        "outputId": "f925e4a5-413f-426f-cef2-e8a36abfbd75"
      },
      "outputs": [
        {
          "name": "stdout",
          "output_type": "stream",
          "text": [
            "                       Feature  Importance\n",
            "4        Website_Craigslist.ca    5.875804\n",
            "12             Website_Twitter    4.935400\n",
            "24          BannerSize_320x100    4.793874\n",
            "16             Website_Youtube    4.791977\n",
            "25          BannerSize_320x480    4.430350\n",
            "10           Website_Sympatico    4.420661\n",
            "28          BannerSize_750x125    4.394170\n",
            "8               Website_Kijiji    4.019835\n",
            "11           Website_TubeMogul    3.811505\n",
            "14             Website_Weather    3.690205\n",
            "20              BannerSize_1x1    3.565167\n",
            "18        BannerSize_1536x2048    3.408346\n",
            "6             Website_Facebook    3.196238\n",
            "22           BannerSize_300x50    2.965257\n",
            "15               Website_Yahoo    2.947900\n",
            "9                Website_Other    2.756507\n",
            "13             Website_Wayfair    2.632703\n",
            "31            BannerSize_other    2.308444\n",
            "7            Website_Instagram    2.299223\n",
            "2               Website_Amazon    2.125040\n",
            "1                  Website_AOL    1.770102\n",
            "5              Website_Expedia    1.740026\n",
            "19          BannerSize_160x600    1.621113\n",
            "17         BannerSize_1200x627    0.851603\n",
            "27           BannerSize_728x90    0.780271\n",
            "21          BannerSize_300x250    0.703104\n",
            "46                colour_White    0.676139\n",
            "35                Brand_Disney    0.572989\n",
            "23          BannerSize_300x600    0.567526\n",
            "26           BannerSize_320x50    0.537616\n",
            "32       Brand_Banana Republic    0.535054\n",
            "30            BannerSize_Other    0.486649\n",
            "42                 colour_Blue    0.367914\n",
            "39  Brand_The Children's Place    0.355437\n",
            "29         BannerSize_768x1024    0.283107\n",
            "41              Brand_gymboree    0.278162\n",
            "36                   Brand_Gap    0.276597\n",
            "34              Brand_Carter's    0.267682\n",
            "48                colour_other    0.245143\n",
            "43                 colour_Gold    0.213875\n",
            "44                 colour_Pink    0.193910\n",
            "33              Brand_Burberry    0.111041\n",
            "45                  colour_Red    0.066427\n",
            "40                  Brand_Zara    0.048808\n",
            "3               Website_Atedra    0.044830\n",
            "37              Brand_JoeFresh    0.024178\n",
            "0              InteractionTime    0.023362\n",
            "47               colour_Yellow    0.002700\n",
            "38              Brand_Old Navy    0.002161\n"
          ]
        }
      ],
      "source": [
        "feature_importances_log_reg = abs(lr.coef_[0])\n",
        "\n",
        "feature_importances_df_log_reg = pd.DataFrame({\n",
        "    'Feature': x_train.columns,\n",
        "    'Importance': feature_importances_log_reg\n",
        "})\n",
        "\n",
        "feature_importances_df_log_reg.sort_values(by='Importance', ascending=False, inplace=True)\n",
        "\n",
        "print(feature_importances_df_log_reg)\n",
        "\n"
      ]
    },
    {
      "cell_type": "code",
      "execution_count": null,
      "metadata": {
        "id": "IXQtmGGTeL8L",
        "scrolled": true
      },
      "outputs": [],
      "source": [
        "y_train_pred = lr.predict(x_train_sampled)\n",
        "y_test_pred = lr.predict(x_test_scaled)"
      ]
    },
    {
      "cell_type": "code",
      "execution_count": null,
      "metadata": {
        "colab": {
          "base_uri": "https://localhost:8080/",
          "height": 389
        },
        "id": "dRnzfPVBefGK",
        "outputId": "c54cf923-ac17-480a-fb2c-57187998d49e",
        "scrolled": true
      },
      "outputs": [
        {
          "name": "stdout",
          "output_type": "stream",
          "text": [
            "Train score: 0.6633727667758839\n",
            "Test score: 0.5594566666666667\n",
            "Confusion Matrix: \n",
            " [[167796 132131]\n",
            " [    32     41]]\n",
            "              precision    recall  f1-score   support\n",
            "\n",
            "           0       1.00      0.56      0.72    299927\n",
            "           1       0.00      0.56      0.00        73\n",
            "\n",
            "    accuracy                           0.56    300000\n",
            "   macro avg       0.50      0.56      0.36    300000\n",
            "weighted avg       1.00      0.56      0.72    300000\n",
            "\n"
          ]
        }
      ],
      "source": [
        "from sklearn.metrics import accuracy_score, confusion_matrix, classification_report\n",
        "print('Train score:',accuracy_score(y_train_sampled, y_train_pred))\n",
        "print('Test score:',accuracy_score(y_test, y_test_pred))\n",
        "print(\"Confusion Matrix: \\n\",confusion_matrix(y_test, y_test_pred))\n",
        "print(classification_report(y_test, y_test_pred))"
      ]
    },
    {
      "cell_type": "markdown",
      "metadata": {
        "id": "laGsuDGJebF9"
      },
      "source": [
        "## Decision Tree"
      ]
    },
    {
      "cell_type": "code",
      "execution_count": null,
      "metadata": {
        "id": "i1e5sdS4ebF9"
      },
      "outputs": [],
      "source": []
    },
    {
      "cell_type": "code",
      "execution_count": null,
      "metadata": {
        "id": "joxRVuMyebF9"
      },
      "outputs": [],
      "source": [
        "x_train, x_test, y_train, y_test = train_test_split(x,y,test_size = 0.3, random_state = 42, stratify = y)"
      ]
    },
    {
      "cell_type": "code",
      "execution_count": null,
      "metadata": {
        "id": "-yvmX5FdebF-"
      },
      "outputs": [],
      "source": [
        "scaler = RobustScaler()\n",
        "scaler.fit(x_train)\n",
        "x_train_scaled = scaler.transform(x_train)\n",
        "x_test_scaled = scaler.transform(x_test)"
      ]
    },
    {
      "cell_type": "code",
      "execution_count": null,
      "metadata": {
        "id": "WOJylmsHebF-"
      },
      "outputs": [],
      "source": [
        "oversample = SMOTE()\n",
        "x_train_sampled, y_train_sampled = oversample.fit_resample(x_train_scaled, y_train)"
      ]
    },
    {
      "cell_type": "code",
      "execution_count": null,
      "metadata": {
        "id": "6rBTDUwtebF-",
        "outputId": "8a25192d-edbe-4471-cc95-4a28a8c45472"
      },
      "outputs": [
        {
          "name": "stdout",
          "output_type": "stream",
          "text": [
            "0    699829\n",
            "1    699829\n",
            "Name: Action, dtype: int64\n"
          ]
        }
      ],
      "source": [
        "print(pd.Series(y_train_sampled).value_counts())"
      ]
    },
    {
      "cell_type": "code",
      "execution_count": null,
      "metadata": {
        "scrolled": true,
        "id": "9SFlvTFoebF-",
        "outputId": "b5b66158-be94-4f3e-d555-3428c7ba22a2"
      },
      "outputs": [
        {
          "data": {
            "text/plain": [
              "DecisionTreeClassifier(random_state=42)"
            ]
          },
          "execution_count": 144,
          "metadata": {},
          "output_type": "execute_result"
        }
      ],
      "source": [
        "dt = DecisionTreeClassifier(random_state=42)\n",
        "\n",
        "dt.fit(x_train_sampled, y_train_sampled)"
      ]
    },
    {
      "cell_type": "code",
      "execution_count": null,
      "metadata": {
        "scrolled": false,
        "id": "vFUwbbsUebF-",
        "outputId": "aa635e45-f76d-4857-a7c6-dd71e31c95ac"
      },
      "outputs": [
        {
          "name": "stdout",
          "output_type": "stream",
          "text": [
            "                       feature    importance\n",
            "0              InteractionTime  1.287153e-01\n",
            "6             Website_Facebook  9.377271e-02\n",
            "34              Brand_Carter's  5.460466e-02\n",
            "27           BannerSize_728x90  5.321705e-02\n",
            "43                 colour_Gold  5.184397e-02\n",
            "44                 colour_Pink  5.166462e-02\n",
            "20              BannerSize_1x1  5.047726e-02\n",
            "32       Brand_Banana Republic  4.100500e-02\n",
            "33              Brand_Burberry  3.679736e-02\n",
            "21          BannerSize_300x250  3.624190e-02\n",
            "26           BannerSize_320x50  3.514704e-02\n",
            "11           Website_TubeMogul  3.280298e-02\n",
            "9                Website_Other  3.259157e-02\n",
            "47               colour_Yellow  3.163977e-02\n",
            "38              Brand_Old Navy  2.963900e-02\n",
            "19          BannerSize_160x600  2.545834e-02\n",
            "45                  colour_Red  2.525402e-02\n",
            "37              Brand_JoeFresh  2.336898e-02\n",
            "8               Website_Kijiji  2.070133e-02\n",
            "35                Brand_Disney  1.951466e-02\n",
            "41              Brand_gymboree  1.859351e-02\n",
            "23          BannerSize_300x600  1.695443e-02\n",
            "42                 colour_Blue  1.543702e-02\n",
            "40                  Brand_Zara  1.401571e-02\n",
            "36                   Brand_Gap  1.296674e-02\n",
            "48                colour_other  1.070366e-02\n",
            "46                colour_White  9.795163e-03\n",
            "30            BannerSize_Other  8.325588e-03\n",
            "39  Brand_The Children's Place  7.762350e-03\n",
            "2               Website_Amazon  4.553847e-03\n",
            "17         BannerSize_1200x627  4.326303e-03\n",
            "22           BannerSize_300x50  9.984548e-04\n",
            "24          BannerSize_320x100  9.618495e-04\n",
            "15               Website_Yahoo  1.193110e-04\n",
            "25          BannerSize_320x480  2.571186e-05\n",
            "28          BannerSize_750x125  2.841156e-06\n",
            "7            Website_Instagram  1.628732e-08\n",
            "13             Website_Wayfair  1.396594e-09\n",
            "16             Website_Youtube  0.000000e+00\n",
            "18        BannerSize_1536x2048  0.000000e+00\n",
            "1                  Website_AOL  0.000000e+00\n",
            "31            BannerSize_other  0.000000e+00\n",
            "12             Website_Twitter  0.000000e+00\n",
            "10           Website_Sympatico  0.000000e+00\n",
            "5              Website_Expedia  0.000000e+00\n",
            "4        Website_Craigslist.ca  0.000000e+00\n",
            "3               Website_Atedra  0.000000e+00\n",
            "29         BannerSize_768x1024  0.000000e+00\n",
            "14             Website_Weather  0.000000e+00\n"
          ]
        }
      ],
      "source": [
        "importances_dt = dt.feature_importances_\n",
        "\n",
        "# # Create a pandas dataframe to hold features and their importances\n",
        "feature_importances_dt = pd.DataFrame({\"feature\": x.columns, \"importance\": importances_dt})\n",
        "\n",
        "# # sort the features by importance\n",
        "feature_importances_dt = feature_importances_dt.sort_values(\"importance\", ascending=False)\n",
        "\n",
        "# # print the features and their importances\n",
        "print(feature_importances_dt)"
      ]
    },
    {
      "cell_type": "code",
      "execution_count": null,
      "metadata": {
        "id": "EqtkBPkJebF-"
      },
      "outputs": [],
      "source": [
        "y_train_pred = dt.predict(x_train_sampled)\n",
        "y_test_pred = dt.predict(x_test_scaled)"
      ]
    },
    {
      "cell_type": "code",
      "execution_count": null,
      "metadata": {
        "id": "HVaN842AebF-",
        "outputId": "de410c5a-8763-45ef-bd5b-0322df353f5f"
      },
      "outputs": [
        {
          "name": "stdout",
          "output_type": "stream",
          "text": [
            "Train score: 0.9999592757659371\n",
            "Test score: 0.9717966666666666\n",
            "Confusion Matrix: \n",
            " [[291536   8391]\n",
            " [    70      3]]\n",
            "              precision    recall  f1-score   support\n",
            "\n",
            "           0       1.00      0.97      0.99    299927\n",
            "           1       0.00      0.04      0.00        73\n",
            "\n",
            "    accuracy                           0.97    300000\n",
            "   macro avg       0.50      0.51      0.49    300000\n",
            "weighted avg       1.00      0.97      0.99    300000\n",
            "\n"
          ]
        }
      ],
      "source": [
        "print('Train score:',accuracy_score(y_train_sampled, y_train_pred))\n",
        "print('Test score:',accuracy_score(y_test, y_test_pred))\n",
        "print(\"Confusion Matrix: \\n\",confusion_matrix(y_test, y_test_pred))\n",
        "print(classification_report(y_test, y_test_pred))"
      ]
    },
    {
      "cell_type": "code",
      "execution_count": null,
      "metadata": {
        "id": "wbyO-69iebF_"
      },
      "outputs": [],
      "source": []
    },
    {
      "cell_type": "code",
      "execution_count": null,
      "metadata": {
        "id": "zLnyESUhebF_"
      },
      "outputs": [],
      "source": [
        "# from sklearn.model_selection import GridSearchCV\n",
        "\n",
        "# param_grid = {\n",
        "#     'n_estimators': [100, 200, 300],  # Number of trees in the forest\n",
        "#     'max_depth': [None, 5, 10],       # Maximum depth of the trees\n",
        "#     'min_samples_split': [2, 5, 10]   # Minimum number of samples required to split an internal node\n",
        "# }\n",
        "\n",
        "\n",
        "\n",
        "# grid_search = GridSearchCV(estimator=lr, param_grid=param_grid, scoring='accuracy', cv=5)\n",
        "\n",
        "# grid_search.fit(x_train_sampled, y_train_sampled)\n",
        "\n",
        "# print(\"Best Hyperparameters:\", grid_search.best_params_)\n",
        "# print(\"Best Score:\", grid_search.best_score_)\n",
        "\n",
        "# best_model = grid_search.best_estimator_"
      ]
    },
    {
      "cell_type": "code",
      "execution_count": null,
      "metadata": {
        "id": "GHJh5MMVebF_",
        "outputId": "431e4b57-93d4-45a4-daca-3abcf0fb25d5"
      },
      "outputs": [
        {
          "name": "stdout",
          "output_type": "stream",
          "text": [
            "Best parameters:  {'C': 0.001}\n",
            "Best cross-validation score:  0.6642529816492484\n"
          ]
        },
        {
          "name": "stderr",
          "output_type": "stream",
          "text": [
            "/Users/emmanuelnnadi/opt/anaconda3/lib/python3.9/site-packages/sklearn/base.py:443: UserWarning: X has feature names, but LogisticRegression was fitted without feature names\n",
            "  warnings.warn(\n"
          ]
        },
        {
          "name": "stdout",
          "output_type": "stream",
          "text": [
            "              precision    recall  f1-score   support\n",
            "\n",
            "           0       1.00      0.19      0.32    299927\n",
            "           1       0.00      0.89      0.00        73\n",
            "\n",
            "    accuracy                           0.19    300000\n",
            "   macro avg       0.50      0.54      0.16    300000\n",
            "weighted avg       1.00      0.19      0.32    300000\n",
            "\n"
          ]
        }
      ],
      "source": [
        "from sklearn.model_selection import GridSearchCV\n",
        "\n",
        "# Define the parameter grid\n",
        "param_grid = {'C': [0.001, 0.01, 0.1, 1, 10, 100]}\n",
        "\n",
        "# Initialize a GridSearchCV object\n",
        "grid_search = GridSearchCV(LogisticRegression(random_state=42, max_iter=1000), param_grid, cv=5)\n",
        "\n",
        "# Fit GridSearchCV on the under-sampled training data\n",
        "grid_search.fit(x_train_sampled, y_train_sampled)\n",
        "\n",
        "# Print the best parameters and the best score\n",
        "print(\"Best parameters: \", grid_search.best_params_)\n",
        "print(\"Best cross-validation score: \", grid_search.best_score_)\n",
        "\n",
        "# Train a logistic regression model with the best parameters\n",
        "log_reg_best = LogisticRegression(C=grid_search.best_params_['C'], random_state=42, max_iter=1000)\n",
        "log_reg_best.fit(x_train_sampled, y_train_sampled)\n",
        "\n",
        "# Make predictions on the test set\n",
        "y_pred_best = log_reg_best.predict(x_test)\n",
        "\n",
        "# Print a classification report\n",
        "report_best = classification_report(y_test, y_pred_best)\n",
        "print(report_best)\n"
      ]
    },
    {
      "cell_type": "code",
      "execution_count": null,
      "metadata": {
        "scrolled": true,
        "id": "ChkNe7qeebF_",
        "outputId": "db7e385e-02bd-4d52-9549-80fdcc934957"
      },
      "outputs": [
        {
          "name": "stdout",
          "output_type": "stream",
          "text": [
            "Cross-validation scores:  [0.66299316 0.66232871 0.66265022 0.66387788 0.66188096]\n",
            "Average cross-validation score:  0.6627461853298999\n"
          ]
        }
      ],
      "source": [
        "from sklearn.model_selection import cross_val_score\n",
        "\n",
        "# instantiate the model\n",
        "\n",
        "\n",
        "# perform k-fold cross-validation. The cv is set to 5 so we can test it 5 times.\n",
        "scores = cross_val_score(lr, x_train_sampled, y_train_sampled, cv=5)\n",
        "\n",
        "print(\"Cross-validation scores: \", scores)\n",
        "print(\"Average cross-validation score: \", scores.mean())"
      ]
    },
    {
      "cell_type": "markdown",
      "metadata": {
        "id": "YmyFT9lTebF_"
      },
      "source": [
        "In this case, the model has an average accuracy of approximately 66.27% on the training data based on the cross-validation procedure."
      ]
    },
    {
      "cell_type": "code",
      "execution_count": null,
      "metadata": {
        "id": "c4B-yfNgebF_",
        "outputId": "8a0a981a-85f8-43a7-8716-7d100fcfc094"
      },
      "outputs": [
        {
          "name": "stdout",
          "output_type": "stream",
          "text": [
            "Cross-validation scores:  [0.97131803 0.97120015 0.97210751 0.97179662 0.97156799]\n",
            "Average cross-validation score:  0.9715980619326228\n"
          ]
        }
      ],
      "source": [
        "from sklearn.model_selection import cross_val_score\n",
        "\n",
        "# instantiate the model\n",
        "\n",
        "\n",
        "# perform k-fold cross-validation. The cv is set to 5 so we can test it 5 times.\n",
        "scores = cross_val_score(dt, x_train_sampled, y_train_sampled, cv=5)\n",
        "\n",
        "print(\"Cross-validation scores: \", scores)\n",
        "print(\"Average cross-validation score: \", scores.mean())"
      ]
    },
    {
      "cell_type": "markdown",
      "metadata": {
        "id": "yo57uDzpebF_"
      },
      "source": [
        "The Decision Tree Classifier has an average accuracy of approximately 97.16% on the training data based on the cross-validation procedure. It is a better fit for the this case however both Models produce an F1 score of zero. Suggesting that we indeed need more data to proceed.\n",
        "\n",
        "The Click to View is still too heavily imbalanced."
      ]
    }
  ],
  "metadata": {
    "colab": {
      "collapsed_sections": [
        "rP-jx-yGfGOJ",
        "hugXrDIbghla",
        "UUbhUOOtPj5H"
      ],
      "provenance": []
    },
    "kernelspec": {
      "display_name": "Python 3 (ipykernel)",
      "language": "python",
      "name": "python3"
    },
    "language_info": {
      "codemirror_mode": {
        "name": "ipython",
        "version": 3
      },
      "file_extension": ".py",
      "mimetype": "text/x-python",
      "name": "python",
      "nbconvert_exporter": "python",
      "pygments_lexer": "ipython3",
      "version": "3.9.13"
    }
  },
  "nbformat": 4,
  "nbformat_minor": 0
}